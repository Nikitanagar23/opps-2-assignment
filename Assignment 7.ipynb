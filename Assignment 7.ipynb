{
 "cells": [
  {
   "cell_type": "code",
   "execution_count": null,
   "id": "fe0c6b21-2286-4da9-aa49-733765b25eaf",
   "metadata": {
    "tags": []
   },
   "outputs": [],
   "source": [
    "#OOPS ASSIGNMENT"
   ]
  },
  {
   "cell_type": "code",
   "execution_count": 2,
   "id": "1903e935-3458-45ee-b4e9-8c613e5610cb",
   "metadata": {
    "tags": []
   },
   "outputs": [],
   "source": [
    "#CONSTRUCTOR:"
   ]
  },
  {
   "cell_type": "code",
   "execution_count": 3,
   "id": "1a96fb6c-e59b-447a-9896-06a90b1bb0bc",
   "metadata": {
    "tags": []
   },
   "outputs": [],
   "source": [
    "#QUESTION 1 "
   ]
  },
  {
   "cell_type": "code",
   "execution_count": 1,
   "id": "7d1dc7a2-f013-477f-8cc4-7aab6bc910da",
   "metadata": {
    "tags": []
   },
   "outputs": [],
   "source": [
    "#WHAT IS A CONSTRUCTOR IN PYTHON? EXPLAIN ITS PURPOSE AND USAGE."
   ]
  },
  {
   "cell_type": "code",
   "execution_count": null,
   "id": "a663ed53-4e1e-4b39-b741-b75f1a6d8479",
   "metadata": {},
   "outputs": [],
   "source": [
    "\"\"\"A constructor in python is a special method that is automatically called when you create an object of a class.\n",
    "its purpose is to initialize the object's attributes or perform any necessary setups.\n",
    "you can define the constructor in a class using the `__init__` method. This method takes the `self` parameter, \n",
    "which refers to the instance of the object being created, and any other parameters you want to pass to it.\n",
    "\n",
    "here's an example:\n",
    "\n",
    "class MyClass:\n",
    "    def __init__(self, parameter1, parameter2):\n",
    "        self.attribute1=parameter1\n",
    "        self.attribute2=parameter2\n",
    "        \n",
    "        \n",
    "the construtor is useful for setting up the initial state of an object and ensuring that it has all the necessary\n",
    "attributes before you start using it"
   ]
  },
  {
   "cell_type": "code",
   "execution_count": null,
   "id": "a884bf6e-9cfa-40bf-aa55-5bfb3bca3e06",
   "metadata": {},
   "outputs": [],
   "source": []
  },
  {
   "cell_type": "code",
   "execution_count": null,
   "id": "d896546d-635f-4803-9649-0163826b5a4b",
   "metadata": {},
   "outputs": [],
   "source": []
  },
  {
   "cell_type": "code",
   "execution_count": 5,
   "id": "f63dcb9a-0f41-4832-94d9-6a1edeb6076a",
   "metadata": {
    "tags": []
   },
   "outputs": [],
   "source": [
    "#QUESTION 2 "
   ]
  },
  {
   "cell_type": "code",
   "execution_count": 3,
   "id": "95315b57-4d85-466e-a229-697f3d6726b9",
   "metadata": {
    "tags": []
   },
   "outputs": [],
   "source": [
    "#DIFFERETIATE BETWEEN A PARAMETERLESS CONSTRUCTOR AND A PARAMETERIZED CONSTRUCTOR IN PYTHON."
   ]
  },
  {
   "cell_type": "code",
   "execution_count": null,
   "id": "d18de7e6-41cf-41ee-ba18-3ccefdda2545",
   "metadata": {},
   "outputs": [],
   "source": [
    "\"\"\"A parameterless constructor, also known as a default constructor, is a constructor that doesn't take any\n",
    "parameters. it is defined without any arguments in the `__init__` method. its purpose is to initialize the object\n",
    "attributes with default values\n",
    "\n",
    "example of a parameterless constructor:\n",
    "class MyClass:\n",
    "    def __init__(self):\n",
    "        self.attribute1=\"default_value1\"\n",
    "        self.attribute2=\"default_value2\"\n",
    "        \n",
    "on the other hand, a parameterized constructor is a constructor that takes one or more parameters. it is defined \n",
    "with arguments in the `__init__` method. Its purpose is to initialize the object's attributes with the values\n",
    "passed as arguments.\n",
    "\n",
    "example of a parameterized constructor:\n",
    "class MyClass:\n",
    "    def __init__(self,parameter1,parameter2):\n",
    "        self.attribute1=parameter1\n",
    "        self.attribute2=parameter2\n",
    "        \n",
    "so, the main difference between a parameterless constructor and a parameterized constructor is that the \n",
    "parameterless constructor doesn't take any arguments, while the parameterized constructor takes one or more \n",
    "arguments to initilize the object's attributes\n"
   ]
  },
  {
   "cell_type": "code",
   "execution_count": null,
   "id": "33844941-0d65-420a-85f9-7921745bdaf6",
   "metadata": {},
   "outputs": [],
   "source": []
  },
  {
   "cell_type": "code",
   "execution_count": null,
   "id": "9fd3995a-fe71-4095-8b16-39bcedbc2697",
   "metadata": {},
   "outputs": [],
   "source": []
  },
  {
   "cell_type": "code",
   "execution_count": 7,
   "id": "34099247-26ae-4bfc-822e-8091bbd87093",
   "metadata": {
    "tags": []
   },
   "outputs": [],
   "source": [
    "#QUESTION 3"
   ]
  },
  {
   "cell_type": "code",
   "execution_count": 8,
   "id": "7d4c468f-b6e0-4d05-89ec-403a4d9a982e",
   "metadata": {
    "tags": []
   },
   "outputs": [],
   "source": [
    "# HOW DO YOU DEFINE A CONSTRUCTOR IN A PYTHON CLASS? PROVIDE AN EXAMPLE."
   ]
  },
  {
   "cell_type": "code",
   "execution_count": null,
   "id": "0b219bb6-470c-4b4b-96e5-9a794d48444c",
   "metadata": {},
   "outputs": [],
   "source": [
    "\"\"\"To define a constructor in a python class, we use `__init__` method. Its like a special function that gets \n",
    "automatically called when you create an object an object of that class.\n",
    "\n",
    "HERE'S AN EXAMPLE\n",
    "class MyClass:\n",
    "    def __init__(self, parameter1, parameter2):\n",
    "        self.attribute1=parameter1\n",
    "        self.attribute2=parameter2\n",
    "\n",
    "in this example, we define a constructor for the `MyClass` class. The `__init__` method takes the `self` parameter\n",
    "Which refers to the instance of the object created, and any other parameters you want to pass to it.\n",
    "\n",
    "my_object=MyClass(value1,value2)\n",
    "\n",
    "here, value1 and value2 are the values that you want to pass to the constructor. The constructor will then assign \n",
    "these value to the object's attributes."
   ]
  },
  {
   "cell_type": "code",
   "execution_count": null,
   "id": "66267b62-b18d-4fb1-96a1-ecbdf2087d04",
   "metadata": {},
   "outputs": [],
   "source": []
  },
  {
   "cell_type": "code",
   "execution_count": null,
   "id": "8b7cd214-4d76-47d6-bbb6-741d2bd8216c",
   "metadata": {},
   "outputs": [],
   "source": []
  },
  {
   "cell_type": "code",
   "execution_count": 9,
   "id": "f66f89e9-7410-4cbe-bfff-c1e47f1e8848",
   "metadata": {
    "tags": []
   },
   "outputs": [],
   "source": [
    "#QUESTION 4"
   ]
  },
  {
   "cell_type": "code",
   "execution_count": 10,
   "id": "71984818-aaac-46a3-98f3-1f167ab11c9c",
   "metadata": {
    "tags": []
   },
   "outputs": [],
   "source": [
    "#EXPLAIN THE _ _init_ _ METHOD IN PYTHON AND ITS ROLE IN CONSTRUCTORS."
   ]
  },
  {
   "cell_type": "code",
   "execution_count": 8,
   "id": "d8d5c5d7-3a7b-4ed9-92ca-18be32b672a6",
   "metadata": {},
   "outputs": [],
   "source": [
    "\"\"\"The __init__ method in python is a special method used to initilized objects of a class. it is called \n",
    "automatically when a new instance of the class is created. within the __init__ method, you can define and assign\n",
    "values to the attributes of the objects. It is commonly used to set the initial state of an object and perform \n",
    "any necessary setup or initialization tasks.\n",
    "\n",
    "The `__init__` method in python does not have a direct role in constraints. it is primarily used for object \n",
    "initilization and setting up the initial state of an object. However, constrains can be implemented within the \n",
    "`__init__` method or other methods of a class to enforce certain conditions or limitations on the object's \n",
    "attributes or behavior.\n",
    "for example,\n",
    "we can add check or validations within the `__init__` method to ensure that the values assigned to the object's \n",
    "attributes meet specific criteria or constraints."
   ]
  },
  {
   "cell_type": "code",
   "execution_count": null,
   "id": "fb5a1801-1b0d-45ab-9302-2130f98cd681",
   "metadata": {},
   "outputs": [],
   "source": []
  },
  {
   "cell_type": "code",
   "execution_count": null,
   "id": "9895017d-39f4-4f39-a994-afddb7f61fb4",
   "metadata": {},
   "outputs": [],
   "source": []
  },
  {
   "cell_type": "code",
   "execution_count": 11,
   "id": "af2b5a2d-436d-41f3-a3f3-d217e68a4b7a",
   "metadata": {
    "tags": []
   },
   "outputs": [],
   "source": [
    "#QUESTION 5"
   ]
  },
  {
   "cell_type": "code",
   "execution_count": 12,
   "id": "2aba523d-caf6-4f20-8258-0e12982e3fbb",
   "metadata": {
    "tags": []
   },
   "outputs": [],
   "source": [
    "#IN A CLASS NAMED `PERSON`, CREATE A CONSTRUCTOR THAT INITIALIZES THE `NAME` AND `AGE` ATTRIBUTES. pROVIDE AN EXAMPLE OF CREATING AN OBJECT OF THIS CLASS."
   ]
  },
  {
   "cell_type": "code",
   "execution_count": 1,
   "id": "e52b4ea0-b696-4be7-b9ce-5b410c532aa3",
   "metadata": {},
   "outputs": [
    {
     "name": "stdout",
     "output_type": "stream",
     "text": [
      "Name: John Doe\n",
      "Age: 25\n"
     ]
    }
   ],
   "source": [
    "class Person:\n",
    "    def __init__(self,name,age):\n",
    "        self.name = name\n",
    "        self.age = age\n",
    "person1 = Person(\"John Doe\", 25)\n",
    "print(\"Name:\",person1.name)\n",
    "print(\"Age:\",person1.age)"
   ]
  },
  {
   "cell_type": "code",
   "execution_count": null,
   "id": "0e05668b-5f21-402f-a2bb-bf648bec26aa",
   "metadata": {},
   "outputs": [],
   "source": []
  },
  {
   "cell_type": "code",
   "execution_count": null,
   "id": "58edd5eb-2ee1-4eaf-be62-c2709b7bf14f",
   "metadata": {},
   "outputs": [],
   "source": []
  },
  {
   "cell_type": "code",
   "execution_count": 13,
   "id": "ac183b0e-5552-42d3-8d66-830ee7c310d9",
   "metadata": {
    "tags": []
   },
   "outputs": [],
   "source": [
    "#QUESTION 6"
   ]
  },
  {
   "cell_type": "code",
   "execution_count": 14,
   "id": "7e5e994e-4609-45f0-90ff-698dc1e830e3",
   "metadata": {
    "tags": []
   },
   "outputs": [],
   "source": [
    "#HOW CAN YOU CALL A CONSTRUCTOR EXPILICITY IN PYTHON? GIVE AN EXAMPLE"
   ]
  },
  {
   "cell_type": "code",
   "execution_count": 5,
   "id": "f49ec71a-cbac-4e56-bf3f-041a3595dd06",
   "metadata": {},
   "outputs": [
    {
     "name": "stdout",
     "output_type": "stream",
     "text": [
      "Toyota\n",
      "The Toyota car's engine is starting.\n"
     ]
    }
   ],
   "source": [
    "class Car:\n",
    "    def __init__(self,brand):\n",
    "        self.brand=brand\n",
    "    def start_engine(self):\n",
    "        print(f\"The {self.brand} car's engine is starting.\")\n",
    "my_car = Car(\"Toyota\")\n",
    "print(my_car.brand)\n",
    "my_car.start_engine()"
   ]
  },
  {
   "cell_type": "code",
   "execution_count": null,
   "id": "4e4d88a8-29b0-40f7-b9e1-39264777cdab",
   "metadata": {},
   "outputs": [],
   "source": []
  },
  {
   "cell_type": "code",
   "execution_count": null,
   "id": "423934e4-3ac9-4690-b1bc-d6c7d3ab745c",
   "metadata": {},
   "outputs": [],
   "source": []
  },
  {
   "cell_type": "code",
   "execution_count": 15,
   "id": "1bc98222-683f-4c44-83b4-bd286fd87d52",
   "metadata": {
    "tags": []
   },
   "outputs": [],
   "source": [
    "#QUESTION 7"
   ]
  },
  {
   "cell_type": "code",
   "execution_count": 16,
   "id": "c6ff3aeb-1d1a-4eec-b6d0-2f93be158a0b",
   "metadata": {
    "tags": []
   },
   "outputs": [],
   "source": [
    "#WHAT IS THE SIGNIFICANCE OF THE `SELF` PARAMETER IN PYTHON CONSTRUCTORS? EXPLAIN WITH AN EXAMPLE"
   ]
  },
  {
   "cell_type": "code",
   "execution_count": null,
   "id": "f0e66144-fd37-45f9-8ba4-7c90cbf9c0d1",
   "metadata": {},
   "outputs": [],
   "source": [
    "\"\"\"in python, 'self' parameter in constructors (and methods) refers to the instance of the class. it allows you to\n",
    "access and modify the instance's attributes within the class. when you create an object, the instance is \n",
    "automatically passed as the first parameter to the constructor."
   ]
  },
  {
   "cell_type": "code",
   "execution_count": 9,
   "id": "b82905c4-1ea5-4a55-9298-2e9c0d381913",
   "metadata": {},
   "outputs": [
    {
     "name": "stdout",
     "output_type": "stream",
     "text": [
      "Name: Alice\n",
      "Age: 30\n"
     ]
    }
   ],
   "source": [
    "class Person:\n",
    "    def __init__(self,name,age):\n",
    "        self.name = name\n",
    "        self.age = age\n",
    "    def display_info(self):\n",
    "        print(\"Name:\",self.name)\n",
    "        print(\"Age:\",self.age)\n",
    "person1 = Person(\"Alice\", 30)\n",
    "person1.display_info()"
   ]
  },
  {
   "cell_type": "code",
   "execution_count": null,
   "id": "f42098b6-c82c-4e83-b0e6-3a7094c56873",
   "metadata": {},
   "outputs": [],
   "source": []
  },
  {
   "cell_type": "code",
   "execution_count": null,
   "id": "eed0ce6b-abc8-43c6-a8c0-43d0f99a8bc7",
   "metadata": {},
   "outputs": [],
   "source": []
  },
  {
   "cell_type": "code",
   "execution_count": 17,
   "id": "d4e8fdfa-97d5-4cba-99de-d9b4eb41b4f6",
   "metadata": {
    "tags": []
   },
   "outputs": [],
   "source": [
    "#QUESTION 8"
   ]
  },
  {
   "cell_type": "code",
   "execution_count": 18,
   "id": "bdf9b3f8-55aa-4db2-9d30-be0cbf9d80a7",
   "metadata": {
    "tags": []
   },
   "outputs": [],
   "source": [
    "# DISCUSS THE CONCEPT OF DEFAULT CONSTRUCTORS IN PYTHON WHEN ARE THEY USED?"
   ]
  },
  {
   "cell_type": "code",
   "execution_count": null,
   "id": "c6ded249-5b26-4c00-b309-295e5265606e",
   "metadata": {},
   "outputs": [],
   "source": [
    "\"\"\"In python, a default constructor that is automatically provided by the language when you define a class without\n",
    "explicitly declaring a constructor. The default constructor takes no parameters(except the mandatory 'self' \n",
    "parameter) and does not perform any specific initialization.it is often referred to as the \"default\" or \"implicit\"\n",
    "constructor."
   ]
  },
  {
   "cell_type": "code",
   "execution_count": 10,
   "id": "0bd5c3b7-41d6-48bd-befb-f7aa7eb3bee3",
   "metadata": {
    "tags": []
   },
   "outputs": [
    {
     "name": "stdout",
     "output_type": "stream",
     "text": [
      "This is a method in MyClass.\n"
     ]
    }
   ],
   "source": [
    "class MyClass:\n",
    "    def method(self):\n",
    "        print(\"This is a method in MyClass.\")\n",
    "obj = MyClass()\n",
    "obj.method()"
   ]
  },
  {
   "cell_type": "code",
   "execution_count": null,
   "id": "e77d02af-38c5-4451-ba20-84bddae9ae3d",
   "metadata": {},
   "outputs": [],
   "source": []
  },
  {
   "cell_type": "code",
   "execution_count": null,
   "id": "1784b62e-878d-4b46-8fad-e8feee714779",
   "metadata": {},
   "outputs": [],
   "source": []
  },
  {
   "cell_type": "code",
   "execution_count": 19,
   "id": "5dd90021-f596-43e0-8274-3e09893ff115",
   "metadata": {
    "tags": []
   },
   "outputs": [],
   "source": [
    "#QUESTION 9"
   ]
  },
  {
   "cell_type": "code",
   "execution_count": 1,
   "id": "7453f1ca-2dc2-477f-99a5-8eb6ed509699",
   "metadata": {
    "tags": []
   },
   "outputs": [],
   "source": [
    "#CREATE A PYTHON ClASS CALLED `RECTANGLE` WITH A CONSTRUCTOR THAT INITIALIZES THE `WIDTH` AND `HEIGHT` ATTRIBUTES. PROVIDE A METHOD TO CALCULATE THE AREA OF THE RECTANGLE."
   ]
  },
  {
   "cell_type": "code",
   "execution_count": 3,
   "id": "23594a78-f039-42ba-8595-c034bb2d7aa8",
   "metadata": {},
   "outputs": [
    {
     "name": "stdout",
     "output_type": "stream",
     "text": [
      "The area of the rectangle is: 15\n"
     ]
    }
   ],
   "source": [
    "class Rectangle:\n",
    "    def __init__(self,width,height):\n",
    "        self.width=width\n",
    "        self.height=height\n",
    "    def calculate_area(self):\n",
    "        return self.width*self.height\n",
    "my_rectangle = Rectangle(5,3)\n",
    "area = my_rectangle.calculate_area()\n",
    "print(\"The area of the rectangle is:\",area)"
   ]
  },
  {
   "cell_type": "code",
   "execution_count": null,
   "id": "2442e49d-0b70-4c72-96be-14773f6a13e6",
   "metadata": {},
   "outputs": [],
   "source": []
  },
  {
   "cell_type": "code",
   "execution_count": null,
   "id": "2f9209c3-f8a1-4daf-9081-49832d93d124",
   "metadata": {},
   "outputs": [],
   "source": []
  },
  {
   "cell_type": "code",
   "execution_count": 21,
   "id": "689fe6a9-d808-4c51-a912-7173c44e7789",
   "metadata": {
    "tags": []
   },
   "outputs": [],
   "source": [
    "#QUESTION 10"
   ]
  },
  {
   "cell_type": "code",
   "execution_count": 22,
   "id": "e0bef4c8-066f-46f2-beb2-2d0ac2cb6447",
   "metadata": {
    "tags": []
   },
   "outputs": [],
   "source": [
    "#HOW CAN YOU HAAVE MULTIPLE CONSTRUCTORS IN A PYTHON CLASS? EXPLAIN WITH AN EXAMPLE"
   ]
  },
  {
   "cell_type": "code",
   "execution_count": null,
   "id": "b6a13b01-a255-4299-8fc3-9e56301a2d4a",
   "metadata": {},
   "outputs": [],
   "source": [
    "\"\"\"In python, you can't have multiple constructors in the same way you can in some other programing languages.\n",
    "hwever you can achieve similar functionality using default parameter values or class methods. "
   ]
  },
  {
   "cell_type": "code",
   "execution_count": 11,
   "id": "46e3829c-73a1-40dd-bd4c-aa2d8e302dc4",
   "metadata": {},
   "outputs": [
    {
     "name": "stdout",
     "output_type": "stream",
     "text": [
      "Object 1 - Value1: First\n",
      "Object 1 - Value1: default\n",
      "Object 2 - Value1: Second\n",
      "Object 2 - Value1: Custom value\n"
     ]
    }
   ],
   "source": [
    "class MyClass:\n",
    "    def __init__(self,value1,value2=\"default\"):\n",
    "        self.value1=value1\n",
    "        self.value2=value2\n",
    "obj1 = MyClass(\"First\")\n",
    "obj2 = MyClass(\"Second\",\"Custom value\")\n",
    "print(\"Object 1 - Value1:\", obj1.value1)\n",
    "print(\"Object 1 - Value1:\", obj1.value2)\n",
    "print(\"Object 2 - Value1:\", obj2.value1)\n",
    "print(\"Object 2 - Value1:\", obj2.value2)"
   ]
  },
  {
   "cell_type": "code",
   "execution_count": null,
   "id": "8235a36c-822e-4516-a946-ac17bb6724fc",
   "metadata": {},
   "outputs": [],
   "source": []
  },
  {
   "cell_type": "code",
   "execution_count": null,
   "id": "a3fcae37-8870-4313-9453-8b19ee553086",
   "metadata": {},
   "outputs": [],
   "source": []
  },
  {
   "cell_type": "code",
   "execution_count": 23,
   "id": "71a8320d-51ad-462f-a02c-3283b4b5e036",
   "metadata": {
    "tags": []
   },
   "outputs": [],
   "source": [
    "#QUESTION 11"
   ]
  },
  {
   "cell_type": "code",
   "execution_count": 24,
   "id": "3a54c39c-0f70-4447-b8fa-e7026bfafdc1",
   "metadata": {
    "tags": []
   },
   "outputs": [],
   "source": [
    "# WHAT IS METHOD OVERLOADING, AND HOW IS IT RELATED TO CONSTRUCTORS IN PYTHON?"
   ]
  },
  {
   "cell_type": "code",
   "execution_count": null,
   "id": "8cedca68-508c-4aa0-af45-40d9aca07c54",
   "metadata": {},
   "outputs": [],
   "source": [
    "\"\"\"Method overloading is a concept in object-oriented programming where multiple methods with the same name but \n",
    "different parameters are defined in a class. In python, method overloading is not directly supported like in some \n",
    "other languages, such as java or C++. however, you can achieve similar functionality in python using different\n",
    "approaches.\n",
    "In Python, constructors are special methods that are automatically called when an object is created. By default, \n",
    "Python does not support multiple contructors like some other programming languages. in python, a class can have\n",
    "only one constructor, which is the `__init__` method.\n",
    "however, you can simulate method overloading in python by using default parameter values in the constructor. By \n",
    "providing default values in the constructor. by providing default values for some or all of the constructor\n",
    "parameters, you can create different ways to initialize objects of the class."
   ]
  },
  {
   "cell_type": "code",
   "execution_count": 5,
   "id": "296aa38b-657b-41da-a47c-6e274a9038bf",
   "metadata": {},
   "outputs": [
    {
     "name": "stdout",
     "output_type": "stream",
     "text": [
      "Area of rectangle1: 0\n",
      "Area of rectangle2: 15\n"
     ]
    }
   ],
   "source": [
    "class Rectangle:\n",
    "    def __init__(self,width=0,height=0):\n",
    "        self.width=width\n",
    "        self.height=height\n",
    "    def calculate_area(self):\n",
    "        return self.width*self.height\n",
    "rectangle1=Rectangle()\n",
    "rectangle1 = Rectangle()\n",
    "area1=rectangle1.calculate_area()\n",
    "print(\"Area of rectangle1:\",area1)\n",
    "rectangle2 = Rectangle(5,3)\n",
    "area2 = rectangle2.calculate_area()\n",
    "print(\"Area of rectangle2:\",area2)"
   ]
  },
  {
   "cell_type": "code",
   "execution_count": null,
   "id": "301869f8-95da-4d7e-8ab9-2c50ba55299c",
   "metadata": {},
   "outputs": [],
   "source": []
  },
  {
   "cell_type": "code",
   "execution_count": 25,
   "id": "eaf151d1-8dd5-4db1-9b4f-8a0c719fb09d",
   "metadata": {
    "tags": []
   },
   "outputs": [],
   "source": [
    "#QUESTION 12"
   ]
  },
  {
   "cell_type": "code",
   "execution_count": 10,
   "id": "a3466a98-ba0e-4fd0-ab17-ee6a91124cd1",
   "metadata": {},
   "outputs": [],
   "source": [
    "# EXPLAIN THE USE OF THE `SUPPER()` FUNCTION IN PYTHON CONSTRUCTORS. PROVIDE AN EXAMPLE."
   ]
  },
  {
   "cell_type": "code",
   "execution_count": null,
   "id": "5e2718ae-de8e-4eba-aae8-b457b14bb7d5",
   "metadata": {},
   "outputs": [],
   "source": [
    "\"\"\"The `super()`function is used to call a method from the parent class within a subclass. it allows you to access\n",
    "and invoke the methods and attributes of the parents class.\n",
    "when used in a constructor, the `super()` function is typically used to initialize the attributes inherited from\n",
    "the parent class before adding any additional attributes specific to the subclass. This ensures that the \n",
    "initialization process of the parent class is properly executed."
   ]
  },
  {
   "cell_type": "code",
   "execution_count": 12,
   "id": "4b9788c7-be97-404d-9760-754b7a1fda5b",
   "metadata": {
    "tags": []
   },
   "outputs": [
    {
     "name": "stdout",
     "output_type": "stream",
     "text": [
      "John\n",
      "10\n"
     ]
    }
   ],
   "source": [
    "class Person:\n",
    "    def __init__(self,name):\n",
    "        self.name=name\n",
    "class Student(Person):\n",
    "    def __init__(self,name,grade):\n",
    "        super().__init__(name)\n",
    "        self.grade = grade\n",
    "student = Student(\"John\",10)\n",
    "print(student.name)\n",
    "print(student.grade)"
   ]
  },
  {
   "cell_type": "code",
   "execution_count": null,
   "id": "796b6bb5-12cd-43d5-beef-805e5b9c5644",
   "metadata": {},
   "outputs": [],
   "source": []
  },
  {
   "cell_type": "code",
   "execution_count": null,
   "id": "5b5c2f09-547e-4f09-be4e-44890dececfa",
   "metadata": {},
   "outputs": [],
   "source": []
  },
  {
   "cell_type": "code",
   "execution_count": 6,
   "id": "7875d55e-af26-4de5-a720-f450fc142b54",
   "metadata": {
    "tags": []
   },
   "outputs": [],
   "source": [
    "#QUESTION 13"
   ]
  },
  {
   "cell_type": "code",
   "execution_count": 7,
   "id": "d64497a9-f713-41a7-ae84-2fc5c57ba1e5",
   "metadata": {
    "tags": []
   },
   "outputs": [],
   "source": [
    "# CREATE A CLASS CALLED `BOOK` WITH A CONSTRUCTOR THAT INITIALIZES THE `TITLE`, `AUTHOR`, AND `PUBLISHED_YEAR` ATTRIBUTES. PROVIDE A METHOD TO DISPLAY BOOK DETAILS."
   ]
  },
  {
   "cell_type": "code",
   "execution_count": 3,
   "id": "fc45b633-9bab-49d6-9022-d69e7ca26820",
   "metadata": {},
   "outputs": [
    {
     "name": "stdout",
     "output_type": "stream",
     "text": [
      "Title:The Great Gatsby\n",
      "Author:F.Scott Fitzgerald\n",
      "Published Year:1925\n"
     ]
    }
   ],
   "source": [
    "class Book:\n",
    "    def __init__(self, title, author, published_year):\n",
    "        self.title = title\n",
    "        self.author = author\n",
    "        self.published_year = published_year\n",
    "    def display_details(self):\n",
    "        print(f\"Title:{self.title}\")\n",
    "        print(f\"Author:{self.author}\")\n",
    "        print(f\"Published Year:{self.published_year}\")\n",
    "book1 = Book(\"The Great Gatsby\", \"F.Scott Fitzgerald\", 1925)\n",
    "book1.display_details()"
   ]
  },
  {
   "cell_type": "code",
   "execution_count": null,
   "id": "161d8b33-0e64-4b91-8f74-80fbe0eae508",
   "metadata": {},
   "outputs": [],
   "source": []
  },
  {
   "cell_type": "code",
   "execution_count": null,
   "id": "db950557-80a1-4f7d-a0d0-df2a58b8fabe",
   "metadata": {},
   "outputs": [],
   "source": []
  },
  {
   "cell_type": "code",
   "execution_count": 9,
   "id": "2063d27b-6c58-449d-97fb-abb4e6e5344d",
   "metadata": {
    "tags": []
   },
   "outputs": [],
   "source": [
    "#QUESTION 14"
   ]
  },
  {
   "cell_type": "code",
   "execution_count": 10,
   "id": "cc901308-473c-4fde-b400-6aa82cec91ee",
   "metadata": {
    "tags": []
   },
   "outputs": [],
   "source": [
    "# DISCUSS THE DIFFERENCES BETWEEN CONSTRUCTORS AND REGULAR METHODS IN PYTHON CLASSES."
   ]
  },
  {
   "cell_type": "code",
   "execution_count": null,
   "id": "c2813cb9-e381-4af3-8766-bea1de09fb6a",
   "metadata": {},
   "outputs": [],
   "source": [
    "\"\"\"CONSTRUCTOR('_ _init_ _'):\n",
    "The primary purpose of a constructor is to initialize the attributes of an object when it is created. it is \n",
    "automatically called when you create an object of a class and is responsible for setting up the initial state of \n",
    "the object.\n",
    "\n",
    "REGULAR METHODS:\n",
    "regular methods, on the other hand, are used for performing various actions or operations on the object after it\n",
    "has been initialized. They can be called explicity on an object and may involve manipulating the object's \n",
    "attributes."
   ]
  },
  {
   "cell_type": "code",
   "execution_count": null,
   "id": "495977e8-f54e-4f3b-9947-0618ebe4df9d",
   "metadata": {},
   "outputs": [],
   "source": []
  },
  {
   "cell_type": "code",
   "execution_count": null,
   "id": "2774f21f-183a-401d-bae3-bfdccf048ba0",
   "metadata": {},
   "outputs": [],
   "source": []
  },
  {
   "cell_type": "code",
   "execution_count": 12,
   "id": "b2f06cec-b076-4f6f-9cce-032d10f4859a",
   "metadata": {
    "tags": []
   },
   "outputs": [],
   "source": [
    "#QUESTION 15"
   ]
  },
  {
   "cell_type": "code",
   "execution_count": 13,
   "id": "ffe7be0b-0c3f-4c99-b257-158e79907b69",
   "metadata": {
    "tags": []
   },
   "outputs": [],
   "source": [
    "#EXPLAIN THE ROLE OF THE `SELF` PARAMETER IN INSTANCE VARIABLE INITIALIZATION WITHIN A CONSTRUCTORS."
   ]
  },
  {
   "cell_type": "code",
   "execution_count": null,
   "id": "94109b56-1916-4f26-bb04-9419f0bde25e",
   "metadata": {},
   "outputs": [],
   "source": [
    "\"\"\"The 'self' parameter in a constructor plays a crucial role in instance variable initialization. In python, the\n",
    "`self` parameter is a convention that represents the instance of the class. it allows ypu to refer to and \n",
    "manipulate the attributes of the specific instance being created Here's why `self` is important in the instance\n",
    "variable initialization within a constructor."
   ]
  },
  {
   "cell_type": "code",
   "execution_count": null,
   "id": "b30f15cc-e164-403b-b49d-a7176cab721b",
   "metadata": {},
   "outputs": [],
   "source": []
  },
  {
   "cell_type": "code",
   "execution_count": null,
   "id": "da0054a9-28e9-4acc-b985-527ac1c2a63a",
   "metadata": {},
   "outputs": [],
   "source": []
  },
  {
   "cell_type": "code",
   "execution_count": 14,
   "id": "742ecbb7-4bed-4f78-978e-15b00b950d38",
   "metadata": {
    "tags": []
   },
   "outputs": [],
   "source": [
    "#QUESTION 16"
   ]
  },
  {
   "cell_type": "code",
   "execution_count": 15,
   "id": "57f9c1c4-5c07-4dd9-b83b-2d459322af40",
   "metadata": {
    "tags": []
   },
   "outputs": [],
   "source": [
    "#HOW DO YOU PREVENT A CLASS FROM HAVING MULTIPLE INSTANCES BY USING CONSTRUCTORS IN PYTHON? PROVIDE AN EXAMPLE."
   ]
  },
  {
   "cell_type": "code",
   "execution_count": null,
   "id": "c514e9fe-269c-409b-aa25-93e3d9a42095",
   "metadata": {},
   "outputs": [],
   "source": [
    "\"\"\"we can prevent a class from having multiple instances,we can use a design pattern called the singleton pattern.\n",
    "in python we can implement this pattern by overriding the `__new__` method of the class "
   ]
  },
  {
   "cell_type": "code",
   "execution_count": 7,
   "id": "960db855-2c2b-4c72-9e23-74de21fd5125",
   "metadata": {},
   "outputs": [
    {
     "name": "stdout",
     "output_type": "stream",
     "text": [
      "True\n"
     ]
    }
   ],
   "source": [
    "class SingletonClass:\n",
    "    _instance = None\n",
    "    \n",
    "    def __new__(cls,*args,**kwargs):\n",
    "        if not cls._instance:\n",
    "            cls._instance = super().__new__(cls,*args,**kwargs)\n",
    "        return cls._instance\n",
    "instance1 = SingletonClass()\n",
    "instance2 = SingletonClass()\n",
    "\n",
    "print(instance1 is instance2)"
   ]
  },
  {
   "cell_type": "code",
   "execution_count": null,
   "id": "e9195932-044f-4102-9feb-74fdfd7361e1",
   "metadata": {},
   "outputs": [],
   "source": []
  },
  {
   "cell_type": "code",
   "execution_count": null,
   "id": "0be05550-29a0-433c-8e32-f4a6d1cbb8c6",
   "metadata": {},
   "outputs": [],
   "source": []
  },
  {
   "cell_type": "code",
   "execution_count": 16,
   "id": "56168683-ca47-409f-96c6-a0adc668981b",
   "metadata": {
    "tags": []
   },
   "outputs": [],
   "source": [
    "#QUESTION 17"
   ]
  },
  {
   "cell_type": "code",
   "execution_count": 17,
   "id": "698e9ddb-789d-42c3-bbb3-b788f59543b3",
   "metadata": {
    "tags": []
   },
   "outputs": [],
   "source": [
    "# CREATE A PYTHON CLASS CALLED `STUDENT` WITH A CONSTRUCTOR THAT TAKES A LIST OF SUBJECTS AS A PARAMETER AND INITIALIZES THE SUBJECTS ATTRIBUTES."
   ]
  },
  {
   "cell_type": "code",
   "execution_count": 8,
   "id": "7e486af7-200f-4d5f-a420-c20ab88703bf",
   "metadata": {},
   "outputs": [
    {
     "name": "stdout",
     "output_type": "stream",
     "text": [
      "['Math', 'Science', 'History']\n"
     ]
    }
   ],
   "source": [
    "class Student:\n",
    "    def __init__(self,subjects):\n",
    "        self.subjects = subjects\n",
    "my_student=Student([\"Math\",\"Science\",\"History\"])\n",
    "print(my_student.subjects)"
   ]
  },
  {
   "cell_type": "code",
   "execution_count": null,
   "id": "aa0806ce-c929-4c95-8336-65d7e8ffc51c",
   "metadata": {},
   "outputs": [],
   "source": []
  },
  {
   "cell_type": "code",
   "execution_count": null,
   "id": "0799a490-151c-4273-9414-c7177ab622f8",
   "metadata": {},
   "outputs": [],
   "source": []
  },
  {
   "cell_type": "code",
   "execution_count": 18,
   "id": "ffce4615-73c9-4000-ba6c-b63e218a3eba",
   "metadata": {
    "tags": []
   },
   "outputs": [],
   "source": [
    "#QUESTION 18"
   ]
  },
  {
   "cell_type": "code",
   "execution_count": 19,
   "id": "e31da319-3b9f-4a33-8f8a-a628c2cf6dc3",
   "metadata": {
    "tags": []
   },
   "outputs": [],
   "source": [
    "#WHAT IS THE PURPOSE OF THE `_ _del_ _` METHOD IN PYTHON CLASSES, AND HOW DOES IT RELATE TO CONSTRUCTORS?"
   ]
  },
  {
   "cell_type": "code",
   "execution_count": 10,
   "id": "56cbc632-25a2-4b1b-872f-92b194de04aa",
   "metadata": {},
   "outputs": [
    {
     "name": "stdout",
     "output_type": "stream",
     "text": [
      "Deleting my_objectobject\n",
      "Deleting my_objectobject\n"
     ]
    }
   ],
   "source": [
    "class MyClass:\n",
    "    def __init__(self,name):\n",
    "        self.name=name\n",
    "    def __del__(self):\n",
    "        print(f\"Deleting {self.name}object\")\n",
    "obj = MyClass(\"my_object\")\n",
    "del obj"
   ]
  },
  {
   "cell_type": "code",
   "execution_count": null,
   "id": "f517ccab-9917-4da1-834f-d34e6be18e86",
   "metadata": {},
   "outputs": [],
   "source": []
  },
  {
   "cell_type": "code",
   "execution_count": null,
   "id": "417d78ea-5cc0-431a-9c74-bfbc311d621b",
   "metadata": {},
   "outputs": [],
   "source": []
  },
  {
   "cell_type": "code",
   "execution_count": 20,
   "id": "bf2130d9-0b58-4592-8d2d-d167676ae947",
   "metadata": {
    "tags": []
   },
   "outputs": [],
   "source": [
    "#QUESTION 19"
   ]
  },
  {
   "cell_type": "code",
   "execution_count": 21,
   "id": "34f9aec7-b8c3-4981-b19f-028a7ade06f3",
   "metadata": {
    "tags": []
   },
   "outputs": [],
   "source": [
    "#EXPLAIN THE USE OF CONSTRUCTOR CHAINING IN PYTHON. PROVIDE A PRACTICAL EXAMPLE."
   ]
  },
  {
   "cell_type": "code",
   "execution_count": 13,
   "id": "e0623d74-d594-434a-8eda-9b75305edc35",
   "metadata": {},
   "outputs": [
    {
     "name": "stdout",
     "output_type": "stream",
     "text": [
      "Name:John Doe, Employee ID:12345\n"
     ]
    }
   ],
   "source": [
    "class Person:\n",
    "    def __init__(self,name):\n",
    "        self.name=name\n",
    "class Employee(Person):\n",
    "    def __init__(self,name,employee_id):\n",
    "        super().__init__(name)\n",
    "        self.employee_id = employee_id\n",
    "    def display_info(self):\n",
    "        print(f\"Name:{self.name}, Employee ID:{self.employee_id}\")\n",
    "emp = Employee(\"John Doe\" ,12345)\n",
    "emp.display_info()\n",
    "\n",
    "        "
   ]
  },
  {
   "cell_type": "code",
   "execution_count": null,
   "id": "db8892f0-89df-459f-a99a-f60296e18e74",
   "metadata": {},
   "outputs": [],
   "source": []
  },
  {
   "cell_type": "code",
   "execution_count": null,
   "id": "6802c927-26a6-4502-8935-098b1fc957bd",
   "metadata": {},
   "outputs": [],
   "source": []
  },
  {
   "cell_type": "code",
   "execution_count": 22,
   "id": "cc3604d5-7f64-480f-885f-0c9ffdeef04c",
   "metadata": {
    "tags": []
   },
   "outputs": [],
   "source": [
    "#QUESTION 20"
   ]
  },
  {
   "cell_type": "code",
   "execution_count": 23,
   "id": "b6306ef5-9122-4b16-9827-c978079ebad8",
   "metadata": {
    "tags": []
   },
   "outputs": [],
   "source": [
    "# CREATE A PYTHON CLASS CALLED `CAR` WITH A DEFAULT CONSTRUCTOR THAT INITIALIZES THE `MAKE` AND `MODEL` ATTRIBUTES. PROVIDE A METHOD TO DISPLAY CAR INFORMATION."
   ]
  },
  {
   "cell_type": "code",
   "execution_count": 15,
   "id": "7bafa4e7-89a7-454b-a25e-c55c577fbb62",
   "metadata": {},
   "outputs": [
    {
     "name": "stdout",
     "output_type": "stream",
     "text": [
      "Make:Toyota, Model:Camry\n"
     ]
    }
   ],
   "source": [
    "class Car:\n",
    "    def __init__(self,make,model):\n",
    "        self.make= make\n",
    "        self.model= model\n",
    "    def display_info(self):\n",
    "        print(f\"Make:{self.make}, Model:{self.model}\")\n",
    "my_car = Car(\"Toyota\",\"Camry\")\n",
    "my_car.display_info()"
   ]
  },
  {
   "cell_type": "code",
   "execution_count": null,
   "id": "831d636d-4ea5-4754-bac0-6a95d4515006",
   "metadata": {},
   "outputs": [],
   "source": []
  },
  {
   "cell_type": "code",
   "execution_count": null,
   "id": "a7e84446-59c3-4444-b91d-e143a2629da4",
   "metadata": {},
   "outputs": [],
   "source": []
  },
  {
   "cell_type": "code",
   "execution_count": 24,
   "id": "0d2bbebd-dde8-4921-a0b1-bc64abe304e8",
   "metadata": {
    "tags": []
   },
   "outputs": [],
   "source": [
    "#INHERITANCE:"
   ]
  },
  {
   "cell_type": "code",
   "execution_count": 25,
   "id": "78278d4a-3e1b-409d-bab2-f9b36d2a17e7",
   "metadata": {
    "tags": []
   },
   "outputs": [],
   "source": [
    "#QUESTION 1"
   ]
  },
  {
   "cell_type": "code",
   "execution_count": 26,
   "id": "ddd5b1e7-e27b-46d8-9edd-8808128672b0",
   "metadata": {
    "tags": []
   },
   "outputs": [],
   "source": [
    "#WHAT IS INHERITANCE IN PYTHON? EXPLAIN ITS SIGNIFICANCE IN OBJECT-ORIENTED PROGRAMMING."
   ]
  },
  {
   "cell_type": "code",
   "execution_count": null,
   "id": "52d86feb-5a79-42cf-b612-9e11ee007e72",
   "metadata": {},
   "outputs": [],
   "source": [
    "\"\"\"Inheritance in python is a fundamental concept in object-oriented programming(OOP).it allows a class to inherit\n",
    "attributes and methods from another class, known as the superclass or parent class. the class that inherits from \n",
    "the superclass is called the subclass or child class.\n",
    "\n",
    "The significance of inheritance in OOP is that it promotes code reuse and enables the creation of hierarchical\n",
    "relationships between classes. Here are some key points about inheritance:\n",
    "\n",
    "1. Code Reusability: with inheritance, you can define common attributes and methods in a superclass and then \n",
    "   reuse them in multiple subclasses. this avoids code duplication and promotes a more efficient and organized \n",
    "   code structure.\n",
    "   \n",
    "2. Method Overriding: Subclasses have the ability to overide method can provide its own implimentation of\n",
    "   method tailoring it to its specific needs. this allows for customization and specialization of behavior.\n",
    "   \n",
    "3. Polymorphism: inheritance is closely related to polymorphism, another important concept in OOP. Polymorphism,\n",
    "   allows objects of a common superclass. this allows for more flexible and modular code, as different subclasses\n",
    "   can be used interchangeably in certain situations.\n",
    "   \n",
    "4. Hierarchical Structure: inheritance allows for the creation of a hierarchical structure of classes, where \n",
    "   subclasses inherit attributes and methods from their superclass this helps in organizing and categorizing \n",
    "   related classes, making the code more understandable and maintainable."
   ]
  },
  {
   "cell_type": "code",
   "execution_count": null,
   "id": "51a14a33-d603-4681-87f5-e2da44b09b8f",
   "metadata": {},
   "outputs": [],
   "source": []
  },
  {
   "cell_type": "code",
   "execution_count": null,
   "id": "5294d709-457d-4469-8ef1-9b6d85c6144f",
   "metadata": {},
   "outputs": [],
   "source": []
  },
  {
   "cell_type": "code",
   "execution_count": 27,
   "id": "bc729856-876c-4cfc-b2e8-d4129f5528c6",
   "metadata": {
    "tags": []
   },
   "outputs": [],
   "source": [
    "#QUESTION 2"
   ]
  },
  {
   "cell_type": "code",
   "execution_count": 28,
   "id": "12af0f15-e037-4be2-a090-6aeeee15b657",
   "metadata": {
    "tags": []
   },
   "outputs": [],
   "source": [
    "#DIFFERENTIATE BETWEEN SINGLE INHERITANCE AND MULTIPLE INHERITANCE IN PYTHON.. PROVIDE EXAMPLES FOR EACH."
   ]
  },
  {
   "cell_type": "code",
   "execution_count": null,
   "id": "a7ccb01f-3010-4b25-862c-0f009a8c4c6a",
   "metadata": {},
   "outputs": [],
   "source": [
    "\"\"\"1.SINGLE INHERITANCE:\n",
    "    singleinheritance refers to the scenario where a class inherits from only one superclass inherits from only \n",
    "    one superclass. in this case, the subclass inherits all the attributes and methods of the superclass. single\n",
    "    inheritance follows a linear hierarchy, where each subclass has only one immediate superclass."
   ]
  },
  {
   "cell_type": "code",
   "execution_count": 18,
   "id": "5a09e98a-6cf5-4176-9336-bed1f558b702",
   "metadata": {},
   "outputs": [
    {
     "name": "stdout",
     "output_type": "stream",
     "text": [
      "Buddy\n",
      "Buddyis eating.\n"
     ]
    }
   ],
   "source": [
    "class Animal:\n",
    "    def __init__(self,name):\n",
    "        self.name = name\n",
    "    def eat(self):\n",
    "        print(f\"{self.name}is eating.\")\n",
    "class Dog(Animal):\n",
    "    def bark(self):\n",
    "        print(\"Woof!\")\n",
    "my_dog=Dog(\"Buddy\")\n",
    "print(my_dog.name)\n",
    "my_dog.eat()"
   ]
  },
  {
   "cell_type": "code",
   "execution_count": null,
   "id": "b40a3216-e3ab-432a-87d1-c5b00b80968c",
   "metadata": {},
   "outputs": [],
   "source": [
    "\"\"\"2. MULTIPLE INHERITANCE:\n",
    "   multiple inheritance refers to the scenario where a class inherits from more than ne superclass. in this case\n",
    "   the subclass inherits attributes and methods from multiple superclasses the subclass can combine and extend the\n",
    "   functionality of the superclasses.\n",
    "   "
   ]
  },
  {
   "cell_type": "code",
   "execution_count": 19,
   "id": "d7cd5eb1-b116-4ed4-9bf4-1b8ebf4c0eeb",
   "metadata": {
    "tags": []
   },
   "outputs": [
    {
     "name": "stdout",
     "output_type": "stream",
     "text": [
      "Flying...\n",
      "Swimming...\n",
      "Quake!\n"
     ]
    }
   ],
   "source": [
    "class Flyer:\n",
    "    def fly(self):\n",
    "        print(\"Flying...\")\n",
    "class Swimmer:\n",
    "    def swim(self):\n",
    "        print(\"Swimming...\")\n",
    "class Duck(Flyer, Swimmer):\n",
    "    def quack(sel):\n",
    "        print(\"Quake!\")\n",
    "my_duck = Duck()\n",
    "my_duck.fly()\n",
    "my_duck.swim()\n",
    "my_duck.quack()"
   ]
  },
  {
   "cell_type": "code",
   "execution_count": null,
   "id": "66096d59-2ce1-4484-bd97-9a0535e4468d",
   "metadata": {},
   "outputs": [],
   "source": []
  },
  {
   "cell_type": "code",
   "execution_count": null,
   "id": "ecbf356c-bc11-4f0f-8dc7-381fb0394324",
   "metadata": {},
   "outputs": [],
   "source": []
  },
  {
   "cell_type": "code",
   "execution_count": 29,
   "id": "6615174f-a04f-4fae-a46c-054fecab4eab",
   "metadata": {
    "tags": []
   },
   "outputs": [],
   "source": [
    "#QUESTION 3"
   ]
  },
  {
   "cell_type": "code",
   "execution_count": 30,
   "id": "ed16f3d8-71c5-424a-8074-8eb2a79d7075",
   "metadata": {
    "tags": []
   },
   "outputs": [],
   "source": [
    "#CREATE A PYTHON CLASS CALLED VECHICLES WITH ATTRIBUTES COLO AND SPEED. tHEN CREATE A CHILD CLASS CALLED CAR THAT INHERITS FROM VECHICLES AND ADDS A BRAND ATTRIBUTES. PROVIDE AN EXAMPLE OF CREADING A CAR OBJECT."
   ]
  },
  {
   "cell_type": "code",
   "execution_count": 24,
   "id": "5879f4c5-34e3-46bc-8f80-a75d0ef60072",
   "metadata": {},
   "outputs": [
    {
     "name": "stdout",
     "output_type": "stream",
     "text": [
      "Blue\n",
      "100\n",
      "Toyota\n"
     ]
    }
   ],
   "source": [
    "class Vehicle:\n",
    "    def __init__(self,color,speed):\n",
    "        self.color = color\n",
    "        self.speed = speed\n",
    "class Car(Vehicle):\n",
    "    def __init__(self,color,speed,brand):\n",
    "        super().__init__(color,speed)\n",
    "        self.brand = brand\n",
    "my_car = Car(\"Blue\", 100, \"Toyota\")\n",
    "print(my_car.color)\n",
    "print(my_car.speed)      \n",
    "print(my_car.brand)"
   ]
  },
  {
   "cell_type": "code",
   "execution_count": null,
   "id": "7342dc9b-34c6-4486-9546-8754ad683ec1",
   "metadata": {},
   "outputs": [],
   "source": []
  },
  {
   "cell_type": "code",
   "execution_count": null,
   "id": "2e9b18e2-f8ab-49a1-93eb-0dc3668afbe4",
   "metadata": {},
   "outputs": [],
   "source": []
  },
  {
   "cell_type": "code",
   "execution_count": 31,
   "id": "37236640-0769-464f-96ab-b0b3cb780b95",
   "metadata": {
    "tags": []
   },
   "outputs": [],
   "source": [
    "# QUESTION 4"
   ]
  },
  {
   "cell_type": "code",
   "execution_count": 32,
   "id": "55eaac83-4c01-44ec-80fd-cc3fe2e7394b",
   "metadata": {
    "tags": []
   },
   "outputs": [],
   "source": [
    "#EXPLAIN THE CONCEPT OF METHOD OVERRIDING IN HERITANCE. PROVIDE A PRACICAL EXAMPLE."
   ]
  },
  {
   "cell_type": "code",
   "execution_count": null,
   "id": "6e41e1b1-dc0d-4761-92e6-5b3166c5415e",
   "metadata": {},
   "outputs": [],
   "source": [
    "\"\"\"Method overloading is a concept in object-oriented programming where a subclass provides its own implementation\n",
    "of a method that is already defined in its parent class. this allows the subclass to modify or extend the behavior\n",
    "of the inherited method."
   ]
  },
  {
   "cell_type": "code",
   "execution_count": 25,
   "id": "b0b33cc3-e06c-466b-8fec-c939a0896c9c",
   "metadata": {},
   "outputs": [
    {
     "name": "stdout",
     "output_type": "stream",
     "text": [
      "Animal makes a sound\n",
      "Dog barks\n"
     ]
    }
   ],
   "source": [
    "class Animal:\n",
    "    def make_sound(self):\n",
    "        print(\"Animal makes a sound\")\n",
    "        \n",
    "class Dog(Animal):\n",
    "    def make_sound(self):\n",
    "        print(\"Dog barks\")\n",
    "animal = Animal()\n",
    "dog = Dog()\n",
    "animal.make_sound()\n",
    "dog.make_sound()"
   ]
  },
  {
   "cell_type": "code",
   "execution_count": null,
   "id": "e9a83458-b4d5-40d2-bb64-e9a26deeeb66",
   "metadata": {},
   "outputs": [],
   "source": []
  },
  {
   "cell_type": "code",
   "execution_count": 33,
   "id": "a899fa45-f5aa-4201-9ac3-90c512a29250",
   "metadata": {
    "tags": []
   },
   "outputs": [],
   "source": [
    "# QUESTION 5"
   ]
  },
  {
   "cell_type": "code",
   "execution_count": 34,
   "id": "b78dc05b-5dea-44ca-82f6-588e8e94a0fc",
   "metadata": {
    "tags": []
   },
   "outputs": [],
   "source": [
    "# HOW CAN YOU ACCESS THE METHODS AND ATTRIBUTES OF A PARENT CLASS FROM A CHILD CLASS IN PYTHON? GIVE AN EXAMPLE"
   ]
  },
  {
   "cell_type": "code",
   "execution_count": null,
   "id": "1be6aa4d-a1df-432b-8bf4-dab15c404b18",
   "metadata": {},
   "outputs": [],
   "source": [
    "\"\"\"we can aacess the methods and attributes of a parent class from a child class by using the `super()` function \n",
    "   This function allows you to call the parent class's methods and access its attributes. "
   ]
  },
  {
   "cell_type": "code",
   "execution_count": 1,
   "id": "c53915b2-6b71-4fce-b508-0ac2d625e609",
   "metadata": {
    "tags": []
   },
   "outputs": [
    {
     "name": "stdout",
     "output_type": "stream",
     "text": [
      "I'm a cild method!\n",
      "I'm a parent method!\n"
     ]
    }
   ],
   "source": [
    "class ParentClass:\n",
    "    def __init__(self):\n",
    "        self.parent_attr = \"I'm a parent attribute!\"\n",
    "    def parent_method(self):\n",
    "        print(\"I'm a parent method!\")\n",
    "class ChildClass(ParentClass):\n",
    "    def __init__(self):\n",
    "        super().__init__()\n",
    "        self.child_att = \"I'm a child attribute!\"\n",
    "    def child_method(self):\n",
    "        print(\"I'm a cild method!\")\n",
    "        super().parent_method()\n",
    "child = ChildClass()\n",
    "child.child_method()"
   ]
  },
  {
   "cell_type": "code",
   "execution_count": null,
   "id": "428720dd-ece2-44fa-8c89-6d4ef2430838",
   "metadata": {},
   "outputs": [],
   "source": []
  },
  {
   "cell_type": "code",
   "execution_count": null,
   "id": "2acda499-7e16-43c8-8735-4617009c2538",
   "metadata": {},
   "outputs": [],
   "source": []
  },
  {
   "cell_type": "code",
   "execution_count": 35,
   "id": "90f2e1bb-3bac-45db-bf37-45e0381b9999",
   "metadata": {
    "tags": []
   },
   "outputs": [],
   "source": [
    "#QUESTION 6"
   ]
  },
  {
   "cell_type": "code",
   "execution_count": 36,
   "id": "acf0ac5a-d3f9-4d9c-8999-95f8244a6bf6",
   "metadata": {
    "tags": []
   },
   "outputs": [],
   "source": [
    "#DISCUSS THE USE OF THE SUPER() FUNCTION IN PYTHON INHERITENCE. WHEN AND WHY IS IT USED PROVIDE AN EXAMPLE"
   ]
  },
  {
   "cell_type": "code",
   "execution_count": null,
   "id": "ba0defe8-6dd0-4ac9-9f6c-b0c8553dd0a5",
   "metadata": {},
   "outputs": [],
   "source": [
    "\"\"\"The `super()` function in python is used to access and invoke methods or attributes from a parent class within \n",
    "   a class.It allows the child class to inherit and extend the functionality of the parent class while also adding\n",
    "   its own unique features.\n",
    "   \n",
    "   one common use case for `super()` is when you want to override a method in the child class but still want to \n",
    "   utilize the functionality of the parent class's method. by using `super()`, you can call the parent class's\n",
    "   method and then add additional functionality specific to the child class."
   ]
  },
  {
   "cell_type": "code",
   "execution_count": 9,
   "id": "3c857b62-3544-4e42-9e7f-eb1954ada683",
   "metadata": {
    "tags": []
   },
   "outputs": [
    {
     "name": "stdout",
     "output_type": "stream",
     "text": [
      "Whiskers makes a sound.\n",
      "Whiskers says Meow!\n",
      "Buddy makes a sound.\n",
      "Buddy says Woof!\n"
     ]
    }
   ],
   "source": [
    "class Animal:\n",
    "    def __init__(self,name):\n",
    "        self.name=name\n",
    "    def speak(self):\n",
    "        print(f\"{self.name} makes a sound.\")\n",
    "class Cat(Animal):\n",
    "    def __init__(self,name):\n",
    "        super().__init__(name)\n",
    "    def speak(self):\n",
    "        super().speak()\n",
    "        print(f\"{self.name} says Meow!\")\n",
    "my_cat = Cat(\"Whiskers\")\n",
    "my_cat.speak()\n",
    "class Dog(Animal):\n",
    "    def __init__(self,name):\n",
    "        super().__init__(name)\n",
    "    def speak(self):\n",
    "        super().speak()\n",
    "        print(f\"{self.name} says Woof!\")\n",
    "my_dog = Dog(\"Buddy\")\n",
    "my_dog.speak()"
   ]
  },
  {
   "cell_type": "code",
   "execution_count": null,
   "id": "38035a38-0831-468a-936e-967b59adf3f3",
   "metadata": {},
   "outputs": [],
   "source": []
  },
  {
   "cell_type": "code",
   "execution_count": null,
   "id": "a17a1910-794d-4f6d-b718-c858d29fd303",
   "metadata": {},
   "outputs": [],
   "source": []
  },
  {
   "cell_type": "code",
   "execution_count": 37,
   "id": "b721a986-fbeb-4ff5-a00f-c6b5a0a69832",
   "metadata": {
    "tags": []
   },
   "outputs": [],
   "source": [
    "#QUESTION 7"
   ]
  },
  {
   "cell_type": "code",
   "execution_count": 38,
   "id": "cfb79b2d-4970-4717-92a1-7741df38ea35",
   "metadata": {
    "tags": []
   },
   "outputs": [],
   "source": [
    "# CREATE A PYTHON CLASS CALLED ANIMAL WITH A METHOD SPEAK() THEN CREATE CHILD CLASSES CHILD CLASSES DOG AND CAT THAT INHERIT FROM ANIMAL AND OVERRIDE THE `SPEAK()` METHOD PROVIDE AN EXAMPLE OF USING THESE CLASSES."
   ]
  },
  {
   "cell_type": "code",
   "execution_count": 11,
   "id": "b051a01d-44ec-4129-861d-6dc3f68af1a8",
   "metadata": {},
   "outputs": [
    {
     "name": "stdout",
     "output_type": "stream",
     "text": [
      "Woof!\n",
      "Meow!\n"
     ]
    }
   ],
   "source": [
    "class Animal:\n",
    "    def speak(self):\n",
    "        pass\n",
    "class Dog(Animal):\n",
    "    def speak(self):\n",
    "        return\"Woof!\"\n",
    "class Cat(Animal):\n",
    "    def speak(self):\n",
    "        return \"Meow!\"\n",
    "my_dog =Dog()\n",
    "my_cat=Cat()\n",
    "print(my_dog.speak())\n",
    "print(my_cat.speak())"
   ]
  },
  {
   "cell_type": "code",
   "execution_count": null,
   "id": "780d985b-d8e0-4986-add7-9912be87a996",
   "metadata": {},
   "outputs": [],
   "source": []
  },
  {
   "cell_type": "code",
   "execution_count": null,
   "id": "039a27c3-3330-405f-97df-3620ec583054",
   "metadata": {},
   "outputs": [],
   "source": []
  },
  {
   "cell_type": "code",
   "execution_count": 39,
   "id": "bc76ae53-201b-45a1-ab11-b83638c8cd65",
   "metadata": {
    "tags": []
   },
   "outputs": [],
   "source": [
    "#QUESTION 8"
   ]
  },
  {
   "cell_type": "code",
   "execution_count": 42,
   "id": "c0c79ec8-b26e-443a-aa7b-04964b91270e",
   "metadata": {
    "tags": []
   },
   "outputs": [],
   "source": [
    "#EXPLAIN THE ROLE OF THE ISINSTANCE() FUNCTION IN PYTHON AND HOW IT RELATES TO INHERITANCE"
   ]
  },
  {
   "cell_type": "code",
   "execution_count": 12,
   "id": "83186873-0997-436c-bb8c-e8ec9f651c85",
   "metadata": {},
   "outputs": [
    {
     "name": "stdout",
     "output_type": "stream",
     "text": [
      "True\n",
      "True\n",
      "True\n",
      "True\n",
      "True\n",
      "False\n",
      "False\n"
     ]
    }
   ],
   "source": [
    "my_dog =Dog()\n",
    "my_cat = Cat()\n",
    "my_animal = Animal()\n",
    "print(isinstance(my_dog,Dog))\n",
    "print(isinstance(my_dog,Animal))\n",
    "print(isinstance(my_cat,Cat))\n",
    "print(isinstance(my_cat,Animal))\n",
    "print(isinstance(my_animal,Animal))\n",
    "print(isinstance(my_animal,Dog))\n",
    "print(isinstance(my_animal,Cat))"
   ]
  },
  {
   "cell_type": "code",
   "execution_count": null,
   "id": "419c1d2c-c327-44a6-9100-54248b1c42c0",
   "metadata": {},
   "outputs": [],
   "source": []
  },
  {
   "cell_type": "code",
   "execution_count": null,
   "id": "b1938283-285d-43f8-844a-1d391157b11d",
   "metadata": {},
   "outputs": [],
   "source": []
  },
  {
   "cell_type": "code",
   "execution_count": 41,
   "id": "03e37df1-df83-4162-bf60-f3fba77588b4",
   "metadata": {
    "tags": []
   },
   "outputs": [],
   "source": [
    "#QUESTION 9"
   ]
  },
  {
   "cell_type": "code",
   "execution_count": 43,
   "id": "38c7b04d-aaad-4eff-842d-d542153d184a",
   "metadata": {
    "tags": []
   },
   "outputs": [],
   "source": [
    "#WHAT IS THE PURPOSE OF THE ISSUBCLASS() FUCTION IN YTHON PROVIDE AN EXAMPLE"
   ]
  },
  {
   "cell_type": "code",
   "execution_count": 13,
   "id": "94716691-0e1b-4f8f-88c0-76a864810eea",
   "metadata": {},
   "outputs": [
    {
     "name": "stdout",
     "output_type": "stream",
     "text": [
      "True\n",
      "True\n",
      "False\n",
      "False\n"
     ]
    }
   ],
   "source": [
    "class Animal:\n",
    "    pass\n",
    "class Dog(Animal):\n",
    "    pass\n",
    "class Cat(Animal):\n",
    "    pass\n",
    "print(issubclass(Dog,Animal))\n",
    "print(issubclass(Cat,Animal))\n",
    "print(issubclass(Animal,Dog))\n",
    "print(issubclass(Animal,Cat))\n"
   ]
  },
  {
   "cell_type": "code",
   "execution_count": null,
   "id": "429b9e3b-41ff-4757-9011-8f3d48f400b6",
   "metadata": {},
   "outputs": [],
   "source": []
  },
  {
   "cell_type": "code",
   "execution_count": null,
   "id": "d48c0f86-49fe-4c82-867e-591dfec73b65",
   "metadata": {},
   "outputs": [],
   "source": []
  },
  {
   "cell_type": "code",
   "execution_count": 44,
   "id": "e84ac137-28ee-4981-9620-53e781febce8",
   "metadata": {
    "tags": []
   },
   "outputs": [],
   "source": [
    "#QUESTION 10"
   ]
  },
  {
   "cell_type": "code",
   "execution_count": 45,
   "id": "93291753-bc3e-4b7b-b1d5-a6854d253c5c",
   "metadata": {
    "tags": []
   },
   "outputs": [],
   "source": [
    "#DISCUSS THE CONCEPT OF CONSTRUCTOR INHERITANCE IN PYTHON. HOW ARE CONSTRUCTORS INHERITED IN CHILD CLASSES?"
   ]
  },
  {
   "cell_type": "code",
   "execution_count": null,
   "id": "371c2d34-37cb-4e04-8084-24181ba26f82",
   "metadata": {},
   "outputs": [],
   "source": [
    "\"\"\"constructors can be inherited by child classes through a process called constructor inheritance. When a child \n",
    "   class is created, it automatically inherits the constructor from its parent class.\n",
    "   \n",
    "   The constructor of a class is a special method with the name `__init__()`. It is used to initalize the object\"s\n",
    "   attributes when an instance of the class is created."
   ]
  },
  {
   "cell_type": "code",
   "execution_count": 15,
   "id": "915b1941-dde3-47c1-863a-ea21ee894409",
   "metadata": {
    "tags": []
   },
   "outputs": [
    {
     "name": "stdout",
     "output_type": "stream",
     "text": [
      "Nikita\n"
     ]
    }
   ],
   "source": [
    "class parent:\n",
    "    def __init__(self,name):\n",
    "        self.name=name\n",
    "class Child(parent):\n",
    "    pass\n",
    "child_obj = Child(\"Nikita\")\n",
    "print(child_obj.name)"
   ]
  },
  {
   "cell_type": "code",
   "execution_count": null,
   "id": "7c656c2a-dcac-4fbf-a526-bd4c1ebd6f50",
   "metadata": {},
   "outputs": [],
   "source": []
  },
  {
   "cell_type": "code",
   "execution_count": null,
   "id": "1c3d6648-5a5f-4ddc-86ae-a7b4c85e89c7",
   "metadata": {},
   "outputs": [],
   "source": []
  },
  {
   "cell_type": "code",
   "execution_count": 46,
   "id": "26fa457d-9ecf-4b56-a184-547981ad6a46",
   "metadata": {
    "tags": []
   },
   "outputs": [],
   "source": [
    "#QUESTION 11"
   ]
  },
  {
   "cell_type": "code",
   "execution_count": 47,
   "id": "17b01cb3-2689-4f77-b012-57cfe601ca6b",
   "metadata": {
    "tags": []
   },
   "outputs": [],
   "source": [
    "#CREATE A PYTHON CLASS CALLED SHAPE WITH A METHOD AREA() THAT CALCULATES THE AREA OF A SHAPE. tHEN CREATE CHILD CLASSES CIRCLE AND RECTANGLE THAT INHERIT FROM AND IMPLEMENT THE AREA() METHOD ACCORDINGLY PROVIDE AN EXAMPLE"
   ]
  },
  {
   "cell_type": "code",
   "execution_count": 5,
   "id": "1561250d-f23c-42cc-b678-ff483d503eaf",
   "metadata": {},
   "outputs": [
    {
     "name": "stdout",
     "output_type": "stream",
     "text": [
      "The are of the circle is:78.53981633974483\n",
      "The area of the rectangle is: 24\n"
     ]
    }
   ],
   "source": [
    "import math\n",
    "class Shape:\n",
    "    def area(self):\n",
    "        pass\n",
    "class Circle(Shape):\n",
    "    def __init__(self,radius):\n",
    "        self.radius=radius\n",
    "    def area(self):\n",
    "        return math.pi* self.radius**2\n",
    "class Rectangle(Shape):\n",
    "    def __init__(self, width, height):\n",
    "        self.width = width\n",
    "        self.height = height\n",
    "    def area(self):\n",
    "        return self.width*self.height\n",
    "circle = Circle(5)\n",
    "circle_area = circle.area()\n",
    "print(f\"The are of the circle is:{circle_area}\")\n",
    "rectangle = Rectangle(4,6)\n",
    "rectangle_area = rectangle.area()\n",
    "print(f\"The area of the rectangle is: {rectangle_area}\")"
   ]
  },
  {
   "cell_type": "code",
   "execution_count": null,
   "id": "2debe4f0-6950-4ba3-ae3c-ded3ac11c657",
   "metadata": {},
   "outputs": [],
   "source": []
  },
  {
   "cell_type": "code",
   "execution_count": null,
   "id": "61950666-f945-4830-87a9-c73f0c0d84b8",
   "metadata": {},
   "outputs": [],
   "source": []
  },
  {
   "cell_type": "code",
   "execution_count": 48,
   "id": "9d5fad3f-8132-41cf-9608-4c2d5b941932",
   "metadata": {
    "tags": []
   },
   "outputs": [],
   "source": [
    "#QUESTION 12"
   ]
  },
  {
   "cell_type": "code",
   "execution_count": 49,
   "id": "db82b9e3-aed8-4e1c-b372-2530045e02de",
   "metadata": {
    "tags": []
   },
   "outputs": [],
   "source": [
    "# EXPLAIN THE USE OF ABSTRACT BASE CLASSES(ABCs) IN PYTHON AND HOW THEY RELATE TO INHERITENCE. PROVIDE AN EXAMPLE USING THE ABC MODULE"
   ]
  },
  {
   "cell_type": "code",
   "execution_count": 26,
   "id": "494d49f6-ac7d-4dce-9a5f-8cd6e87e91e9",
   "metadata": {},
   "outputs": [
    {
     "name": "stdout",
     "output_type": "stream",
     "text": [
      "Area of circle: 153.93791\n",
      "Area of rectangle: 50\n"
     ]
    }
   ],
   "source": [
    "from abc import ABC, abstractmethod\n",
    "class Shape(ABC):\n",
    "    @abstractmethod\n",
    "    def area(self):\n",
    "        pass\n",
    "class Circle(Shape):\n",
    "    def __init__(self,radius):\n",
    "        self.radius=radius\n",
    "    def area(self):\n",
    "        return 3.14159*self.radius**2\n",
    "class Rectangle(Shape):\n",
    "    def __init__(self,width,height):\n",
    "        self.width = width\n",
    "        self.height = height\n",
    "    def area(self):\n",
    "        return self.width*self.height\n",
    "rectangle = Rectangle(5,10)\n",
    "circle = Circle(7)\n",
    "print(\"Area of circle:\",circle.area())\n",
    "print(\"Area of rectangle:\",rectangle.area())"
   ]
  },
  {
   "cell_type": "code",
   "execution_count": null,
   "id": "20532faa-12d5-4f5a-87f1-54636a0ac1df",
   "metadata": {},
   "outputs": [],
   "source": []
  },
  {
   "cell_type": "code",
   "execution_count": null,
   "id": "38c18341-fb72-44cd-9f9d-244102c3fae3",
   "metadata": {},
   "outputs": [],
   "source": []
  },
  {
   "cell_type": "code",
   "execution_count": 50,
   "id": "2496f846-503c-4f16-b4f3-b21cfaad4066",
   "metadata": {
    "tags": []
   },
   "outputs": [],
   "source": [
    "#QUESTION 13"
   ]
  },
  {
   "cell_type": "code",
   "execution_count": 51,
   "id": "f8156416-8020-4f18-b688-bdce31c1abcb",
   "metadata": {
    "tags": []
   },
   "outputs": [],
   "source": [
    "#HOW CAN YOU PREVENT A CHILD CLASS FROM MODIFYING CERTAIN ATTRIBUTES OR METHODS OR METHODS INHERITED FROM A PARENT CLASS IN PYTHON?"
   ]
  },
  {
   "cell_type": "code",
   "execution_count": 31,
   "id": "cae64141-3700-48d3-9ff6-c41e0b145c9b",
   "metadata": {},
   "outputs": [
    {
     "name": "stdout",
     "output_type": "stream",
     "text": [
      "42\n",
      "100\n"
     ]
    }
   ],
   "source": [
    "class Parent:\n",
    "    def __init__(self):\n",
    "        self._private_attr=42\n",
    "    def _private_method(self):\n",
    "        return \"This is a private method.\"\n",
    "class Child(Parent):\n",
    "    def __init__(self):\n",
    "        super().__init__()\n",
    "        self._private_attr = 100\n",
    "    def _private_method(self):\n",
    "        return\"This is a modified private method.\"\n",
    "parent = Parent()\n",
    "child= Child()\n",
    "print(parent._private_attr)\n",
    "print(child._private_attr)"
   ]
  },
  {
   "cell_type": "code",
   "execution_count": null,
   "id": "00d21619-b7cc-4825-8e32-ca9f056aefee",
   "metadata": {},
   "outputs": [],
   "source": []
  },
  {
   "cell_type": "code",
   "execution_count": null,
   "id": "91e94beb-3f50-4dda-b3a4-a0adc0b57254",
   "metadata": {},
   "outputs": [],
   "source": []
  },
  {
   "cell_type": "code",
   "execution_count": 52,
   "id": "07f1b942-bdea-49bc-bb34-9a3045d36be2",
   "metadata": {
    "tags": []
   },
   "outputs": [],
   "source": [
    "#QUESTION 14"
   ]
  },
  {
   "cell_type": "code",
   "execution_count": 53,
   "id": "afa91b5a-7b3f-49fa-9729-c3a209eff330",
   "metadata": {
    "tags": []
   },
   "outputs": [],
   "source": [
    "#CREATE A PYTHON CLASS CALLED EMPLOYEE WITH ATTRIBUTES NAME AND SALARY THEN CREATE A CHILD CLASS MANAGER THAT INHERITS FROM EMPLOYEE AND ADDS AN ATTRIBUTE DEPARTMENT. PROVIDE AN EXAMPLE "
   ]
  },
  {
   "cell_type": "code",
   "execution_count": 7,
   "id": "76a0f6ff-d557-43b1-8fab-35bddda72bab",
   "metadata": {},
   "outputs": [
    {
     "name": "stdout",
     "output_type": "stream",
     "text": [
      "Employee name:John Doe\n",
      "Employee salary:50000\n",
      "Manager salary:Jane Smith\n",
      "Manager salary:70000\n",
      "Manager department:Sales\n"
     ]
    }
   ],
   "source": [
    "class Employee:\n",
    "    def __init__(self,name,salary):\n",
    "        self.name = name\n",
    "        self.salary=salary\n",
    "class Manager(Employee):\n",
    "    def __init__(self,name,salary,department):\n",
    "        super().__init__(name,salary)\n",
    "        self.department = department\n",
    "employee = Employee(\"John Doe\",50000)\n",
    "print(f\"Employee name:{employee.name}\")\n",
    "print(f\"Employee salary:{employee.salary}\")\n",
    "manager = Manager(\"Jane Smith\",70000,\"Sales\")\n",
    "print(f\"Manager salary:{manager.name}\")\n",
    "print(f\"Manager salary:{manager.salary}\")\n",
    "print(f\"Manager department:{manager.department}\")"
   ]
  },
  {
   "cell_type": "code",
   "execution_count": null,
   "id": "f1d552e4-995a-40b5-bf53-812bc306906e",
   "metadata": {},
   "outputs": [],
   "source": []
  },
  {
   "cell_type": "code",
   "execution_count": null,
   "id": "c6436056-77d8-413a-a33c-cb57e9b11720",
   "metadata": {},
   "outputs": [],
   "source": []
  },
  {
   "cell_type": "code",
   "execution_count": 54,
   "id": "79256d01-751d-46ad-8562-95dbdf2d4deb",
   "metadata": {
    "tags": []
   },
   "outputs": [],
   "source": [
    "#QUESTION 15"
   ]
  },
  {
   "cell_type": "code",
   "execution_count": 55,
   "id": "2317fc0c-b652-403c-9bb6-60d71df2af5f",
   "metadata": {
    "tags": []
   },
   "outputs": [],
   "source": [
    "# DISCUSS THE CONCEPT OF METHOD OVERLOADING IN PYTHON INHERITANCE. HOW DOES IT DIFFER FROM METHOD OVERRIDING"
   ]
  },
  {
   "cell_type": "code",
   "execution_count": null,
   "id": "83176713-c7a5-44e8-83d5-2d1f350044c9",
   "metadata": {},
   "outputs": [],
   "source": [
    "\"\"\"Method overloading refers to the anbility to define multiple methods with the same name but different parameter\n",
    "   in a class. This allows you to perform different operations based on the number or types of arguments passed to\n",
    "   the method.However,unlike some other programming languages,python does not support method overloading directly\n",
    "   In python,you can achieve similar behavior by using default values for function parameters or by using variable\n",
    "   -length argument lists.\n",
    "   \n",
    "   on the other hand, method overriding occurs when a child class defines a method with the same name as a method\n",
    "   in its parent class.The child class can provide its own implementation of the method,which will be used instead\n",
    "   of the parent class implementation when the method is called on an instance of the child class method override\n",
    "   allows you to modify the behavior of a method inherited from from the parent class."
   ]
  },
  {
   "cell_type": "code",
   "execution_count": null,
   "id": "7efa836b-47fd-4a44-bee7-d0d5b0c6dbdb",
   "metadata": {},
   "outputs": [],
   "source": []
  },
  {
   "cell_type": "code",
   "execution_count": null,
   "id": "72fc8f2e-6c15-46e0-9d0c-e04f12ad367f",
   "metadata": {},
   "outputs": [],
   "source": []
  },
  {
   "cell_type": "code",
   "execution_count": 56,
   "id": "65939209-3a37-4ebe-b1d4-e7405b8ce747",
   "metadata": {
    "tags": []
   },
   "outputs": [],
   "source": [
    "#QUESTION 16"
   ]
  },
  {
   "cell_type": "code",
   "execution_count": 57,
   "id": "6beb2d92-02f2-49f5-8875-fbbefc487bf4",
   "metadata": {
    "tags": []
   },
   "outputs": [],
   "source": [
    "#EXPLAIN THE PURPOSE OF THE _ _INIT_ _() METHOD IN PYTHON INHERITANCE AND HOW IT IS UTILIZED IN CHILD CLASSES"
   ]
  },
  {
   "cell_type": "code",
   "execution_count": null,
   "id": "a7cb2dde-2a1b-4b62-8b4f-82c525e2632d",
   "metadata": {},
   "outputs": [],
   "source": [
    "\"\"\"The __init__() method in python is used as a constructor for a class. it gets called when an object of that \n",
    "   class is created. In inheritance, the `__init__()` method in the parent class is not automatically called in \n",
    "   the child class. but if you want to include the parents attributes and behavior in the child class, you can \n",
    "   call the parents __init__() method using the `super()` function. this way the child class can inherit and \n",
    "   extend the functionaltity of the parent class. it's a way to set up the initial state of the child while also \n",
    "   preserving the characteristics of the parent class. "
   ]
  },
  {
   "cell_type": "code",
   "execution_count": null,
   "id": "6100c4d2-d0f4-4df9-a028-9bee349861ec",
   "metadata": {},
   "outputs": [],
   "source": []
  },
  {
   "cell_type": "code",
   "execution_count": null,
   "id": "c9d2d92b-a6bf-4896-b588-5a17a986a816",
   "metadata": {},
   "outputs": [],
   "source": []
  },
  {
   "cell_type": "code",
   "execution_count": 58,
   "id": "33b5645f-4bba-4b51-9b15-3182696d5477",
   "metadata": {
    "tags": []
   },
   "outputs": [],
   "source": [
    "#QUESTION 17"
   ]
  },
  {
   "cell_type": "code",
   "execution_count": 59,
   "id": "718be2f2-2b88-47c1-9dfc-69ea4ae2d26b",
   "metadata": {
    "tags": []
   },
   "outputs": [],
   "source": [
    "#CREATE A PYTHON CLASS CALLED BIRD WITH A METHOD FLY() THEN CREATE CHILD CLASSES EAGLE AND SPARROW THAT INHERIT FROM BIRD AND IMPLIMENT THE FLY() METHOD DIFFERENTLY PROVIDE AN EXAMPLE OF USING THESE CLASSES"
   ]
  },
  {
   "cell_type": "code",
   "execution_count": 1,
   "id": "b29cf9f9-967e-4f58-a653-6b4aa06eb1cf",
   "metadata": {},
   "outputs": [
    {
     "name": "stdout",
     "output_type": "stream",
     "text": [
      "The bird is flying!\n",
      "The eagle is soaring high in the sky!\n",
      "The sparrow is fluttering around gracefully.\n"
     ]
    }
   ],
   "source": [
    "class Bird:\n",
    "    def fly(self):\n",
    "        print(\"The bird is flying!\")\n",
    "class Eagle(Bird):\n",
    "    def fly(self):\n",
    "        print(\"The eagle is soaring high in the sky!\")\n",
    "class Sparrow(Bird):\n",
    "    def fly(self):\n",
    "        print(\"The sparrow is fluttering around gracefully.\")\n",
    "bird = Bird()\n",
    "bird.fly()\n",
    "\n",
    "eagle = Eagle()\n",
    "eagle.fly()\n",
    "\n",
    "sparrow = Sparrow()\n",
    "sparrow.fly()"
   ]
  },
  {
   "cell_type": "code",
   "execution_count": null,
   "id": "7319feb6-46eb-4e8c-9819-a2c1b3ac061e",
   "metadata": {},
   "outputs": [],
   "source": []
  },
  {
   "cell_type": "code",
   "execution_count": null,
   "id": "b8b0c697-16da-4a98-87d7-659305756c19",
   "metadata": {},
   "outputs": [],
   "source": []
  },
  {
   "cell_type": "code",
   "execution_count": 60,
   "id": "8d0355a4-b32f-451b-9cc8-bb6ff72ba568",
   "metadata": {
    "tags": []
   },
   "outputs": [],
   "source": [
    "# QUESTION 18"
   ]
  },
  {
   "cell_type": "code",
   "execution_count": 61,
   "id": "976164a2-b3b1-469d-9d6f-3af4d076b510",
   "metadata": {
    "tags": []
   },
   "outputs": [],
   "source": [
    "#WHAT IS THE DIAMOND PROBLEM IN MULTIPLE INHERITANCE, AND HOW DOES PYTHON ADDRESS IT"
   ]
  },
  {
   "cell_type": "code",
   "execution_count": null,
   "id": "38aa36fc-93fb-4162-a12e-af2bbf95e022",
   "metadata": {},
   "outputs": [],
   "source": [
    "\"\"\"The \"diamond problem\" is a challenge that can arise in multiple inheritance when a class inherits from two or \n",
    "   more classes that have a common base class This can lead to ambiguilty and conflicts when resolving method call\n",
    "   or accessing attributes.\n",
    "   \n",
    "   To address the diamond problem, python uses a method resolution order(MRO) algorithm called C3 linearization. \n",
    "   this algorithm determines the order in which methods resolved in a class hierarchy It ensures that each method\n",
    "   is called only once and in the correct order avoiding conflict and ambiguilty."
   ]
  },
  {
   "cell_type": "code",
   "execution_count": null,
   "id": "785707fb-5ef2-4ba8-b39a-37c6755292f8",
   "metadata": {},
   "outputs": [],
   "source": []
  },
  {
   "cell_type": "code",
   "execution_count": null,
   "id": "8bff29eb-568d-459d-a69a-49497d5b7420",
   "metadata": {},
   "outputs": [],
   "source": []
  },
  {
   "cell_type": "code",
   "execution_count": 62,
   "id": "3a512224-fa80-476e-a15d-237aa79cc0d9",
   "metadata": {
    "tags": []
   },
   "outputs": [],
   "source": [
    "#QUESTION 19"
   ]
  },
  {
   "cell_type": "code",
   "execution_count": 64,
   "id": "cf7ebc13-73fb-4e33-9458-f804888d81d2",
   "metadata": {
    "tags": []
   },
   "outputs": [],
   "source": [
    "#DISCUSS THE CONCEPT OF \"IS-A\"AND \"HAS-A\" RELATIONSHIPS IN HERITANCE, AND PROVIDE EXAMPLE OF EACH."
   ]
  },
  {
   "cell_type": "code",
   "execution_count": null,
   "id": "38d2d282-ef21-449c-947a-f639551e2bec",
   "metadata": {},
   "outputs": [],
   "source": [
    "\"\"\"An \"is-a\" relationship, also as inheritance or specialization, represents a class that is a specialized version\n",
    "   of another class it signifies that an object of the derived class is a specific  type of the base class. the \n",
    "   derived class inherits the properties and behaviour of the base class, but can also have its own unique \n",
    "   properties and behaviors.\n",
    "   \n",
    "Here's an example:\n",
    "  \"Cat\" is a subclass of the base class \"Animal\". We can say that a cat \"is-a\" type of animals\". The cat class \n",
    "  inherits properties and behaviour from the Animal class such as \"name\" and eat() however the Cat class can also \n",
    "  have its own unique properties and behaviour such as \"meow()\" or \"purr()\".\n",
    "  \n",
    "  on the other hand, a \"has-a\" relationship, also known as composition or aggregation, represent a class that has\n",
    "  another class as a complement or attributes. it signifies that an object of the one class \"has-a\" refernce to \n",
    "  an object of another class."
   ]
  },
  {
   "cell_type": "code",
   "execution_count": null,
   "id": "00752f30-78bc-4717-b755-78b9df8bf07f",
   "metadata": {},
   "outputs": [],
   "source": []
  },
  {
   "cell_type": "code",
   "execution_count": null,
   "id": "90e86d70-af63-475d-8fe2-6d1857e4af4b",
   "metadata": {},
   "outputs": [],
   "source": []
  },
  {
   "cell_type": "code",
   "execution_count": 65,
   "id": "0d3416ab-316d-4c3b-8092-cf11658e7e54",
   "metadata": {
    "tags": []
   },
   "outputs": [],
   "source": [
    "#QUESTION 20"
   ]
  },
  {
   "cell_type": "code",
   "execution_count": 66,
   "id": "c6d8171b-bc89-465f-9eaa-0a40f7fe6fb6",
   "metadata": {
    "tags": []
   },
   "outputs": [],
   "source": [
    "#CREATE A PYTHON CLASS HIERARCHY FOR A UNIVERSITY SYSTEM. START WITH A BASE PERSON AND CREATE CHILD CLASSES STUDENT AND PROFESSOR EACH WITH THEIR OWN ATTRIBUTS AND METHODS PROVIDE AN EXAMPLE OF USING THESE CLASSES IN A UNIVERSITY CONTEXT."
   ]
  },
  {
   "cell_type": "code",
   "execution_count": 20,
   "id": "8d72fe98-f845-473a-a029-78c437e5627a",
   "metadata": {},
   "outputs": [
    {
     "name": "stdout",
     "output_type": "stream",
     "text": [
      "Name: Alice,Age:20,Gender:Female\n",
      "Alice is studying.\n",
      "Alice is attending class.\n",
      "\n",
      "Name: Dr.Smith,Age:40,Gender:Male\n",
      "Dr.Smith is teaching a class.\n",
      "Dr.Smith is holding office hours.\n"
     ]
    }
   ],
   "source": [
    "class Person:\n",
    "    def __init__(self,name,age,gender):\n",
    "        self.name=name\n",
    "        self.age=age\n",
    "        self.gender=gender\n",
    "    def get_details(self):\n",
    "        return (f\"Name: {self.name},Age:{self.age},Gender:{self.gender}\")\n",
    "class Student(Person):\n",
    "    def __init__(self,name,age,gender,student_id,major):\n",
    "        super().__init__(name,age,gender)\n",
    "        self.student_id=student_id\n",
    "        self.major=major\n",
    "    def study(self):\n",
    "        print(f\"{self.name} is studying.\")\n",
    "    def attend_class(self):\n",
    "        print(f\"{self.name} is attending class.\")\n",
    "class Professor(Person):\n",
    "    def __init__(self,name,age,gender,employee_id,department):\n",
    "        super().__init__(name,age,gender)\n",
    "        self.employee_id=employee_id\n",
    "        self.department=department\n",
    "    def teach(self):\n",
    "        print(f\"{self.name} is teaching a class.\")\n",
    "    def hold_office_hours(self):\n",
    "        print(f\"{self.name} is holding office hours.\")\n",
    "student1 = Student(\"Alice\",20,\"Female\",\"SOO1\",\"Computer Science\")\n",
    "professor = Professor(\"Dr.Smith\",40,\"Male\",\"POO1\",\"Computer Science\")\n",
    "print(student1.get_details())\n",
    "student1.study()\n",
    "student1.attend_class()\n",
    "print(\"\\n\" + professor.get_details())\n",
    "professor.teach()\n",
    "professor.hold_office_hours()\n",
    "        "
   ]
  },
  {
   "cell_type": "code",
   "execution_count": null,
   "id": "26892239-d0e3-4876-b150-a4d5bf0d38dd",
   "metadata": {},
   "outputs": [],
   "source": []
  },
  {
   "cell_type": "code",
   "execution_count": null,
   "id": "d480ad22-3b78-40f8-8729-dd329fcfac1e",
   "metadata": {},
   "outputs": [],
   "source": []
  },
  {
   "cell_type": "code",
   "execution_count": 67,
   "id": "abf9c7b5-6488-4096-a8c7-11fb4fe651c6",
   "metadata": {
    "tags": []
   },
   "outputs": [],
   "source": [
    "#ENCAPSULATION:"
   ]
  },
  {
   "cell_type": "code",
   "execution_count": 68,
   "id": "03b6e69e-b535-440d-86b4-a5c82c46e55f",
   "metadata": {
    "tags": []
   },
   "outputs": [],
   "source": [
    "#QUESTION 1"
   ]
  },
  {
   "cell_type": "code",
   "execution_count": 69,
   "id": "3b82e232-124c-47da-9760-b648aa592fb8",
   "metadata": {
    "tags": []
   },
   "outputs": [],
   "source": [
    "#EXPLAIN THE CONCEPT OF ENCAPSULATION IN PYTHON. WHAT IS ITS ROLE IN OBJECT-ORIENTED PROGRAMMING"
   ]
  },
  {
   "cell_type": "code",
   "execution_count": null,
   "id": "064fc8ae-f397-4dc4-a700-9f21e8828fef",
   "metadata": {},
   "outputs": [],
   "source": [
    "\"\"\"Encapsulation in python is about bundling data and methods together within a class. It helps in achieving data\n",
    "   hiding and abstraction in object-oriented programming. it allows us to control access to data and methods, \n",
    "   ensuring data integrity and providing a clean interface to interact with objects. It's like putting your code \n",
    "   in a protective bubble!"
   ]
  },
  {
   "cell_type": "code",
   "execution_count": null,
   "id": "4daff3e3-2592-4a8d-ac8a-fe9d640152c3",
   "metadata": {},
   "outputs": [],
   "source": []
  },
  {
   "cell_type": "code",
   "execution_count": null,
   "id": "124c4039-df96-42dc-bda6-90d3a03c8560",
   "metadata": {},
   "outputs": [],
   "source": []
  },
  {
   "cell_type": "code",
   "execution_count": 70,
   "id": "74617239-79e7-413f-b82f-3bba36ad3500",
   "metadata": {
    "tags": []
   },
   "outputs": [],
   "source": [
    "#QUESTION 2"
   ]
  },
  {
   "cell_type": "code",
   "execution_count": 71,
   "id": "80a71933-ddfb-4c7d-a1dd-10dacc1b56d4",
   "metadata": {
    "tags": []
   },
   "outputs": [],
   "source": [
    "#DESCRIBE THE KEY PRINCIPLES OF ENCAPSULATION, INCLUDING ACCESS CONTROL AND DATA HIDING."
   ]
  },
  {
   "cell_type": "code",
   "execution_count": null,
   "id": "6122fc6a-ab6a-47e5-a8c7-16cb4ca447a9",
   "metadata": {},
   "outputs": [],
   "source": [
    "\"\"\"When it comes to encapsulation, there are two key principles: access control and data hiding. Access control \n",
    "   determines how other parts of the code can interact with the data and methods of an object. it helps maintain\n",
    "   the integrity of the object. it helps maintain the integrity of the object's state by allowing only certain \n",
    "   operations to be performed on it. Data hiding, on the other hand, involves hiding the internal details of an\n",
    "   object and providing a controlled interface for interacting with it This helps prevent direct manipulation of\n",
    "   the object's data, ensuring that it remains consistent and valid. so encapsulation helps us keep things \n",
    "   organised and secure."
   ]
  },
  {
   "cell_type": "code",
   "execution_count": null,
   "id": "6054e553-b6fc-4980-a442-0de260c0f56e",
   "metadata": {},
   "outputs": [],
   "source": []
  },
  {
   "cell_type": "code",
   "execution_count": null,
   "id": "47600d4f-120a-4c5b-aa72-0b0781d7ecfc",
   "metadata": {},
   "outputs": [],
   "source": []
  },
  {
   "cell_type": "code",
   "execution_count": 72,
   "id": "411030ef-bdb7-4c67-8731-460d18f8eee1",
   "metadata": {
    "tags": []
   },
   "outputs": [],
   "source": [
    "#QUESTION 3"
   ]
  },
  {
   "cell_type": "code",
   "execution_count": 75,
   "id": "befa12b1-7ef7-49ab-adad-7c4fdfd27e37",
   "metadata": {
    "tags": []
   },
   "outputs": [],
   "source": [
    "#HOW CAN YOU ACHIEVE ENCAPSULATION IN PYTHON CLASSES? PROVIDE AN EXAMPLE."
   ]
  },
  {
   "cell_type": "code",
   "execution_count": null,
   "id": "2b45dc4c-e4ae-4133-8325-be918a4452da",
   "metadata": {},
   "outputs": [],
   "source": [
    "\"\"\"To achieve encapsulation in python classes,you can use access modifiers to control the visibility of attribute\n",
    "   and methods. By convention,attributes and methods with a single underscore(_)prefix are considered \"protected\"\n",
    "   and should be acced within the class or its subclasses. Attributes and methods with a double underscore(_)\n",
    "   prefix are considered \"private\" and should only be accessed within the class itself."
   ]
  },
  {
   "cell_type": "code",
   "execution_count": 2,
   "id": "a704b69a-9c01-495d-b44b-8ae2a1e4e0e0",
   "metadata": {
    "tags": []
   },
   "outputs": [
    {
     "name": "stdout",
     "output_type": "stream",
     "text": [
      "red\n",
      "10000\n",
      "15000\n"
     ]
    }
   ],
   "source": [
    "class Car:\n",
    "    def __init__(self):\n",
    "        self._color = \"red\"\n",
    "        self.__mileage = 10000\n",
    "    def get_mileage(self):\n",
    "        return self.__mileage\n",
    "    def set_mileage(self,mileage):\n",
    "        self.__mileage=mileage\n",
    "car = Car()\n",
    "print(car._color)\n",
    "print(car.get_mileage())\n",
    "car.set_mileage(15000)\n",
    "print(car.get_mileage())"
   ]
  },
  {
   "cell_type": "code",
   "execution_count": null,
   "id": "902865fa-fd08-49b1-87fd-0cb240776f45",
   "metadata": {},
   "outputs": [],
   "source": []
  },
  {
   "cell_type": "code",
   "execution_count": null,
   "id": "6e18184e-c9cb-4205-85f0-afd279b6f922",
   "metadata": {},
   "outputs": [],
   "source": []
  },
  {
   "cell_type": "code",
   "execution_count": 74,
   "id": "27931fe7-0878-48ba-83a2-f510118b498b",
   "metadata": {
    "tags": []
   },
   "outputs": [],
   "source": [
    "#QUESTION 4"
   ]
  },
  {
   "cell_type": "code",
   "execution_count": 76,
   "id": "f014a60b-5aa3-41a3-a69e-ac95516c6b15",
   "metadata": {
    "tags": []
   },
   "outputs": [],
   "source": [
    "#DISCUSS THE DIFFERENCE BETWEEN PUBLIC, PRIVATE AND PROCTECTED ACCESS MODIFIERS IN PYTHON."
   ]
  },
  {
   "cell_type": "code",
   "execution_count": null,
   "id": "79c7b220-09e6-45d5-80ca-0d3d8ec05813",
   "metadata": {},
   "outputs": [],
   "source": [
    "\"\"\"PUBLIC:\n",
    "   public attributes and methods are accessible from anywhere, both within the class and from external code.\n",
    "   they have no special syntax or naming convention. By default, all attributes and methods in python are \n",
    "   considered public.\n",
    "   \n",
    "   PRIVATE:\n",
    "   private attributes and methods are intended to be used only within the class itself. They are denoted by a \n",
    "   double underscore(_) prefix before their names. This naming convention indicates that they should not be access\n",
    "   or modified directly from outside the class. However, its important to note that Python does not enforce strict\n",
    "   private access, and they can still be access using a specific syntax\n",
    "   \n",
    "   PROTECTED: \n",
    "   protected attributes and methods are intended to be accessed within the class and its subclasses. They are \n",
    "   denoted by a single underscore(_) prefix before their names. Although python does not enforced strict protected\n",
    "   access it serves as a convention to indicate that these attributes and methods should not be accessed from \n",
    "   outside the class or its subclasses.\n",
    "   \n",
    "   It's important to note that these access modifiers are more of a convention in python, as the language does not\n",
    "   provide strict enforcement like some other programming languages. It's up to the developer to follow these \n",
    "   conventions to achieve encapsulation and maintain code integrity.\n",
    "   "
   ]
  },
  {
   "cell_type": "code",
   "execution_count": null,
   "id": "4c09edb8-ac03-42ad-99dd-5b76d5d6fbab",
   "metadata": {},
   "outputs": [],
   "source": []
  },
  {
   "cell_type": "code",
   "execution_count": null,
   "id": "45f78e41-1234-4a41-926d-5a06bf483b8f",
   "metadata": {},
   "outputs": [],
   "source": []
  },
  {
   "cell_type": "code",
   "execution_count": 77,
   "id": "408570fd-6a80-43e0-9b2f-bc2fc929cc1c",
   "metadata": {
    "tags": []
   },
   "outputs": [],
   "source": [
    "#QUESTION 5"
   ]
  },
  {
   "cell_type": "code",
   "execution_count": 79,
   "id": "887ad2fd-5e5a-4c29-8f3d-326cae8154e9",
   "metadata": {
    "tags": []
   },
   "outputs": [],
   "source": [
    "#CREATE A PYTHON CLASS CALLED PERSON WITH A PRIVATE ATTRIBUTE`__NAME.` PROVIDE METHODS TO GET AND SET THE NAME ATTRIBUTE"
   ]
  },
  {
   "cell_type": "code",
   "execution_count": 5,
   "id": "23fc0318-c8d9-4d03-8a37-b60f2716051d",
   "metadata": {},
   "outputs": [
    {
     "name": "stdout",
     "output_type": "stream",
     "text": [
      "John\n",
      "John\n"
     ]
    }
   ],
   "source": [
    "class Person:\n",
    "    def __init__(self,name):\n",
    "        self.__name=name\n",
    "    def get_name(self):\n",
    "        return self.__name\n",
    "    def set_name(self,name):\n",
    "        self._name = name\n",
    "person = Person(\"John\")\n",
    "print(person.get_name())\n",
    "person.set_name(\"Alice\")\n",
    "print(person.get_name())"
   ]
  },
  {
   "cell_type": "code",
   "execution_count": null,
   "id": "6853242d-8d97-4418-a578-36b4d9886209",
   "metadata": {},
   "outputs": [],
   "source": []
  },
  {
   "cell_type": "code",
   "execution_count": null,
   "id": "71fbb0ec-fa20-4016-8679-fafeb8968915",
   "metadata": {},
   "outputs": [],
   "source": []
  },
  {
   "cell_type": "code",
   "execution_count": 80,
   "id": "ad5e499e-688e-4f84-94a8-68083bd09852",
   "metadata": {
    "tags": []
   },
   "outputs": [],
   "source": [
    "#QUESTION 6"
   ]
  },
  {
   "cell_type": "code",
   "execution_count": 81,
   "id": "284ceffd-249b-4eea-a74d-baaa1b84ad00",
   "metadata": {
    "tags": []
   },
   "outputs": [],
   "source": [
    "#EXPLAIN THE PURPOSE OF GETTER AND SETTER METHODS IN ENCAPSULATION. PROVIDE EXAMPLES."
   ]
  },
  {
   "cell_type": "code",
   "execution_count": null,
   "id": "8959bb16-ef57-488a-a057-1fbda6465eb0",
   "metadata": {},
   "outputs": [],
   "source": [
    "\"\"\"getter and setter methods are an important part of encapsulation in object-oriented programming. They provide \n",
    "   a way to access and modify the private attributes of a class in a controlled manner.\n",
    "   A getter method, also known as an accessor method, is used to retrieve the value of a private attribute. It \n",
    "   allows us to access the attribute without directly exposing"
   ]
  },
  {
   "cell_type": "code",
   "execution_count": 14,
   "id": "d05db16a-d006-4d83-8510-301ba88ca8f1",
   "metadata": {
    "tags": []
   },
   "outputs": [
    {
     "name": "stdout",
     "output_type": "stream",
     "text": [
      "John\n"
     ]
    }
   ],
   "source": [
    "class Person:\n",
    "    def __init__(self,name):\n",
    "        self.__name=name\n",
    "    def get_name(self):\n",
    "        return self.__name\n",
    "person = Person(\"John\")\n",
    "print(person.get_name())"
   ]
  },
  {
   "cell_type": "code",
   "execution_count": null,
   "id": "10e7a4d9-b70c-4252-a932-8010844afc3f",
   "metadata": {},
   "outputs": [],
   "source": []
  },
  {
   "cell_type": "code",
   "execution_count": null,
   "id": "af65ca57-0607-49c9-8e67-7488c9d9625d",
   "metadata": {},
   "outputs": [],
   "source": []
  },
  {
   "cell_type": "code",
   "execution_count": 82,
   "id": "e27d1cac-45f9-4795-934a-00ea865207d2",
   "metadata": {
    "tags": []
   },
   "outputs": [],
   "source": [
    "#QUESTION 7"
   ]
  },
  {
   "cell_type": "code",
   "execution_count": 83,
   "id": "7281be3a-65de-472b-b7a8-3040769b7d3b",
   "metadata": {
    "tags": []
   },
   "outputs": [],
   "source": [
    "#WHAT IS NAME MANGLING IN PYTHON AND HOW DOES IT AFFECT ENCAPSULATION?"
   ]
  },
  {
   "cell_type": "code",
   "execution_count": null,
   "id": "1cf494cc-d602-458f-8c3e-191ae8af6491",
   "metadata": {},
   "outputs": [],
   "source": [
    "\"\"\"Name mangling in python is a mechanism that modifies the name of a class attribute to make it more difficult\n",
    "   to access directly from outside the class. it is achieved by adding a prefix of double underscores(\"__\") to \n",
    "   the attribute name.\n",
    "   \n",
    "   The purpose of name mangling is to enforce stronger encapsulation by making attributes private to the class. \n",
    "   it helps prevent accidental or unauthorized access to the attributes from outside the class. however, it is\n",
    "   important to note that name mangling does does not provide true data encapsulation or  security, as the \n",
    "   modified attribute name can still be accessed using a specific syntax."
   ]
  },
  {
   "cell_type": "code",
   "execution_count": null,
   "id": "38cc7711-4725-45c2-b88d-edebafea1ecc",
   "metadata": {},
   "outputs": [],
   "source": []
  },
  {
   "cell_type": "code",
   "execution_count": null,
   "id": "9583a6cc-08cf-4640-aa7a-85173ae67fe7",
   "metadata": {},
   "outputs": [],
   "source": []
  },
  {
   "cell_type": "code",
   "execution_count": 84,
   "id": "2b41a15b-45ba-4233-9026-036fbe3a88c5",
   "metadata": {
    "tags": []
   },
   "outputs": [],
   "source": [
    "#QUESTION 8"
   ]
  },
  {
   "cell_type": "code",
   "execution_count": 85,
   "id": "d590b376-bb5f-4b78-8cce-21a2837240d1",
   "metadata": {
    "tags": []
   },
   "outputs": [],
   "source": [
    "#CREATE A PYTHON CLASS `BANKACCOUNT` WITH PRIVATE ATTRIBUTES FOR THE ACCOUNT BALANCE (`__BALANCE`) AND ACCOUNT NUMBER(`__ACCOUNT_NUMBER`). PROVIDE METHODS FOR DEPOSITING AND WITHDRAWING MONEY."
   ]
  },
  {
   "cell_type": "code",
   "execution_count": 4,
   "id": "e40ff87e-8431-4fbb-bfba-ba015d02f56d",
   "metadata": {},
   "outputs": [],
   "source": [
    "class BankAccount:\n",
    "    def __init__(self,account_number):\n",
    "        self.__account_number=account_number\n",
    "        self.__balance = 0\n",
    "    def deposit(self,amount):\n",
    "        self.__balance += amount\n",
    "    def withdraw(self,amount):\n",
    "        if self.__balance>=amount:\n",
    "            self.__balance-=amount\n",
    "        else:\n",
    "            print(\"Insufficient balance.\")\n",
    "    def get_balance(self):\n",
    "        return self.__balance\n",
    "    def get_account_number(self):\n",
    "        return self.__account_number"
   ]
  },
  {
   "cell_type": "code",
   "execution_count": null,
   "id": "b6c25f74-5a99-49c3-bba2-556d3efbb294",
   "metadata": {},
   "outputs": [],
   "source": []
  },
  {
   "cell_type": "code",
   "execution_count": null,
   "id": "36539916-64a4-4576-8c5e-bf1647200968",
   "metadata": {},
   "outputs": [],
   "source": []
  },
  {
   "cell_type": "code",
   "execution_count": 86,
   "id": "a7481f69-4c83-43fe-b348-198e82719729",
   "metadata": {
    "tags": []
   },
   "outputs": [],
   "source": [
    "#QUESTION 9"
   ]
  },
  {
   "cell_type": "code",
   "execution_count": 87,
   "id": "32edbd38-da32-463d-a51f-9c4b869388a3",
   "metadata": {
    "tags": []
   },
   "outputs": [],
   "source": [
    "# DISCUSS THE ADVANTAGES OF ENCAPSULATION IN TERMS OF CODE MAINTAINABILITY AND SECURITY."
   ]
  },
  {
   "cell_type": "code",
   "execution_count": null,
   "id": "07fdea82-285c-4b4a-b171-43b584e1b4fd",
   "metadata": {},
   "outputs": [],
   "source": [
    "\"\"\"In terms of maintainability,encapulation help by providing clear sepration between the internal implementation\n",
    "   details of a class and its external interface. This means that if you need to make changes to the internal\n",
    "   workings of a class, you can do so without affecting the code that uses the class. This makes it easier to\n",
    "   update and modify code without introducing unintended side effects or breaking existing functionality. It also\n",
    "   promotes code reusability without worrying about their internal implementation.\n",
    "   \n",
    "   from a security perspective, encapsulation helps by resticting direct access to the internal state of an object\n",
    "   by making attributes private or protected, you can control how they are accessed and modified. This prevents \n",
    "   unauthorized or unintended changes to the object's state, ensuring that it remains in a valid and consistent\n",
    "   state. Encapsulation also allows you to enforce data validation and apply access restrictions through methods,\n",
    "   providing an additional layer of security."
   ]
  },
  {
   "cell_type": "code",
   "execution_count": null,
   "id": "6d6797b8-1066-4738-a0fb-855e52bc7547",
   "metadata": {},
   "outputs": [],
   "source": []
  },
  {
   "cell_type": "code",
   "execution_count": null,
   "id": "50ef795e-4385-4139-9cbc-6dcc179da47e",
   "metadata": {},
   "outputs": [],
   "source": []
  },
  {
   "cell_type": "code",
   "execution_count": 88,
   "id": "0056736a-65a7-4e92-a099-313e639387e4",
   "metadata": {
    "tags": []
   },
   "outputs": [],
   "source": [
    "#QUESTION 10"
   ]
  },
  {
   "cell_type": "code",
   "execution_count": 20,
   "id": "ab9d74cf-d85f-4df0-9df4-a437cc13d355",
   "metadata": {},
   "outputs": [],
   "source": [
    "#HOW CAN YOU ACCESS PRIVATE ATTRIBUTES IN PYTHON? PROVIDE AN EXAMPLE DEMONSTRATING THE USE OF NAME MANGLING"
   ]
  },
  {
   "cell_type": "code",
   "execution_count": null,
   "id": "00a90253-cc29-483f-be51-a7a5a930d921",
   "metadata": {},
   "outputs": [],
   "source": [
    "\"\"\"Private attributes are typically accessed using getter and setter methods. these methods provide controlled \n",
    "   access to the private attributes from outside the class. however python also supports feature called name \n",
    "   mangling, which allows limited access to private attributes.\n",
    "   Name mangling is a mechanism in python that modifies the name of a private attribute by adding a prefix of \n",
    "   double underscores (`__`) to it. The modification makes it harder to access the attributes directly from \n",
    "   ouside the class."
   ]
  },
  {
   "cell_type": "code",
   "execution_count": 25,
   "id": "b9eddfa7-f174-492e-b864-396fd5aa345b",
   "metadata": {
    "tags": []
   },
   "outputs": [
    {
     "name": "stdout",
     "output_type": "stream",
     "text": [
      "42\n",
      "42\n"
     ]
    }
   ],
   "source": [
    "class MyClass:\n",
    "    def __init__(self):\n",
    "        self.__private_attribute = 42\n",
    "    def get_private_attribute(self):\n",
    "        return self.__private_attribute\n",
    "obj = MyClass()\n",
    "print(obj.get_private_attribute())\n",
    "\n",
    "print(obj._MyClass__private_attribute)"
   ]
  },
  {
   "cell_type": "code",
   "execution_count": null,
   "id": "95fe51c6-ce8c-4731-9ea1-ccc0084924b2",
   "metadata": {},
   "outputs": [],
   "source": []
  },
  {
   "cell_type": "code",
   "execution_count": null,
   "id": "d501f2c9-4c04-4511-8669-1f1cac4640a0",
   "metadata": {},
   "outputs": [],
   "source": []
  },
  {
   "cell_type": "code",
   "execution_count": 2,
   "id": "d6bd62e5-5294-4297-b8e1-58863956de25",
   "metadata": {
    "tags": []
   },
   "outputs": [],
   "source": [
    "#QUESTION 11"
   ]
  },
  {
   "cell_type": "code",
   "execution_count": 21,
   "id": "aa2e7e8c-941e-4665-b9cf-21caf1442744",
   "metadata": {
    "tags": []
   },
   "outputs": [],
   "source": [
    "#CREATE A PYTHON CLASS HIERARCHY FOR A SCHOOL SYSTEM, INCLUDING CLASSES FOR STUDENTS, TEACHERS, AND COURSES, AND IMPLEMENT ENCAPSULATION PRINCIPLES TO PROTECT SENSITIVE INFORMATION."
   ]
  },
  {
   "cell_type": "code",
   "execution_count": 27,
   "id": "de3914b3-5095-4ae2-894e-1883bf2e6f50",
   "metadata": {},
   "outputs": [],
   "source": [
    "class Person:\n",
    "    def __init__(self, name, age, gender):\n",
    "        self._name=name\n",
    "        self._age=age\n",
    "        self._gender=gender\n",
    "    def get_name(self):\n",
    "        return self._name\n",
    "    def get_age(self):\n",
    "        return self._age\n",
    "    def get_gender(self):\n",
    "        return self._gender\n",
    "class Student(Person):\n",
    "    def __init__(self,name,age,gender,student_id):\n",
    "        super().__init__(name,age,gender)\n",
    "        self._student_id=student_id\n",
    "        self._courses=[]\n",
    "    def get_student_id(self):\n",
    "        return self._student_id\n",
    "    def enroll_course(self,course):\n",
    "        self._courses.append(course)\n",
    "    def get_courses(self):\n",
    "        return self._courses\n",
    "class Teacher(Person):\n",
    "    def __init__(self,name,age,gender,employee_id):\n",
    "        super().__init__(name,age,gender)\n",
    "        self._employee_id=employee_id\n",
    "        self._courses_taught =[]\n",
    "    def get_employee_id(self):\n",
    "        return self._employee_id\n",
    "    def assign_course(self,course):\n",
    "        self._couses_taught.append(course)\n",
    "    def get_courses_taught(self):\n",
    "        return self._courses_taught\n",
    "class Course:\n",
    "    def __init__(self,course_code,course_name):\n",
    "        self._course_code = course_code\n",
    "        self._course_name=course_name\n",
    "    def get_course_code(self):\n",
    "        return self._course_code\n",
    "    def get_course_name(self):\n",
    "        return self._course_name"
   ]
  },
  {
   "cell_type": "code",
   "execution_count": null,
   "id": "5f4413ce-ecd4-472c-9efb-24e193e1425b",
   "metadata": {},
   "outputs": [],
   "source": []
  },
  {
   "cell_type": "code",
   "execution_count": null,
   "id": "d3d9feab-55af-4a80-8308-4c69b7687b7b",
   "metadata": {},
   "outputs": [],
   "source": []
  },
  {
   "cell_type": "code",
   "execution_count": 4,
   "id": "54eaf0a5-e12e-448f-9fa6-52b5f05cf350",
   "metadata": {
    "tags": []
   },
   "outputs": [],
   "source": [
    "#QUESTION 12"
   ]
  },
  {
   "cell_type": "code",
   "execution_count": 22,
   "id": "ada22fbe-fc2a-4135-9126-66c991292e0c",
   "metadata": {
    "tags": []
   },
   "outputs": [],
   "source": [
    "#EXPLAIN THE CONCEPT OF PROPERTY DECORATORS IN PYTHON AND HOW THEY RELATE TO ENCAPSULATION."
   ]
  },
  {
   "cell_type": "code",
   "execution_count": null,
   "id": "be5b134b-3995-4b6f-8048-9d35b5413604",
   "metadata": {},
   "outputs": [],
   "source": [
    "\"\"\"In python, property decorators are used to define getter,setter, and deletermethods for class attributes. they\n",
    "   allow you to encapsulate the access and manipulation of class properties, proving a way to control and validate\n",
    "   attribute values.\n",
    "   \n",
    "   property decorators in python help implement encapsulation by allowing you to control the access, assignment,\n",
    "   and deletion of class attributes, ensuring that these operations adhere to specific rules or validations."
   ]
  },
  {
   "cell_type": "code",
   "execution_count": null,
   "id": "3d1a41ea-3c7e-4536-8bc5-33598503f1ef",
   "metadata": {},
   "outputs": [],
   "source": []
  },
  {
   "cell_type": "code",
   "execution_count": null,
   "id": "6378cfe8-bb18-4146-91ce-8fc2596d7aaf",
   "metadata": {},
   "outputs": [],
   "source": []
  },
  {
   "cell_type": "code",
   "execution_count": 6,
   "id": "d1120f81-0579-47d4-9996-5d25190414bc",
   "metadata": {
    "tags": []
   },
   "outputs": [],
   "source": [
    "#QUESTION 13"
   ]
  },
  {
   "cell_type": "code",
   "execution_count": 23,
   "id": "32f65094-8305-45c3-9781-7fd4993669cc",
   "metadata": {
    "tags": []
   },
   "outputs": [],
   "source": [
    "#WHAT IS DATA HIDING, AND WHY IS IT IMPORTANT IN ENCAPSULATION? PROVIDE EXAMPLES."
   ]
  },
  {
   "cell_type": "code",
   "execution_count": null,
   "id": "f625b699-4a74-4106-b31a-b0fe7b623e45",
   "metadata": {},
   "outputs": [],
   "source": [
    "\"\"\"Data hiding is an important concept in encpsulation that allows us to restrict access to certain data or \n",
    "   methods within a class. it helps in maintaining the integrity and security of the data by preventing direct \n",
    "   access from outside the class.\n",
    "   By hiding the internal data, we can control how it is accessedand manipulated, ensuring that it is done in a\n",
    "   controlled and consistent manner. This helps maintain the integrity of the object's state and prevents \n",
    "   unintended modifications or misuse.\n",
    "   in python, we can achieve data hiding by using access modifiers such as private attributes and methods.\n",
    "   one way to implement this is by prefixing the attribute or method name with a double underscore(_).\n",
    "   This makes the attributes or method private and inaccessible from outside the class."
   ]
  },
  {
   "cell_type": "code",
   "execution_count": 36,
   "id": "24674219-b0de-49b0-980e-ac5069d9a773",
   "metadata": {
    "tags": []
   },
   "outputs": [
    {
     "name": "stdout",
     "output_type": "stream",
     "text": [
      "1000\n",
      "1500\n",
      "1300\n"
     ]
    }
   ],
   "source": [
    "class BankAccount:\n",
    "    def __init__(self,initial_balance):\n",
    "        self.__balance = initial_balance\n",
    "    def deposit(self,amount):\n",
    "        self.__balance+=amount\n",
    "    def withdraw(self,amount):\n",
    "        if self.__balance >= amount:\n",
    "            self.__balance -= amount\n",
    "        else:\n",
    "            print(\"Insufficient funds\")\n",
    "    def get_balance(self):\n",
    "        return self.__balance\n",
    "account = BankAccount(1000)\n",
    "print(account.get_balance())\n",
    "account.deposit(500)\n",
    "print(account.get_balance())\n",
    "account.withdraw(200)\n",
    "print(account.get_balance())"
   ]
  },
  {
   "cell_type": "code",
   "execution_count": null,
   "id": "1f30f439-0f7e-448d-91b0-728ba9571d85",
   "metadata": {},
   "outputs": [],
   "source": []
  },
  {
   "cell_type": "code",
   "execution_count": null,
   "id": "16d55e23-9c47-4fc8-b12c-38c519816f8c",
   "metadata": {},
   "outputs": [],
   "source": []
  },
  {
   "cell_type": "code",
   "execution_count": 8,
   "id": "e119e385-e706-4cf9-bb47-7544402d8b32",
   "metadata": {
    "tags": []
   },
   "outputs": [],
   "source": [
    "#QUESTION 14"
   ]
  },
  {
   "cell_type": "code",
   "execution_count": 24,
   "id": "ef38ac38-7957-4839-851a-9144e6b8f477",
   "metadata": {
    "tags": []
   },
   "outputs": [],
   "source": [
    "#CREATE A PYTHON CLASS CALLED `EMPLOYEE` WITH PRIVATE ATTRIBUTES FOR SALARY(`_ _SALARY`) AND EMPLOYEE ID (`_ _EMPLOYEE_ID`). PROVIDE A METHOD TO CALCULATE YEARLY BONUSES."
   ]
  },
  {
   "cell_type": "code",
   "execution_count": 3,
   "id": "46518488-9437-4537-8001-a8b858587a79",
   "metadata": {},
   "outputs": [
    {
     "name": "stdout",
     "output_type": "stream",
     "text": [
      "Yearly bonus: 5000.0\n"
     ]
    }
   ],
   "source": [
    "class Employee:\n",
    "    def __init__(self,salary,employee_id):\n",
    "        self.__salary = salary\n",
    "        self.__employee_id = employee_id\n",
    "    def calculate_yearly_bonus(self):\n",
    "        bonus_percentage = 0.1\n",
    "        bonus_amount = self.__salary*bonus_percentage\n",
    "        return bonus_amount\n",
    "emp = Employee(50000,12345)\n",
    "bonus = emp.calculate_yearly_bonus()\n",
    "print(\"Yearly bonus:\",bonus)"
   ]
  },
  {
   "cell_type": "code",
   "execution_count": null,
   "id": "ec23c0b7-b9ca-4d7e-bb3d-b1d9f56c46a9",
   "metadata": {},
   "outputs": [],
   "source": []
  },
  {
   "cell_type": "code",
   "execution_count": null,
   "id": "539c3fb7-c08b-40f2-9274-fa36af96f53d",
   "metadata": {},
   "outputs": [],
   "source": []
  },
  {
   "cell_type": "code",
   "execution_count": 10,
   "id": "b0f427f0-5098-45f7-8155-0d37455f3d44",
   "metadata": {
    "tags": []
   },
   "outputs": [],
   "source": [
    "#QUESTION 15"
   ]
  },
  {
   "cell_type": "code",
   "execution_count": 25,
   "id": "eae33ebf-3b8e-44f5-acbc-006292cb7fa9",
   "metadata": {
    "tags": []
   },
   "outputs": [],
   "source": [
    "#DISCUSS THE USER OF ACCESSORS AND MUTATORS IN ENCAPSULATION. HOW DO THEY HELP MAINTAIN CONTROL OVER ATTRIBUTE ACCESS"
   ]
  },
  {
   "cell_type": "code",
   "execution_count": null,
   "id": "d6c244fe-d654-492e-9e62-086a604ab640",
   "metadata": {},
   "outputs": [],
   "source": [
    "\"\"\"Accessors and mutators, also known as getters and setters, are methods used in encapsulation to control access\n",
    "   to class attributes. They help maintain control over attribute access by providing a structured way to retrieve\n",
    "   and modify the values of private attributes.\n",
    "   \n",
    "   Accessors, or getters are methods that allow us to retrieve the values of private attributes. they typically \n",
    "   have a naming convention like `get_attribute_name()`. By using accessors, we can control how the attribute\n",
    "   values are accessed and ensure that attribute necessary validation or transformations are applied before \n",
    "   returning the value. This helps maintain data integrity and prevents direct access to private attributes, \n",
    "   allowing us to enforce any business rules or constraints\n",
    "   \n",
    "   Mutators, or setters are methods that allow us to modify the values of private attributes. They typiclly have \n",
    "   a naming convention like `set_attributes_name(new_value)`. Mutators provide a way to enforce any necessary \n",
    "   validation or logic before updating the attribute value. This helps maintain control over attribute \n",
    "   modification and ensures that any changes adhere to the defined rules and constraints.\n",
    "   "
   ]
  },
  {
   "cell_type": "code",
   "execution_count": null,
   "id": "458bedf9-ac01-4174-96ee-ec88871af96e",
   "metadata": {},
   "outputs": [],
   "source": []
  },
  {
   "cell_type": "code",
   "execution_count": null,
   "id": "6263104d-fc3b-4509-896b-06761ba2467c",
   "metadata": {},
   "outputs": [],
   "source": []
  },
  {
   "cell_type": "code",
   "execution_count": 12,
   "id": "20c048b3-f4f8-4beb-b122-f4f1ceebffdb",
   "metadata": {
    "tags": []
   },
   "outputs": [],
   "source": [
    "#QUESTION 16"
   ]
  },
  {
   "cell_type": "code",
   "execution_count": 26,
   "id": "f449632d-abef-4ef9-ae44-bd479413992e",
   "metadata": {
    "tags": []
   },
   "outputs": [],
   "source": [
    "#WHAT ARE THE POTENTIAL DRAWBACKS OR DISADVANTAGES OF USING ENCASULATION IN PYTHON?"
   ]
  },
  {
   "cell_type": "code",
   "execution_count": null,
   "id": "36984539-e701-463b-a1d8-b75b4e49078f",
   "metadata": {},
   "outputs": [],
   "source": [
    "\"\"\"Encapsulation in Python offers numerous benefits, but it's important to consider potential drawbacks as well.\n",
    "   Here are a few potential disadvantages of using encapsulation:\n",
    "\n",
    "1. Increased complexity: Encapsulation can introduce additional complexity to the codebase, especially when\n",
    "   dealing with a large number of classes and interactions between them. This complexity can make the code harder\n",
    "   to understand and maintain.\n",
    "\n",
    "2. Performance overhead: The use of accessors and mutators can introduce a performance overhead, as each access or\n",
    "   modification of an attribute requires additional method calls. While the impact is generally negligible, it \n",
    "   can become a concern in performance-critical situations.\n",
    "\n",
    "3. Limited flexibility: Encapsulation can restrict direct access to attributes, which may limit the flexibility \n",
    "   of certain operations. In some cases, direct attribute access might be more efficient or necessary, but\n",
    "   encapsulation can make it more challenging to achieve.\n",
    "\n",
    "4. Increased development time: Implementing encapsulation requires writing additional code for accessors and \n",
    "   mutators, which can increase development time. This can be especially true when dealing with a large number \n",
    "   of attributes or complex validation logic.\n",
    "\n",
    "5. Difficulty in debugging: Encapsulation can make it harder to debug code, as it adds an extra layer of \n",
    "   indirection. When an issue arises, it may be necessary to trace through multiple layers of method calls to \n",
    "   identify the root cause."
   ]
  },
  {
   "cell_type": "code",
   "execution_count": null,
   "id": "13d97e00-df5d-43db-832b-d87b3ace9986",
   "metadata": {},
   "outputs": [],
   "source": []
  },
  {
   "cell_type": "code",
   "execution_count": 14,
   "id": "a50e9933-f258-4056-885f-15cc3b516c4a",
   "metadata": {
    "tags": []
   },
   "outputs": [],
   "source": [
    "#QUESTION 17"
   ]
  },
  {
   "cell_type": "code",
   "execution_count": 27,
   "id": "64e1ec47-3bc8-4189-b172-63962130ce01",
   "metadata": {
    "tags": []
   },
   "outputs": [],
   "source": [
    "#CREATE A PYTHON CLASS FOR A LIBRARY SYSTEM THAT ENCAPSULATES BOOK INFORMATION, INCLUDING TITLES, AUTHORS, AUTHORS,AND AVAILABILITY STATUS."
   ]
  },
  {
   "cell_type": "code",
   "execution_count": 7,
   "id": "435a1f77-e519-494b-9455-88d54c7e7ca9",
   "metadata": {},
   "outputs": [
    {
     "name": "stdout",
     "output_type": "stream",
     "text": [
      "The book'The Great Gatsby' by F.Scott Fitzgerald hasbeen checked out.\n",
      "The book 'The Great Gatsby' by F.Scott Fitzgerald is currently unavailable.\n",
      "The book 'The Great Gatsby' by F.Scott Fitzgerald is currently unavailable.\n",
      "The book 'To kill a mockingbird' by Harper Lee' is already available.\n"
     ]
    }
   ],
   "source": [
    "class Book:\n",
    "    def __init__(self,title,author):\n",
    "        self.title = title\n",
    "        self.author = author\n",
    "        self.available = True\n",
    "    def check_out(self):\n",
    "        if self.available:\n",
    "            self.available = False\n",
    "            print(f\"The book'{self.title}' by {self.author} hasbeen checked out.\")\n",
    "        else:\n",
    "            print(f\"The book '{self.title}' by {self.author} is currently unavailable.\")\n",
    "    def check_in(self):\n",
    "        if not self.available:\n",
    "            self.available =True\n",
    "            print(f\"The book '{self.title}' by {self.author}' has been checked in.\")\n",
    "        else:\n",
    "            print(f\"The book '{self.title}' by {self.author}' is already available.\")\n",
    "book1 = Book(\"The Great Gatsby\",\"F.Scott Fitzgerald\")\n",
    "book2 = Book(\"To kill a mockingbird\",\"Harper Lee\")\n",
    "book1.check_out()\n",
    "book1.check_out()\n",
    "book1.check_out()\n",
    "book2.check_in()"
   ]
  },
  {
   "cell_type": "code",
   "execution_count": null,
   "id": "f4c8c8a7-39d0-4b1c-92d8-8954724245bc",
   "metadata": {},
   "outputs": [],
   "source": []
  },
  {
   "cell_type": "code",
   "execution_count": null,
   "id": "9adb7bba-dbba-4e92-b809-8d7bd0fde329",
   "metadata": {},
   "outputs": [],
   "source": []
  },
  {
   "cell_type": "code",
   "execution_count": 16,
   "id": "fcc7ee70-643c-40e9-98a7-98c6c41dbfd2",
   "metadata": {
    "tags": []
   },
   "outputs": [],
   "source": [
    "#QUESTION 18"
   ]
  },
  {
   "cell_type": "code",
   "execution_count": 28,
   "id": "27e1447c-2105-49bd-ad5f-0f0b9c2931de",
   "metadata": {
    "tags": []
   },
   "outputs": [],
   "source": [
    "#EXPLAIN HOW ENCAPSULATION ENHANCES CODE REUSABILITY AND MODULARITY IN PYTHON PROGRAMS."
   ]
  },
  {
   "cell_type": "code",
   "execution_count": null,
   "id": "f341147e-c034-4a8a-bae1-d0e32b07ba8a",
   "metadata": {},
   "outputs": [],
   "source": [
    "\"\"\"Encapsulation in Python enhances code reusability and modularity by providing a way to hide the internal \n",
    "   implementation details of a class and only expose a well-defined interface to the outside world. This allows \n",
    "   for better separation of concerns and promotes the concept of \"black-box\" programming.\n",
    "\n",
    "   With encapsulation, the internal data and methods of a class are encapsulated within the class itself, making \n",
    "   them private and inaccessible from outside the class. This protects the data from being accidentally modified\n",
    "   or misused by other parts of the program. Instead, the class provides public methods or properties that can\n",
    "   be used to interact with the encapsulated data.\n",
    "\n",
    "   By encapsulating the implementation details, the class becomes a self-contained unit that can be easily reused\n",
    "   in different parts of the program or even in different programs altogether. Other parts of the program can\n",
    "   interact with the class through its public interface, without needing to know or rely on the internal \n",
    "   implementation details. This promotes code reusability, as the same class can be used in multiple contexts \n",
    "   without modification.\n",
    "\n",
    "   Encapsulation also enhances modularity in Python programs. A well-encapsulated class can be treated as a\n",
    "   separate module or component, with a clear boundary and interface. This allows for easier maintenance, \n",
    "   testing, and debugging of the codebase. Changes made to the internal implementation of a class do not affect\n",
    "   other parts of the program that rely on its public interface, as long as the interface remains unchanged. \n",
    "   This promotes modularity, as different parts of the program can be developed and maintained independently.\n",
    "\n",
    "Overall, encapsulation in Python enhances code reusability and modularity by providing a clear separation\n",
    "between the internal implementation and the external interface of a class. It promotes the principles of\n",
    "information hiding and abstraction, allowing for more flexible and maintainable code."
   ]
  },
  {
   "cell_type": "code",
   "execution_count": null,
   "id": "b3df3891-7412-49eb-abf1-2131c0671979",
   "metadata": {},
   "outputs": [],
   "source": []
  },
  {
   "cell_type": "code",
   "execution_count": null,
   "id": "e794dbe2-5762-4183-ad39-4ce28e7ee4ab",
   "metadata": {},
   "outputs": [],
   "source": []
  },
  {
   "cell_type": "code",
   "execution_count": 18,
   "id": "a9853d64-ca73-4299-9c6f-eb4fd1672617",
   "metadata": {
    "tags": []
   },
   "outputs": [],
   "source": [
    "#QUESTION 19"
   ]
  },
  {
   "cell_type": "code",
   "execution_count": 29,
   "id": "dcf6e3c8-1762-41f1-9973-40aeee103768",
   "metadata": {
    "tags": []
   },
   "outputs": [],
   "source": [
    "#DESCRIBE THE CONCEPT OF INFORMATION HIDING IN ENCAPSULATION. WHY IS IT ESSENTIAL IN SOFTWARE DEVELOPMENT?"
   ]
  },
  {
   "cell_type": "code",
   "execution_count": null,
   "id": "cc390e00-6b1f-42da-8f17-f45abb93fa1f",
   "metadata": {},
   "outputs": [],
   "source": [
    "\"\"\"Information hiding is a crucial aspect of encapsulation in software development. It refers to the practice of\n",
    "   keeping the internal details of a class or module hidden from other parts of the program. By hiding the \n",
    "   implementation details, we create a separation between the internal workings and the external interface of a\n",
    "   class.\n",
    "\n",
    "   The main reason why information hiding is essential in software development is to promote abstraction and\n",
    "   reduce complexity. When we hide the internal details, we create a clear boundary between what is visible and\n",
    "   what is hidden. This allows us to focus on using the class's public interface without worrying about the \n",
    "   underlying implementation.\n",
    "\n",
    "   Information hiding also helps in maintaining code integrity and security. By making the internal details \n",
    "   private, we prevent direct access and modification from external sources. This ensures that the data and\n",
    "   methods are accessed and manipulated only through the defined public interface, reducing the risk of \n",
    "   unintended changes or misuse.\n",
    "\n",
    "   Furthermore, information hiding enhances code maintainability and flexibility. Since the internal details are\n",
    "   hidden, we can modify and improve the implementation without affecting other parts of the program that rely \n",
    "   on the class's public interface. This promotes code modularity and makes it easier to update or replace the\n",
    "   underlying implementation without impacting the overall functionality.\n",
    "\n",
    "In summary, information hiding is essential in software development because it promotes abstraction, reduces\n",
    "complexity, enhances code integrity and security, and improves code maintainability and flexibility. It allows\n",
    "us to focus on using the class's public interface without worrying about the internal implementation details."
   ]
  },
  {
   "cell_type": "code",
   "execution_count": null,
   "id": "93433811-39c3-45b1-9ea8-bc7ac1869595",
   "metadata": {},
   "outputs": [],
   "source": []
  },
  {
   "cell_type": "code",
   "execution_count": null,
   "id": "0869d546-51be-40fb-a024-6bb2326a2167",
   "metadata": {},
   "outputs": [],
   "source": []
  },
  {
   "cell_type": "code",
   "execution_count": 30,
   "id": "af839ef6-459e-4067-93e1-f56f781fbf01",
   "metadata": {
    "tags": []
   },
   "outputs": [],
   "source": [
    "#QUESTION 20"
   ]
  },
  {
   "cell_type": "code",
   "execution_count": 31,
   "id": "81cdf1e1-f4d7-43ed-975c-5bd27458ae32",
   "metadata": {
    "tags": []
   },
   "outputs": [],
   "source": [
    "#CREATE A PYTHON CLASS CALLED `CUSTOMER` WITH PRIVATE ATTRIBUTES FOR CUSTOMER DETAILS LIKE NAME, ADDRESS, AND CONTACT INFORMATION. IMPLEMENT ENCAPSULATION TO ENSURE DATA INTERITY AND SECURITY."
   ]
  },
  {
   "cell_type": "code",
   "execution_count": 49,
   "id": "15fee5ac-025a-49d3-9b38-06fc6bdb4a62",
   "metadata": {},
   "outputs": [
    {
     "name": "stdout",
     "output_type": "stream",
     "text": [
      "John Doe\n",
      "123 Main St\n",
      "johndoe@example.com\n",
      "456 Elm St\n",
      "newmail@example.com\n"
     ]
    }
   ],
   "source": [
    "class Customer:\n",
    "    def __init__(self,name,address,contact_info):\n",
    "        self.__name = name\n",
    "        self.__address = address\n",
    "        self.__contact_info = contact_info\n",
    "    def get_name(self):\n",
    "        return self.__name\n",
    "    def get_address(self):\n",
    "        return self.__address\n",
    "    def get_contact_info(self):\n",
    "        return self.__contact_info\n",
    "    def update_address(self,new_address):\n",
    "        self.__address = new_address\n",
    "    def update_contact_info(self,new_contact_info):\n",
    "        self.__contact_info = new_contact_info\n",
    "customer = Customer(\"John Doe\",\"123 Main St\", \"johndoe@example.com\")\n",
    "print(customer.get_name())\n",
    "print(customer.get_address())\n",
    "print(customer.get_contact_info())\n",
    "customer.update_address(\"456 Elm St\")\n",
    "print(customer.get_address())\n",
    "customer.update_contact_info(\"newmail@example.com\")\n",
    "print(customer.get_contact_info())"
   ]
  },
  {
   "cell_type": "code",
   "execution_count": null,
   "id": "d9357261-ded0-4f14-a7f2-4d8a097262c3",
   "metadata": {},
   "outputs": [],
   "source": []
  },
  {
   "cell_type": "code",
   "execution_count": null,
   "id": "b2b2c78a-4b2a-4ddb-93f5-9de67cdc6230",
   "metadata": {},
   "outputs": [],
   "source": []
  },
  {
   "cell_type": "code",
   "execution_count": 32,
   "id": "0baadfa7-d772-41c1-9719-53f96fd5c6e6",
   "metadata": {
    "tags": []
   },
   "outputs": [],
   "source": [
    "#POLYMORPHISM:"
   ]
  },
  {
   "cell_type": "code",
   "execution_count": 33,
   "id": "4310d563-45f1-4eee-b10b-c9c37f443d62",
   "metadata": {
    "tags": []
   },
   "outputs": [],
   "source": [
    "#QUESTION 1 "
   ]
  },
  {
   "cell_type": "code",
   "execution_count": 34,
   "id": "e45e1063-2eba-44fa-9957-0eca654cd4b2",
   "metadata": {
    "tags": []
   },
   "outputs": [],
   "source": [
    "#WHAT IS POLYMORPHISM IN PYTHON HOW IT IS RELATED TO OBJECT-ORIENTED PROGRAMMING"
   ]
  },
  {
   "cell_type": "code",
   "execution_count": null,
   "id": "e56d8cca-ab84-4f57-ac88-6095ff6ca6bf",
   "metadata": {},
   "outputs": [],
   "source": [
    "\"\"\"Polymorphism in python refers to the ability of objects to take on different froms or behaviours. In object-\n",
    "   oriented programming, it allows objects of different classes to be treated as objects of a common superclass.\n",
    "   This means that you can use a single interface to represent different types of objects. for example, you can \n",
    "   have a superclass called \"shape\" and subclasses like \"circle\" and \"rectangle\". Even though they are different \n",
    "   shapes, you can treat them as \"shape\" objects and call methods like \"calculate_area()\" or \"draw()\". it \n",
    "   promotes code reusability and flexibility in programming."
   ]
  },
  {
   "cell_type": "code",
   "execution_count": null,
   "id": "9fea0444-97ea-4fef-99b0-a51703df40eb",
   "metadata": {},
   "outputs": [],
   "source": []
  },
  {
   "cell_type": "code",
   "execution_count": null,
   "id": "9e79d7a2-375d-485e-99fe-1f0a5d60909c",
   "metadata": {},
   "outputs": [],
   "source": []
  },
  {
   "cell_type": "code",
   "execution_count": 35,
   "id": "ea1b305a-6e0f-41f1-9471-90feb64d66bc",
   "metadata": {
    "tags": []
   },
   "outputs": [],
   "source": [
    "#QUESTION 2"
   ]
  },
  {
   "cell_type": "code",
   "execution_count": 36,
   "id": "e6d01134-d01c-418d-846d-5aa2876b7b7d",
   "metadata": {
    "tags": []
   },
   "outputs": [],
   "source": [
    "#DESCRIBE THE DIFFRENCE BETWEEN COMPILE-TIME POLYMORPHISM AND RUNTIME POLYMORPHISM IN PYTHON"
   ]
  },
  {
   "cell_type": "code",
   "execution_count": null,
   "id": "e3ff60cf-8f05-4f7d-8c91-e0d446ee2e38",
   "metadata": {},
   "outputs": [],
   "source": [
    "\"\"\"Compile-time polymorphism, also known as static polymorphism, is achieved through function overloading and\n",
    "   operator overloading. It allows multiple functions or operators with the same name but different parameters \n",
    "   or behaviors to coexist in a program. The appropriate function or operator is selected at compile time based\n",
    "   on the number and types of arguments provided.\n",
    "\n",
    "   On the other hand, runtime polymorphism, also known as dynamic polymorphism, is achieved through method \n",
    "   overriding. It allows a subclass to provide a different implementation of a method that is already defined \n",
    "   in its superclass. The appropriate method is selected at runtime based on the actual type of the object.\n",
    "\n",
    "   In summary, compile-time polymorphism is resolved during the compilation phase based on the function or \n",
    "   operator signature, while runtime polymorphism is resolved during the execution phase based on the actual\n",
    "   type of the object."
   ]
  },
  {
   "cell_type": "code",
   "execution_count": null,
   "id": "64be32dc-b56f-4bf8-8fd3-414fcbfff9ca",
   "metadata": {},
   "outputs": [],
   "source": []
  },
  {
   "cell_type": "code",
   "execution_count": null,
   "id": "9121e276-e998-4ce6-abbb-6f4ed72eef89",
   "metadata": {},
   "outputs": [],
   "source": []
  },
  {
   "cell_type": "code",
   "execution_count": 37,
   "id": "e8fe8b67-cab2-45a6-8e63-e0d943cdc372",
   "metadata": {
    "tags": []
   },
   "outputs": [],
   "source": [
    "#QUESTION 3"
   ]
  },
  {
   "cell_type": "code",
   "execution_count": 38,
   "id": "fb425ddb-3497-4875-bd6f-6ab22675b56c",
   "metadata": {
    "tags": []
   },
   "outputs": [],
   "source": [
    "#CREATE A PYTHON CLASS HIERARCHY FOR SHAPES AND DEMONSTRATE POLYMORPHISM THROUGH A COMMON METHOD, SUCH AS `CALCULATE_AREA()`."
   ]
  },
  {
   "cell_type": "code",
   "execution_count": 2,
   "id": "7ff53aec-32dd-4e9c-b960-4c997a613723",
   "metadata": {},
   "outputs": [
    {
     "name": "stdout",
     "output_type": "stream",
     "text": [
      "The area of the circle is: None\n",
      "The area of the square is: 16\n",
      "The area of the triangle is: 9.0\n"
     ]
    }
   ],
   "source": [
    "class Shape:\n",
    "    def calculate_area(self):\n",
    "        pass\n",
    "class Circle(Shape):\n",
    "    def __init__(self,radius):\n",
    "        self.radius = radius\n",
    "    def claculate_area(self):\n",
    "        return 3.14 * self.radius * self.radius\n",
    "class Square(Shape):\n",
    "    def __init__(self,side_length):\n",
    "        self.side_length = side_length\n",
    "    def calculate_area(self):\n",
    "        return self.side_length*self.side_length   \n",
    "class Triangle(Shape):\n",
    "    def __init__(self,base,height):\n",
    "        self.base = base\n",
    "        self.height = height\n",
    "    def calculate_area(self):\n",
    "        return 0.5*self.base*self.height\n",
    "circle = Circle(5)\n",
    "square = Square(4)\n",
    "triangle = Triangle(3,6)\n",
    "circle_area = circle.calculate_area()\n",
    "square_area = square.calculate_area()\n",
    "triangle_area = triangle.calculate_area()\n",
    "print(\"The area of the circle is:\",circle_area)\n",
    "print(\"The area of the square is:\",square_area)\n",
    "print(\"The area of the triangle is:\",triangle_area)"
   ]
  },
  {
   "cell_type": "code",
   "execution_count": null,
   "id": "0ce179b4-e84a-4908-8b38-9439262e775f",
   "metadata": {},
   "outputs": [],
   "source": []
  },
  {
   "cell_type": "code",
   "execution_count": null,
   "id": "230e1944-0920-4463-b291-f2e6398e7673",
   "metadata": {},
   "outputs": [],
   "source": []
  },
  {
   "cell_type": "code",
   "execution_count": 39,
   "id": "20446136-ff5d-4c0d-b639-0fe659d6ba7d",
   "metadata": {
    "tags": []
   },
   "outputs": [],
   "source": [
    "#QUESTION 4"
   ]
  },
  {
   "cell_type": "code",
   "execution_count": 40,
   "id": "9a0f4093-feb2-48ac-af02-aec31a42ce2d",
   "metadata": {
    "tags": []
   },
   "outputs": [],
   "source": [
    "#EXPLAIN THE CONCEPT OF METHOD OVERRIDING IN POLYMORPHISM. PROVIDE AN EXAMPLE"
   ]
  },
  {
   "cell_type": "code",
   "execution_count": null,
   "id": "db22840f-49f1-439b-bd7f-162dd0b63613",
   "metadata": {},
   "outputs": [],
   "source": [
    "\"\"\"method overriding is a feature of object-oriented programming that allows a subclass to provide a different\n",
    "   implementation of a method that is already defined in its superclass.This means that the subclass can override\n",
    "   the behavior of the method inherited from the superclass and provide its own implementation."
   ]
  },
  {
   "cell_type": "code",
   "execution_count": 4,
   "id": "1ca49796-8757-4ea8-b392-03beece50680",
   "metadata": {
    "tags": []
   },
   "outputs": [
    {
     "name": "stdout",
     "output_type": "stream",
     "text": [
      "The cat meows.\n"
     ]
    }
   ],
   "source": [
    "class Animal:\n",
    "    def make_sound(self):\n",
    "        print(\"The animal makes a sound.\")\n",
    "class Cat (Animal):\n",
    "    def make_sound(self):\n",
    "        print(\"The cat meows.\")\n",
    "cat = Cat()\n",
    "cat.make_sound()"
   ]
  },
  {
   "cell_type": "code",
   "execution_count": null,
   "id": "8f7a8382-ac16-4a15-8bb5-044d6e6b1c42",
   "metadata": {},
   "outputs": [],
   "source": []
  },
  {
   "cell_type": "code",
   "execution_count": null,
   "id": "3fbf63cd-1a2a-47de-8977-934c86dadaab",
   "metadata": {},
   "outputs": [],
   "source": []
  },
  {
   "cell_type": "code",
   "execution_count": 41,
   "id": "e26d1b8e-90f2-4e1a-9429-b12902dd716f",
   "metadata": {
    "tags": []
   },
   "outputs": [],
   "source": [
    "#QUESTION 5"
   ]
  },
  {
   "cell_type": "code",
   "execution_count": 42,
   "id": "e571cb9b-1285-46b1-9859-31f676cedc4d",
   "metadata": {
    "tags": []
   },
   "outputs": [],
   "source": [
    "#HOW IS POLYMORPHISM DIFFERENT FROM METHOD OVERLOADING IN PYTHON PROVIDE EXAMPLES FOR BOTH."
   ]
  },
  {
   "cell_type": "code",
   "execution_count": null,
   "id": "c185394f-f956-4b13-aa5d-7a352023041c",
   "metadata": {},
   "outputs": [],
   "source": [
    "\"\"\"Polymorphism and method overloading are both important concepts in object-oriented programming, but they have\n",
    "   some key differences.\n",
    "   Polymorphism refers to the ability of object to take on many forms. In python, polymorphism allows us to use a\n",
    "   single interface to represent different types of objects. it enables us to perform a single action in different\n",
    "   ways based on the object's type or class. Polymorphism is achieved through method overriding, as we discussed\n",
    "   earlier.\n",
    "   On other hand, method overloading is a feature that allows a class to have multiple methods with the same name\n",
    "   but different parameters.In python, method overloading is not directly supported like in some other programming\n",
    "   languages. However, we can achieve similar functionality by default parameter values or using variable-length \n",
    "   arguments(*args or **kwargs)."
   ]
  },
  {
   "cell_type": "code",
   "execution_count": 5,
   "id": "3750d982-1734-4f39-ac14-db07a87c45e0",
   "metadata": {
    "tags": []
   },
   "outputs": [
    {
     "name": "stdout",
     "output_type": "stream",
     "text": [
      "The cat meows.\n",
      "The dog barks.\n"
     ]
    }
   ],
   "source": [
    "class Animal:\n",
    "    def make_sound(self):\n",
    "        print(\"The cat meows.\")\n",
    "class Cat(Animal):\n",
    "    def make_sound(self):\n",
    "        print(\"The cat meows.\")\n",
    "class Dog(Animal):\n",
    "    def make_sound(self):\n",
    "        print(\"The dog barks.\")\n",
    "def animal_sounds(animal):\n",
    "    animal.make_sound()\n",
    "cat = Cat()\n",
    "dog = Dog()\n",
    "animal_sounds(cat)\n",
    "animal_sounds(dog)\n",
    "    "
   ]
  },
  {
   "cell_type": "code",
   "execution_count": null,
   "id": "3200627e-4e33-4856-ae97-30899ba02034",
   "metadata": {},
   "outputs": [],
   "source": []
  },
  {
   "cell_type": "code",
   "execution_count": null,
   "id": "0d89e690-d611-4b53-8388-bb1acb020e42",
   "metadata": {},
   "outputs": [],
   "source": []
  },
  {
   "cell_type": "code",
   "execution_count": 43,
   "id": "a47afe95-9e1f-4687-9352-c9b7cb31c10b",
   "metadata": {
    "tags": []
   },
   "outputs": [],
   "source": [
    "#QUESTION 6"
   ]
  },
  {
   "cell_type": "code",
   "execution_count": 44,
   "id": "e2d0141b-43f9-4e1d-b78a-e954dc80c2ab",
   "metadata": {
    "tags": []
   },
   "outputs": [],
   "source": [
    "#CREATE A PYTHON CLASS CALLED `ANIMAL` WITH A METHOD `SPEAK()`. THEN, CREATE CHILD CLASSES LIKE `DOG`,`CAT`,AND `BIRD`, EACH WITH THEIR OWN SPEAK()` METHOD. DEMONSTRATE POLYMORPHISM BY CALLING THE SPEAK() METHOD ON OBJECTS OF DIFFERENT SUBCLASSES."
   ]
  },
  {
   "cell_type": "code",
   "execution_count": 6,
   "id": "6476f0aa-fff4-4871-b3a3-4bca2a559b71",
   "metadata": {},
   "outputs": [
    {
     "name": "stdout",
     "output_type": "stream",
     "text": [
      "Woof!\n",
      "Meow!\n",
      "Chirp!\n"
     ]
    }
   ],
   "source": [
    "class Animal:\n",
    "    def speak(self):\n",
    "        pass\n",
    "class Dog(Animal):\n",
    "    def speak(self):\n",
    "        return \"Woof!\"\n",
    "class Cat(Animal):\n",
    "    def speak(self):\n",
    "        return \"Meow!\"\n",
    "class Bird(Animal):\n",
    "    def speak(self):\n",
    "        return \"Chirp!\"\n",
    "dog = Dog()\n",
    "cat = Cat()\n",
    "bird = Bird()\n",
    "print(dog.speak())\n",
    "print(cat.speak())\n",
    "print(bird.speak())"
   ]
  },
  {
   "cell_type": "code",
   "execution_count": null,
   "id": "5c24c7b1-4ee2-4a26-b0f2-9a8ecb9be849",
   "metadata": {},
   "outputs": [],
   "source": []
  },
  {
   "cell_type": "code",
   "execution_count": null,
   "id": "845eca74-a5d7-4df5-945d-43d028b841d5",
   "metadata": {},
   "outputs": [],
   "source": []
  },
  {
   "cell_type": "code",
   "execution_count": 45,
   "id": "051d3621-c07b-4ecf-b5b1-093d11213cdb",
   "metadata": {
    "tags": []
   },
   "outputs": [],
   "source": [
    "#QUESTION 7"
   ]
  },
  {
   "cell_type": "code",
   "execution_count": 46,
   "id": "6a8c28e4-37ab-43fb-8e30-133bc18345ed",
   "metadata": {
    "tags": []
   },
   "outputs": [],
   "source": [
    "#DISCUSS THE USE OF ABSTRACT METHODS AND CLASSES IN ACHIEVING POLYMORPHISM IN PYTHON. PROVIDE AN EXAMPLE USING THE `ABC` MODULE"
   ]
  },
  {
   "cell_type": "code",
   "execution_count": null,
   "id": "ce0a5ae0-e604-4883-9ee8-2019d0172e90",
   "metadata": {},
   "outputs": [],
   "source": [
    "\"\"\"An abstract class is a class that cannot be instantiated directly and is meant to be subclassed. It serves as \n",
    "   a blueprint for other classes and contains one or more abstract methods. An abstract method is a method that \n",
    "   is declared in the abstract class but does not have an implementation. instead, it is meant to be overridden \n",
    "   by the subclasses."
   ]
  },
  {
   "cell_type": "code",
   "execution_count": 8,
   "id": "23d7f0ad-7454-48e5-af92-92c08443dee7",
   "metadata": {
    "tags": []
   },
   "outputs": [
    {
     "name": "stdout",
     "output_type": "stream",
     "text": [
      "Woof!\n",
      "Meow!\n",
      "Chirp!\n"
     ]
    }
   ],
   "source": [
    "from abc import ABC, abstractmethod\n",
    "class Animal(ABC):\n",
    "    @abstractmethod\n",
    "    def speak(self):\n",
    "        pass\n",
    "class Dog(Animal):\n",
    "    def speak(self):\n",
    "        return \"Woof!\"\n",
    "class Cat(Animal):\n",
    "    def speak(self):\n",
    "        return\"Meow!\"\n",
    "class Bird(Animal):\n",
    "    def speak(self):\n",
    "        return \"Chirp!\"\n",
    "dog = Dog()\n",
    "cat = Cat()\n",
    "bird = Bird()\n",
    "print(dog.speak())\n",
    "print(cat.speak())\n",
    "print(bird.speak())"
   ]
  },
  {
   "cell_type": "code",
   "execution_count": null,
   "id": "26843cae-2045-479b-888d-5b9df3c25758",
   "metadata": {},
   "outputs": [],
   "source": []
  },
  {
   "cell_type": "code",
   "execution_count": null,
   "id": "1e91175c-387d-4d82-a529-2057f7f513fd",
   "metadata": {},
   "outputs": [],
   "source": []
  },
  {
   "cell_type": "code",
   "execution_count": 47,
   "id": "abe1fc0a-606b-47ce-867c-4c116d8e892c",
   "metadata": {
    "tags": []
   },
   "outputs": [],
   "source": [
    "#QUESTION 8"
   ]
  },
  {
   "cell_type": "code",
   "execution_count": 48,
   "id": "8d1eaed8-dad9-4db5-978c-92942c4b9b94",
   "metadata": {
    "tags": []
   },
   "outputs": [],
   "source": [
    "#CREATE A PYTHON CLASS HIERARCHY FOR A VEHICLE SYSTEM AND IMPLEMENT A POLYMORPHIC `START() METHOD THAT PRINTS A MESSAGE SPECIFIC TO EACH VECHICLE TYPE."
   ]
  },
  {
   "cell_type": "code",
   "execution_count": 1,
   "id": "0ecfb1bf-b6a4-481f-83c1-75e20fab9837",
   "metadata": {},
   "outputs": [
    {
     "name": "stdout",
     "output_type": "stream",
     "text": [
      "The car engine is running.\n",
      "You start pedaling the bicycle.\n",
      "You start the boat's engine and set sail.\n"
     ]
    }
   ],
   "source": [
    "class Vehicle:\n",
    "    def start(self):\n",
    "        pass\n",
    "class Car(Vehicle):\n",
    "    def start(self):\n",
    "        return \"The car engine is running.\"\n",
    "class Bicycle(Vehicle):\n",
    "    def start(self):\n",
    "        return \"You start pedaling the bicycle.\"\n",
    "class Boat(Vehicle):\n",
    "    def start(self):\n",
    "        return \"You start the boat's engine and set sail.\"\n",
    "car = Car()\n",
    "bicycle = Bicycle()\n",
    "boat = Boat()\n",
    "print(car.start())\n",
    "print(bicycle.start())\n",
    "print(boat.start())"
   ]
  },
  {
   "cell_type": "code",
   "execution_count": null,
   "id": "ce78d778-d325-43e2-87c4-f4ecac304cfa",
   "metadata": {},
   "outputs": [],
   "source": []
  },
  {
   "cell_type": "code",
   "execution_count": null,
   "id": "ee61b265-41bc-4851-b763-9f3a8aafce3a",
   "metadata": {},
   "outputs": [],
   "source": []
  },
  {
   "cell_type": "code",
   "execution_count": 49,
   "id": "6706c4c6-9633-4b37-b54f-efc5671de475",
   "metadata": {
    "tags": []
   },
   "outputs": [],
   "source": [
    "#QUESTION 9"
   ]
  },
  {
   "cell_type": "code",
   "execution_count": 50,
   "id": "dc791ae3-14a6-4951-88fd-bc3e446a5b1d",
   "metadata": {
    "tags": []
   },
   "outputs": [],
   "source": [
    "# EXPLAIN THE SIGNIFICANCE OF THE ISINSTANCE() AND ISSUBCLASS() FUNCTIONS IN PYTHON POLYMORPHISM."
   ]
  },
  {
   "cell_type": "code",
   "execution_count": null,
   "id": "4ce87425-2478-4825-a606-f07ef8b319d4",
   "metadata": {},
   "outputs": [],
   "source": [
    "\"\"\"The isinstance() and issubclass() functions in Python are used to check the relationship between classes and \n",
    "   objects, which is important in the context of polymorphism.\n",
    "\n",
    "   The isinstance() function allows you to check if an object belongs to a specific class or any of its subclasses\n",
    "   It takes two arguments:the object you want to check and the class or tuple of classes you want to check against.\n",
    "   It returns True if the object is an instance of the specified class or any of its subclasses,and False\n",
    "   otherwise.\n",
    "\n",
    "   For example, you can use isinstance(object, Class) to check if object is an instance of Class. This is useful\n",
    "   when you have multiple subclasses and you want to perform different actions based on the specific subclass an\n",
    "   object belongs to.\n",
    "\n",
    "   The issubclass() function, on the other hand, allows you to check if a class is a subclass of another class. \n",
    "   It takes two arguments: the class you want to check and the class or tuple of classes you want to check \n",
    "   against. It returns True if the first class is a subclass of the specified class or any of its subclasses, \n",
    "   and False otherwise.\n",
    "\n",
    "   For example, you can use issubclass(Subclass, Class) to check if Subclass is a subclass of Class. This is\n",
    "   useful when you want to determine the class hierarchy and relationships between different classes.\n",
    "\n",
    "   Both isinstance() and issubclass() functions play a significant role in polymorphism by allowing you to \n",
    "   dynamically determine the type of objects and classes at runtime, which enables you to write more flexible \n",
    "   and reusable code."
   ]
  },
  {
   "cell_type": "code",
   "execution_count": null,
   "id": "b17c76ca-3814-4d4f-8f1f-76de29083150",
   "metadata": {},
   "outputs": [],
   "source": []
  },
  {
   "cell_type": "code",
   "execution_count": null,
   "id": "16aab4ae-d36c-4d1a-a12d-4c0f3c42e318",
   "metadata": {},
   "outputs": [],
   "source": []
  },
  {
   "cell_type": "code",
   "execution_count": 51,
   "id": "1ca9cb4d-5b23-44a9-891e-42c2c75ed40b",
   "metadata": {
    "tags": []
   },
   "outputs": [],
   "source": [
    "#QUESTION 10"
   ]
  },
  {
   "cell_type": "code",
   "execution_count": 52,
   "id": "2d772bdb-7408-4b3c-98f3-00be96257781",
   "metadata": {
    "tags": []
   },
   "outputs": [],
   "source": [
    "#WHAT IS THE ROLE OF THE `@ABSTRACTMETHOD` DECODATOR IN ACHIEVING POLYMORPHISM IN PYTHON PROVIDE AN EXAMPLE"
   ]
  },
  {
   "cell_type": "code",
   "execution_count": null,
   "id": "fec97610-6319-40eb-aa3b-00c78189fdae",
   "metadata": {},
   "outputs": [],
   "source": [
    "\"\"\"The `@abstractmethod` decorator in python is used to define abstract methods in abstract base classes. Abstract\n",
    "   methods are methods that have no implementation in the base class but must be implemented by its subclasses.\n",
    "   This concept is essential in achieving polymorphism because it allows different subclasses to have their own \n",
    "   implementations of the same method.\n",
    "   \n",
    "   By marking a method as abstract using the `@abstractmethod` decorator, you are indicating that any subclass \n",
    "   inheriting from the abstract base class must provide its own implementation for that method. This ensures\n",
    "   that each subclass adheres to a common interface, allowing them to be used interchangeably."
   ]
  },
  {
   "cell_type": "code",
   "execution_count": 2,
   "id": "686ef5c7-2903-47a3-8ff5-3f5d9ce5731b",
   "metadata": {
    "tags": []
   },
   "outputs": [
    {
     "name": "stdout",
     "output_type": "stream",
     "text": [
      "15\n",
      "12.56\n"
     ]
    }
   ],
   "source": [
    "from abc import ABC, abstractmethod\n",
    "class Shape(ABC):\n",
    "    @abstractmethod\n",
    "    def area(self):\n",
    "        pass\n",
    "class Rectangle(Shape):\n",
    "    def __init__(self,length,width):\n",
    "        self.length = length\n",
    "        self.width = width\n",
    "    def area(self):\n",
    "        return self.length*self.width\n",
    "class Circle(Shape):\n",
    "    def __init__(self,radius):\n",
    "        self.radius = radius\n",
    "    def area(self):\n",
    "        return 3.14*self.radius**2\n",
    "rectangle = Rectangle(5,3)\n",
    "circle = Circle(2)\n",
    "print(rectangle.area())\n",
    "print(circle.area())"
   ]
  },
  {
   "cell_type": "code",
   "execution_count": null,
   "id": "195cd6b1-e06b-4e85-9084-bcd8908288f8",
   "metadata": {},
   "outputs": [],
   "source": []
  },
  {
   "cell_type": "code",
   "execution_count": null,
   "id": "013cf1e0-3e84-42a4-9c4e-3e8088c480a6",
   "metadata": {},
   "outputs": [],
   "source": []
  },
  {
   "cell_type": "code",
   "execution_count": 53,
   "id": "67091f45-ce1e-4f31-b79a-60cbec1479b7",
   "metadata": {
    "tags": []
   },
   "outputs": [],
   "source": [
    "#QUESTION 11"
   ]
  },
  {
   "cell_type": "code",
   "execution_count": 54,
   "id": "04765592-739b-42b3-ad83-23a62237e613",
   "metadata": {
    "tags": []
   },
   "outputs": [],
   "source": [
    "#CREATE A PYTHON CLASS CALLED SHAPE WITH A POLYMORPHIC METHOD AREA() THAT CACULATES THE AREA OF DIFFERENT SHAPES"
   ]
  },
  {
   "cell_type": "code",
   "execution_count": 4,
   "id": "ddd431d4-db6e-4102-8de4-b844b8aca491",
   "metadata": {},
   "outputs": [
    {
     "name": "stdout",
     "output_type": "stream",
     "text": [
      "12.56\n",
      "15\n",
      "12.0\n"
     ]
    }
   ],
   "source": [
    "class Shape:\n",
    "    def area(self):\n",
    "        pass\n",
    "class Circle(Shape):\n",
    "    def __init__(self,radius):\n",
    "        self.radius = radius\n",
    "    def area(self):\n",
    "        return 3.14*self.radius**2\n",
    "class Rectangle(Shape):\n",
    "    def __init__(self,length,width):\n",
    "        self.length = length\n",
    "        self.width = width\n",
    "    def area(self):\n",
    "        return self.length*self.width\n",
    "class Triangle(Shape):\n",
    "    def __init__(self,base,height):\n",
    "        self.base = base\n",
    "        self.height = height\n",
    "    def area(self):\n",
    "        return 0.5*self.base*self.height\n",
    "circle = Circle(2)\n",
    "rectangle = Rectangle(5,3)\n",
    "triangle = Triangle(4,6)\n",
    "shapes = [circle, rectangle,triangle]\n",
    "for shape in shapes:\n",
    "    print(shape.area())"
   ]
  },
  {
   "cell_type": "code",
   "execution_count": null,
   "id": "580cfaed-365e-4a47-80d9-3bf7f5590039",
   "metadata": {},
   "outputs": [],
   "source": []
  },
  {
   "cell_type": "code",
   "execution_count": null,
   "id": "1673a027-5a92-4c63-987d-18105b90f57a",
   "metadata": {},
   "outputs": [],
   "source": []
  },
  {
   "cell_type": "code",
   "execution_count": 55,
   "id": "471c9b51-3cb1-4906-9143-b67912cde537",
   "metadata": {
    "tags": []
   },
   "outputs": [],
   "source": [
    "#QUESTION 12"
   ]
  },
  {
   "cell_type": "code",
   "execution_count": 56,
   "id": "198b7529-2b9a-4ce1-8aaa-2a2a9ab00593",
   "metadata": {
    "tags": []
   },
   "outputs": [],
   "source": [
    "#DISCUSS THE BENIFITS OF POLYMORPHISM IN TERMS OF CODE REUSABILITY AND FLEXIBILITY IN PYTHON PROGRAMS."
   ]
  },
  {
   "cell_type": "code",
   "execution_count": null,
   "id": "2a34861f-247f-4065-87cc-8d7ee1041a4c",
   "metadata": {},
   "outputs": [],
   "source": [
    "\"\"\"Polymorphism in Python offers several benefits in terms of code reusability and flexibility:\n",
    "\n",
    "1. Code Reusability: Polymorphism allows us to write reusable code by defining common methods in a base class\n",
    "   and implementing them differently in derived classes. This means that we can write generic code that can be \n",
    "   used with different objects of different classes. For example, in the Shape class example, the area() method\n",
    "   is defined in the base class and can be reused by various subclasses such as Circle, Rectangle, and Triangle.\n",
    "   This promotes code reuse and reduces the need for redundant code.\n",
    "\n",
    "2. Flexibility: Polymorphism provides flexibility in the way objects are used and interacted with in a program. \n",
    "   Since objects of different classes can be treated as instances of a common base class, we can write code that \n",
    "   is more flexible and adaptable to different scenarios. For example, imagine a function that takes a Shape \n",
    "   object as an argument. With polymorphism, we can pass in any subclass object (Circle, Rectangle, Triangle) \n",
    "   and the function will work correctly, without needing to modify the function for each specific shape. This \n",
    "   flexibility allows for easier maintenance and extensibility of the code.\n",
    "\n",
    "3. Simplified Code Structure: Polymorphism helps in simplifying the code structure by promoting a more modular\n",
    "   and organized design. By defining common behavior in a base class and allowing derived classes to implement \n",
    "   their own specific behavior, the code becomes more modular and easier to understand. This makes it easier to\n",
    "   add new shapes or modify existing ones without affecting the overall code structure.\n",
    "\n",
    "Overall, polymorphism enhances code reusability and flexibility in Python programs, making them more modular, \n",
    "adaptable, and maintainable. It allows us to write generic code that can work with different objects of related\n",
    "classes, promoting code reuse and reducing the need for redundant code."
   ]
  },
  {
   "cell_type": "code",
   "execution_count": null,
   "id": "aabc5d5c-b534-4f99-93cd-5d10d3352f38",
   "metadata": {},
   "outputs": [],
   "source": []
  },
  {
   "cell_type": "code",
   "execution_count": null,
   "id": "ca2351cd-4230-4a2c-81a5-cd9cf7bba4f5",
   "metadata": {},
   "outputs": [],
   "source": []
  },
  {
   "cell_type": "code",
   "execution_count": 57,
   "id": "1b4b1b61-5690-46b4-8ef4-ce87fde15779",
   "metadata": {
    "tags": []
   },
   "outputs": [],
   "source": [
    "#QUESTION 13"
   ]
  },
  {
   "cell_type": "code",
   "execution_count": 58,
   "id": "00e169e4-5905-402a-a62d-9d4a2221ff65",
   "metadata": {
    "tags": []
   },
   "outputs": [],
   "source": [
    "#EXPALIN THE USE OF THE `SUPER() FUNCTION IN PYTHON POLYMORPHISM. HOW DOES IT HELP CALL METHODS OF PARENT CLASSES"
   ]
  },
  {
   "cell_type": "code",
   "execution_count": null,
   "id": "047b259a-5dc4-4a5b-afd2-63b340fa0805",
   "metadata": {},
   "outputs": [],
   "source": [
    "\"\"\"In python, the `super()` function is used to call methods from the parent class in the context of inheritance\n",
    "   and polymorphism. it allows us to access and invoke methods defined in the parent class, even when they have\n",
    "   been overridden in the child class.\n",
    "   By using `super()` we can avoid explicitly specifying the parent class name directly call the parent class \n",
    "   method. This helps in maintaining code flexibility and reusability."
   ]
  },
  {
   "cell_type": "code",
   "execution_count": 8,
   "id": "9116573d-c634-4826-a136-f27eb6c63388",
   "metadata": {
    "tags": []
   },
   "outputs": [
    {
     "name": "stdout",
     "output_type": "stream",
     "text": [
      "I am from the parent class\n",
      "This is a method from the parent class\n",
      "I am from the child class\n",
      "This is a method from the parent class\n",
      "This is a method from the child class\n"
     ]
    }
   ],
   "source": [
    "class ParentClass:\n",
    "    def __init__(self):\n",
    "        self.parent_attribute = \"I am from the parent class\"\n",
    "    def parent_method(self):\n",
    "        print(\"This is a method from the parent class\")\n",
    "class ChildClass(ParentClass):\n",
    "    def __init__(self):\n",
    "        super().__init__()\n",
    "        self.child_attribute = \"I am from the child class\"\n",
    "    def child_method(self):\n",
    "        super().parent_method()\n",
    "        print(\"This is a method from the child class\")\n",
    "child_obj = ChildClass()\n",
    "print(child_obj.parent_attribute)\n",
    "child_obj.parent_method()\n",
    "print(child_obj.child_attribute)\n",
    "child_obj.child_method()"
   ]
  },
  {
   "cell_type": "code",
   "execution_count": null,
   "id": "23b89478-cf91-4d0f-8c59-d4499e849f95",
   "metadata": {},
   "outputs": [],
   "source": []
  },
  {
   "cell_type": "code",
   "execution_count": null,
   "id": "7b3e7fc2-1806-490e-8412-50cc62c091f5",
   "metadata": {},
   "outputs": [],
   "source": []
  },
  {
   "cell_type": "code",
   "execution_count": 59,
   "id": "613ebef3-ecc4-4b8f-9639-fd300d2b39da",
   "metadata": {
    "tags": []
   },
   "outputs": [],
   "source": [
    "#QUESTION 14"
   ]
  },
  {
   "cell_type": "code",
   "execution_count": 60,
   "id": "60ea8d88-2bff-42f9-ac39-1f34244e8fdd",
   "metadata": {
    "tags": []
   },
   "outputs": [],
   "source": [
    "#CREATE A PYTHON CLASS HIERARCHY FOR A BANKING SYSTEM WITH VARIOUS ACCOUNT TYPES AND DEMONSTRATE POLYMORPHISM BY IMPLEMENTING A COMMON `WITHDRAW()` METHOD"
   ]
  },
  {
   "cell_type": "code",
   "execution_count": 12,
   "id": "7ae42649-9d9e-456a-af03-9d6a0058d7c4",
   "metadata": {},
   "outputs": [
    {
     "name": "stdout",
     "output_type": "stream",
     "text": [
      "Withdrew $2000 from savings accountSA001\n",
      "Insufficient balance\n",
      "Withdrew$3000 from credit card account CCA001\n"
     ]
    }
   ],
   "source": [
    "class Account:\n",
    "    def __init__(self,account_number,balance):\n",
    "        self.account_number = account_number\n",
    "        self.balance = balance\n",
    "    def withdraw(self,amount):\n",
    "        if amount <=self.balance:\n",
    "            self.balance-=amount\n",
    "            print(f\"Withdrew ${amount} from account {self.account_number}\")\n",
    "        else:\n",
    "            print(\"Insufficient balance\")\n",
    "class SavingsAccount(Account):\n",
    "    def __init__(self,account_number,balance):\n",
    "        super().__init__(account_number,balance)\n",
    "    def withdraw(self,amount):\n",
    "        if amount<=self.balance:\n",
    "            self.balance-=amount\n",
    "            print(f\"Withdrew ${amount} from savings account{self.account_number}\")\n",
    "        else:\n",
    "            print(\"Insufficient balance\")\n",
    "class CheckingAccount(Account):\n",
    "    def __init__(self,account_number,balance):\n",
    "        super().__init__(account_number,balance)\n",
    "    def withdraw(self,amount):\n",
    "        if amount <= self.balance:\n",
    "            self.balance-=amount\n",
    "            print(f\"Withdrew{amount}from checking account {self.account_number}\")\n",
    "        else:\n",
    "            print(\"Insufficient balance\")\n",
    "class CreditCardAccount(Account):\n",
    "    def __init__(self,account_number,balance, credit_limit):\n",
    "        super().__init__(account_number,balance)\n",
    "        self.credit_limit = credit_limit\n",
    "    def withdraw(self,amount):\n",
    "        if amount <= self.balance + self. credit_limit:\n",
    "            self.balance -= amount\n",
    "            print(f\"Withdrew${amount} from credit card account {self.account_number}\")\n",
    "        else:\n",
    "            print(\"Exceeded credit limit\")\n",
    "savings_account = SavingsAccount(\"SA001\",5000)\n",
    "checking_account = CheckingAccount(\"CA001\",3000)\n",
    "credit_card_account = CreditCardAccount(\"CCA001\",2000,5000)\n",
    "savings_account.withdraw(2000)\n",
    "checking_account.withdraw(4000)\n",
    "credit_card_account.withdraw(3000)\n",
    "                                "
   ]
  },
  {
   "cell_type": "code",
   "execution_count": null,
   "id": "f1f82cd9-81f4-45eb-a6e9-fe0d46985055",
   "metadata": {},
   "outputs": [],
   "source": []
  },
  {
   "cell_type": "code",
   "execution_count": null,
   "id": "dd238f6c-64d8-459c-a054-82ce60ea40bf",
   "metadata": {},
   "outputs": [],
   "source": []
  },
  {
   "cell_type": "code",
   "execution_count": 61,
   "id": "e52ef2f4-6944-4ee0-b1a4-ec249495d336",
   "metadata": {
    "tags": []
   },
   "outputs": [],
   "source": [
    "#QUESTION 15"
   ]
  },
  {
   "cell_type": "code",
   "execution_count": 62,
   "id": "ceb0bc07-2dba-45fa-b0c2-002acdc1fb3c",
   "metadata": {
    "tags": []
   },
   "outputs": [],
   "source": [
    "#DESCRIBE THE CONCEPT OF OPERATOR OVERLOADING IN PYTHON AND HOW IT RELATES TO POLYMORPHISM. PROVIDE EXAMPLES USING OPERATORS LIKE `+` AND `*`."
   ]
  },
  {
   "cell_type": "code",
   "execution_count": null,
   "id": "257a398c-6373-4657-bfd3-55c98acb3ac2",
   "metadata": {},
   "outputs": [],
   "source": [
    "\"\"\"Operator overloading in Python allows us to define or redfine the behavior of operators like `+` and `*` for\n",
    "   custom classes. it allows us to use these operators with objects of our own classes in a way that makes sense \n",
    "   for that class.\n",
    "   Operator overloading is closely related to polymorphism because it allows different classes to have different\n",
    "   implementations of the same operator. This means that we can use the same operator on different objects and get\n",
    "   different results based on the contxt."
   ]
  },
  {
   "cell_type": "code",
   "execution_count": 16,
   "id": "3486685a-0426-4966-8228-15524a225cd4",
   "metadata": {
    "tags": []
   },
   "outputs": [
    {
     "name": "stdout",
     "output_type": "stream",
     "text": [
      "(4,6)\n",
      "(6,7)\n"
     ]
    }
   ],
   "source": [
    "class Point:\n",
    "    def __init__(self,x,y):\n",
    "        self.x = x\n",
    "        self.y = y\n",
    "    def __add__(self,other):\n",
    "        if isinstance(other,Point):\n",
    "            return Point(self.x + other.x,self.y + other.y)\n",
    "        elif isinstance(other, int) or isinstance(other,float):\n",
    "            return Point(self.x + other,self.y + other)\n",
    "        else:\n",
    "            raise TypeError(\"Unsupported operand types\")\n",
    "    def __str__(self):\n",
    "        return f\"({self.x},{self.y})\"\n",
    "p1 = Point(1,2)\n",
    "p2 = Point(3,4)\n",
    "p3 = p1 + p2\n",
    "print(p3)\n",
    "p4 = p1 + 5\n",
    "print(p4)"
   ]
  },
  {
   "cell_type": "code",
   "execution_count": null,
   "id": "c48e9f75-c353-4811-ba67-e1a8d427ab98",
   "metadata": {},
   "outputs": [],
   "source": []
  },
  {
   "cell_type": "code",
   "execution_count": null,
   "id": "569baf2e-631f-4b4e-8925-192f7a173a62",
   "metadata": {},
   "outputs": [],
   "source": []
  },
  {
   "cell_type": "code",
   "execution_count": 63,
   "id": "d69889ce-42c6-4326-80df-7c75f9a3c45c",
   "metadata": {
    "tags": []
   },
   "outputs": [],
   "source": [
    "#QUESTION 16"
   ]
  },
  {
   "cell_type": "code",
   "execution_count": 64,
   "id": "03a50df3-16e5-4f7e-88a1-3fb4c0b01f68",
   "metadata": {
    "tags": []
   },
   "outputs": [],
   "source": [
    "#WHAT IS DYNAMIC POLYMORPHISM, AND HOW IS IT ACHIEVE IN PYTHON"
   ]
  },
  {
   "cell_type": "code",
   "execution_count": null,
   "id": "30a401ee-4a1a-4dc4-ad93-3ed31308123c",
   "metadata": {},
   "outputs": [],
   "source": [
    "\"\"\"Dynamic polymorphism, also known as runtime polymorphism, is a feature of object-oriented programming that\n",
    "   allows objects of different classes to be treated as objects of a common superclass. It enables us to write\n",
    "   code that can work with objects of different types, without needing to know the specific type of the object\n",
    "   at compile time.\n",
    "\n",
    "   In Python, dynamic polymorphism is achieved through method overriding and inheritance. Method overriding is\n",
    "   the process of redefining a method in a subclass that is already defined in its superclass. When a method is\n",
    "   called on an object, Python looks for the method in the object's class. If the method is not found, it looks\n",
    "   in the superclass, and so on, until it finds the method or reaches the top of the class hierarchy."
   ]
  },
  {
   "cell_type": "code",
   "execution_count": 17,
   "id": "0fe8dc9b-e719-4759-abb8-880a4d4e86b0",
   "metadata": {},
   "outputs": [
    {
     "name": "stdout",
     "output_type": "stream",
     "text": [
      "The animal makes a sound\n",
      "The dog barks\n",
      "The cat meows\n"
     ]
    }
   ],
   "source": [
    "class Animal:\n",
    "    def sound(self):\n",
    "        print(\"The animal makes a sound\")\n",
    "\n",
    "class Dog(Animal):\n",
    "    def sound(self):\n",
    "        print(\"The dog barks\")\n",
    "\n",
    "class Cat(Animal):\n",
    "    def sound(self):\n",
    "        print(\"The cat meows\")\n",
    "animal = Animal()\n",
    "dog = Dog()\n",
    "cat = Cat()\n",
    "animal.sound()  \n",
    "dog.sound()     \n",
    "cat.sound() \n"
   ]
  },
  {
   "cell_type": "code",
   "execution_count": null,
   "id": "6e9c101b-6466-4239-a019-79bbb3a9f56a",
   "metadata": {},
   "outputs": [],
   "source": []
  },
  {
   "cell_type": "code",
   "execution_count": 65,
   "id": "30aac732-c34c-445c-809e-00a03c0503d7",
   "metadata": {
    "tags": []
   },
   "outputs": [],
   "source": [
    "#QUESTION 17"
   ]
  },
  {
   "cell_type": "code",
   "execution_count": 66,
   "id": "267e5e77-b5ed-46f2-822c-c5aa191424b4",
   "metadata": {
    "tags": []
   },
   "outputs": [],
   "source": [
    "#CREATE A PYTHON CLASS HIERARCHY FOR EMPLOYEES IN A COMPANY AND IMPLEMENT POLYMORPHISM THROUGH A COMMON `CALCULATE_SALARY()` METHOD."
   ]
  },
  {
   "cell_type": "code",
   "execution_count": 19,
   "id": "94cc1ba5-b2ee-43bc-9ad3-9c1ea3911729",
   "metadata": {},
   "outputs": [
    {
     "name": "stdout",
     "output_type": "stream",
     "text": [
      "100000\n",
      "80000\n",
      "70000\n"
     ]
    }
   ],
   "source": [
    "class Employee:\n",
    "    def __init__(self,name,designation):\n",
    "        self.name = name\n",
    "        self.designation = designation\n",
    "    def calculate_salary(self):\n",
    "        pass\n",
    "class Manager(Employee):\n",
    "    def calculate_salary(self):\n",
    "        return 100000\n",
    "class Developer(Employee):\n",
    "    def calculate_salary(self):\n",
    "        return 80000\n",
    "class Designer(Employee):\n",
    "    def calculate_salary(self):\n",
    "        return 70000\n",
    "manager = Manager(\"John\",\"Manager\")\n",
    "developer = Developer(\"Alice\",\"Developer\")\n",
    "designer = Designer(\"Bob\", \"Designer\")\n",
    "print(manager.calculate_salary())\n",
    "print(developer.calculate_salary())\n",
    "print(designer.calculate_salary())"
   ]
  },
  {
   "cell_type": "code",
   "execution_count": null,
   "id": "5494f615-f31b-4aec-860d-a1bd9d865ae7",
   "metadata": {},
   "outputs": [],
   "source": []
  },
  {
   "cell_type": "code",
   "execution_count": null,
   "id": "a4db970a-6386-4874-9e37-d9a57c9aef34",
   "metadata": {},
   "outputs": [],
   "source": []
  },
  {
   "cell_type": "code",
   "execution_count": 67,
   "id": "1c7f537b-30cd-4767-ba92-815042bc585e",
   "metadata": {
    "tags": []
   },
   "outputs": [],
   "source": [
    "#QUESTION 18"
   ]
  },
  {
   "cell_type": "code",
   "execution_count": 68,
   "id": "8ce4cd6c-b8f4-416d-af33-56395d5681ec",
   "metadata": {
    "tags": []
   },
   "outputs": [],
   "source": [
    "#DISCUSS THE CONCEPT OF FUNCTION POINTERS AND HOW THEY CAN BE USED TO ACHIEVE POLYMORPHISM IN PYTHON "
   ]
  },
  {
   "cell_type": "code",
   "execution_count": null,
   "id": "8aba5e9c-bfd4-4f6a-80ff-85141c86c828",
   "metadata": {},
   "outputs": [],
   "source": [
    "\"\"\"In Python, the concept of function pointers is not directly available like in some other programming languages.\n",
    "   However, we can achieve similar functionality using higher-order functions and the ability to pass functions\n",
    "   as arguments.\n",
    "\n",
    "   In Python, functions are first-class objects, which means they can be assigned to variables and passed as\n",
    "   arguments to other functions. This flexibility allows us to simulate the behavior of function pointers.\n",
    "\n",
    "   To achieve polymorphism using function pointers in Python, we can define multiple functions with the same\n",
    "   name but different implementations. Then, we can pass the appropriate function as an argument to another\n",
    "   function to achieve different behaviors.\n",
    "\n",
    "Here's a simple example to illustrate this concept:\n",
    "\n",
    "python\n",
    "def add(x, y):\n",
    "    return x + y\n",
    "\n",
    "def subtract(x, y):\n",
    "    return x - y\n",
    "\n",
    "def calculate(operation, x, y):\n",
    "    return operation(x, y)\n",
    "\n",
    "result = calculate(add, 5, 3)\n",
    "print(result)  # Output: 8\n",
    "\n",
    "result = calculate(subtract, 5, 3)\n",
    "print(result)  # Output: 2\n",
    "\n",
    "\n",
    "In this example, we have two functions, add and subtract, which perform different operations. The calculate\n",
    "function takes an additional argument, operation, which represents the function to be executed. By passing \n",
    "different functions (add or subtract) as the operation argument, we can achieve polymorphic behavior."
   ]
  },
  {
   "cell_type": "code",
   "execution_count": null,
   "id": "407afe43-0db9-4277-ac0c-9bf6d8c94200",
   "metadata": {},
   "outputs": [],
   "source": []
  },
  {
   "cell_type": "code",
   "execution_count": null,
   "id": "eef47770-6f79-45d9-a335-85787b0924a6",
   "metadata": {},
   "outputs": [],
   "source": []
  },
  {
   "cell_type": "code",
   "execution_count": 69,
   "id": "3ff30d95-2fe8-4daf-b9a5-aa7ee7854fcf",
   "metadata": {
    "tags": []
   },
   "outputs": [],
   "source": [
    "#QUESTION 19"
   ]
  },
  {
   "cell_type": "code",
   "execution_count": 70,
   "id": "d8e6bf33-2b79-4e83-8e38-dd08eaa042b2",
   "metadata": {
    "tags": []
   },
   "outputs": [],
   "source": [
    "#EXPLAIN THE ROLE OF INTERFACES AND ABSTRACT CLASSES IN POLYMORPHISM, DRAWING COMPARISONS BETWEEN THEM "
   ]
  },
  {
   "cell_type": "code",
   "execution_count": null,
   "id": "00d4a098-4758-4d74-a72c-5a5cb46e2d81",
   "metadata": {},
   "outputs": [],
   "source": [
    "\"\"\"Interfaces and abstract classes play a crucial role in achieving polymorphism in object-oriented programming\n",
    "   languages like Python. While they serve similar purposes, there are some key differences between them.\n",
    "\n",
    "Interfaces:\n",
    "- An interface defines a contract that a class must adhere to. It specifies a set of methods that a class\n",
    "  implementing the interface must provide.\n",
    "- In Python, interfaces are not explicitly defined as they are in some other languages like Java. Instead,\n",
    "  interfaces are represented by classes that define abstract methods.\n",
    "- A class can implement multiple interfaces, allowing it to fulfill different contracts and have multiple\n",
    "  behaviors.\n",
    "- Interfaces provide a way to achieve polymorphism by allowing objects of different classes to be treated \n",
    "  uniformly based on their shared interface. This means that objects of different classes that implement the \n",
    "  same interface can be used interchangeably.\n",
    "- Interfaces are useful when you want to enforce a specific set of methods that a class must implement, without \n",
    "  providing any implementation details.\n",
    "\n",
    "Abstract Classes:\n",
    "- An abstract class is a class that cannot be instantiated and serves as a blueprint for other classes.\n",
    "- Abstract classes can contain both abstract and non-abstract methods. Abstract methods are defined without any\n",
    "  implementation and must be implemented by the subclasses.\n",
    "- A class can inherit from only one abstract class in Python, unlike interfaces where multiple inheritance is\n",
    "  allowed.\n",
    "- Abstract classes provide a way to achieve polymorphism by allowing objects of different classes to be treated \n",
    "  uniformly based on their shared abstract class. This means that objects of different classes that inherit from \n",
    "  the same abstract class can be used interchangeably.\n",
    "- Abstract classes are useful when you want to provide some common functionality and attributes to multiple \n",
    "  related classes, while still allowing each class to have its own specific implementation.\n",
    "\n",
    "In summary, both interfaces and abstract classes help achieve polymorphism by allowing objects of different\n",
    "classes to be treated uniformly. Interfaces define a contract that classes must adhere to, while abstract classes \n",
    "provide a blueprint for other classes to inherit from. The choice between interfaces and abstract classes depends\n",
    "on the specific requirements and design of your application."
   ]
  },
  {
   "cell_type": "code",
   "execution_count": null,
   "id": "fd75d583-a6e0-4665-be08-f463cc9d381d",
   "metadata": {},
   "outputs": [],
   "source": []
  },
  {
   "cell_type": "code",
   "execution_count": null,
   "id": "213fedef-fbe7-4963-a299-4fc880280179",
   "metadata": {},
   "outputs": [],
   "source": []
  },
  {
   "cell_type": "code",
   "execution_count": 71,
   "id": "f26a04a3-9bb7-4985-a058-26696d9a3e70",
   "metadata": {
    "tags": []
   },
   "outputs": [],
   "source": [
    "#QUESTION 20"
   ]
  },
  {
   "cell_type": "code",
   "execution_count": 72,
   "id": "f989f413-8ae4-400d-a6d3-e92cb418b14f",
   "metadata": {
    "tags": []
   },
   "outputs": [],
   "source": [
    "#CREATE A PYTHON CLASS FOR A ZOO SIMULATION, DEMONSTRATING POLYMORPHISM WITH DIFFERENT ANIMAL TYPES AND THEIR BEHAVIOR "
   ]
  },
  {
   "cell_type": "code",
   "execution_count": 2,
   "id": "9c16c9c4-f0c2-46d3-bf2a-c68cedbe10b1",
   "metadata": {},
   "outputs": [
    {
     "name": "stdout",
     "output_type": "stream",
     "text": [
      "Leo the mammal is eating.\n",
      "Leo the mammal is sleeping.\n",
      "Leo the mammal is making a sound.\n",
      "Polly the bird is eating.\n",
      "Polly the bird is making a sound.\n",
      "None\n",
      "Sammy the reptile is eating.\n",
      "Sammy the reptile is making a sound.\n",
      "None\n"
     ]
    }
   ],
   "source": [
    "class Animal:\n",
    "    def __init__(self,name):\n",
    "        self.name = name\n",
    "    def eat(self):\n",
    "        pass\n",
    "    def sleep(self):\n",
    "        pass\n",
    "    def make_sound(self):\n",
    "        pass\n",
    "class Mammal(Animal):\n",
    "    def eat(self):\n",
    "        return f\"{self.name} the mammal is eating.\"\n",
    "    def sleep(self):\n",
    "        return f\"{self.name} the mammal is sleeping.\"\n",
    "    def make_sound(self):\n",
    "        return f\"{self.name} the mammal is making a sound.\"\n",
    "class Bird(Animal):\n",
    "    def eat(self):\n",
    "        return f\"{self.name} the bird is eating.\"\n",
    "    def sleep(self):\n",
    "        return f\"{self.name} the bird is making a sound.\"\n",
    "class Reptile(Animal):\n",
    "    def eat(self):\n",
    "        return f\"{self.name} the reptile is eating.\"\n",
    "    def sleep(self):\n",
    "        return f\"{self.name} the reptile is making a sound.\"\n",
    "lion = Mammal(\"Leo\")\n",
    "print(lion.eat())\n",
    "print(lion.sleep())\n",
    "print(lion.make_sound())\n",
    "parrot = Bird(\"Polly\")\n",
    "print(parrot.eat())\n",
    "print(parrot.sleep())\n",
    "print(parrot.make_sound())\n",
    "snake = Reptile(\"Sammy\")\n",
    "print(snake.eat())\n",
    "print(snake.sleep())\n",
    "print(snake.make_sound())"
   ]
  },
  {
   "cell_type": "code",
   "execution_count": null,
   "id": "0b99bffa-369e-4959-b8de-bfda2a7dde00",
   "metadata": {},
   "outputs": [],
   "source": []
  },
  {
   "cell_type": "code",
   "execution_count": null,
   "id": "d14583dd-b5bb-4428-9afe-1a0ea4ba9777",
   "metadata": {},
   "outputs": [],
   "source": []
  },
  {
   "cell_type": "code",
   "execution_count": 73,
   "id": "c2c0e3db-a243-4159-b35d-543bfc16f4e6",
   "metadata": {
    "tags": []
   },
   "outputs": [],
   "source": [
    "#ABSTRACTION:"
   ]
  },
  {
   "cell_type": "code",
   "execution_count": 74,
   "id": "a2dff16e-b8fb-4931-8128-2d1adf7f518d",
   "metadata": {
    "tags": []
   },
   "outputs": [],
   "source": [
    "#QUESTION 1"
   ]
  },
  {
   "cell_type": "code",
   "execution_count": 1,
   "id": "93ca8d90-e468-4406-aa10-dddc484ee570",
   "metadata": {},
   "outputs": [],
   "source": [
    "#WHAT IS ABSTRACTION IN PYTHON AND HOW DOES IT RELATE TO OBJECT-ORIENTED PROGRAMING "
   ]
  },
  {
   "cell_type": "code",
   "execution_count": null,
   "id": "dc192683-de14-45cf-b2e3-fe508413c28a",
   "metadata": {},
   "outputs": [],
   "source": [
    "\"\"\"Abstraction in Python is a concept in object-oriented programming that allows us to represent complex real- \n",
    "   world objects as simplified models in code. It involves hiding unnecessary details and exposing only the \n",
    "   essential features of an object.\n",
    "\n",
    "   In object-oriented programming, abstraction is closely related to encapsulation. Encapsulation is the process\n",
    "   of bundling data and methods together within a class, while abstraction focuses on providing a simplified\n",
    "   interface to interact with those objects.\n",
    "\n",
    "   By using abstraction, we can create classes with well-defined interfaces, where the internal implementation\n",
    "   details are hidden from the user. This allows us to work with objects at a higher level of abstraction, making\n",
    "   our code more modular, maintainable, and easier to understand.\n",
    "\n",
    "   In Python, we can achieve abstraction by using abstract classes and interfaces. Abstract classes provide a \n",
    "   blueprint for other classes to inherit from and define common methods that must be implemented by the\n",
    "   subclasses. Interfaces, on the other hand, define a set of methods that a class must implement, without \n",
    "   specifying the implementation details.\n",
    "\n",
    "   Abstraction helps in managing complexity, promoting code reusability, and enhancing the overall design of our\n",
    "   programs."
   ]
  },
  {
   "cell_type": "code",
   "execution_count": null,
   "id": "d0cfa551-276a-4bae-92b6-79c6f4214869",
   "metadata": {},
   "outputs": [],
   "source": []
  },
  {
   "cell_type": "code",
   "execution_count": null,
   "id": "8daf51e5-eab2-4935-a338-a6ab3d126ab8",
   "metadata": {},
   "outputs": [],
   "source": []
  },
  {
   "cell_type": "code",
   "execution_count": 2,
   "id": "9409e37d-6996-464d-a90c-b8cbd72891ba",
   "metadata": {
    "tags": []
   },
   "outputs": [],
   "source": [
    "#QUESTION 2"
   ]
  },
  {
   "cell_type": "code",
   "execution_count": 3,
   "id": "3a78ccc8-346c-4c30-ad14-a1e054e583ef",
   "metadata": {
    "tags": []
   },
   "outputs": [],
   "source": [
    "#DESCRIBE THE BENEFITS OF ABSTRACTION IN TERMS OF CODE ORGANIZATION AND COMPLEXITY REDUCTION."
   ]
  },
  {
   "cell_type": "code",
   "execution_count": null,
   "id": "0d00e272-dbbc-4a1d-8cfb-2116d9da9918",
   "metadata": {},
   "outputs": [],
   "source": [
    "\"\"\"Abstraction in code organization brings several benefits. First, it helps in reducing complexity by hiding \n",
    "   unnecessary details and exposing only what's essential. This allows us to focus on the high-level functionality\n",
    "   of an object without getting overwhelmed by its inner workings.\n",
    "\n",
    "   By providing a simplified interface, abstraction promotes code organization by making it easier to understand \n",
    "   and maintain. It allows us to group related functionality together within classes, making our code more modular\n",
    "   and reusable. This modular approach helps in organizing code into smaller, manageable components, which can be\n",
    "   developed, tested, and maintained independently.\n",
    "\n",
    "   Abstraction also enhances code readability. By hiding implementation details, it provides a clear separation\n",
    "   between the interface and the implementation, making it easier for other developers to understand and use our\n",
    "   code. It also promotes code reuse, as abstract classes and interfaces can be extended or implemented by\n",
    "   multiple classes, allowing us to leverage existing code and avoid duplication.\n",
    "\n",
    "Overall, abstraction in code organization helps in reducing complexity, improving maintainability, promoting \n",
    "code reuse, and enhancing the overall design of our programs. It allows us to create clean, well-structured code \n",
    "that is easier to understand, modify, and extend."
   ]
  },
  {
   "cell_type": "code",
   "execution_count": null,
   "id": "dd668626-a429-4a62-81d1-8c595cff5c53",
   "metadata": {},
   "outputs": [],
   "source": []
  },
  {
   "cell_type": "code",
   "execution_count": null,
   "id": "d4cf6083-4b77-42e4-ba84-0f83d0a99f42",
   "metadata": {},
   "outputs": [],
   "source": []
  },
  {
   "cell_type": "code",
   "execution_count": 4,
   "id": "b0f28815-46d2-4d14-accc-29625cbf93b6",
   "metadata": {
    "tags": []
   },
   "outputs": [],
   "source": [
    "#QUESTION 3"
   ]
  },
  {
   "cell_type": "code",
   "execution_count": 5,
   "id": "240c1771-4fc4-4726-a268-78518002ad8f",
   "metadata": {
    "tags": []
   },
   "outputs": [],
   "source": [
    "#CREATE A PYTHON CLASS CALLED `SHAPE` WITH AN ABSTRACT METHOD `CALCULATE_AREA()` THEN, CREATE CHILD CLASSES THAT IMPLEMENT THE `CALCULATE_AREA()` METHOD. PROVIDE AN EXAMPLE OF USING THESE CLASSES."
   ]
  },
  {
   "cell_type": "code",
   "execution_count": 3,
   "id": "a4933c4c-5059-4ef4-8f62-fb4598db391c",
   "metadata": {},
   "outputs": [
    {
     "name": "stdout",
     "output_type": "stream",
     "text": [
      "Area of the circle: 78.5\n",
      "Area of the rectangle: 24\n"
     ]
    }
   ],
   "source": [
    "from abc import ABC, abstractmethod\n",
    "class Shape(ABC):\n",
    "    @abstractmethod\n",
    "    def calculate_area(self):\n",
    "        pass\n",
    "class Circle(Shape):\n",
    "    def __init__(self,radius):\n",
    "        self.radius = radius\n",
    "    def calculate_area(self):\n",
    "        return 3.14*self.radius**2\n",
    "class Rectangle(Shape):\n",
    "    def __init__(self,length,width):\n",
    "        self.length = length\n",
    "        self.width = width\n",
    "    def calculate_area(self):\n",
    "        return self.length*self.width\n",
    "circle = Circle(5)\n",
    "circle_area = circle.calculate_area()\n",
    "print(\"Area of the circle:\",circle_area)\n",
    "rectangle = Rectangle(4,6)\n",
    "rectangle_area = rectangle.calculate_area()\n",
    "print(\"Area of the rectangle:\",rectangle_area)"
   ]
  },
  {
   "cell_type": "code",
   "execution_count": null,
   "id": "5f532dce-61bc-446c-9314-94f88a1fa812",
   "metadata": {},
   "outputs": [],
   "source": []
  },
  {
   "cell_type": "code",
   "execution_count": null,
   "id": "90dbffb1-dab3-4f20-9266-46f9c02fcb14",
   "metadata": {},
   "outputs": [],
   "source": []
  },
  {
   "cell_type": "code",
   "execution_count": 6,
   "id": "f138de77-707a-4f58-8ed0-6e0922668103",
   "metadata": {
    "tags": []
   },
   "outputs": [],
   "source": [
    "#QUESTION 4"
   ]
  },
  {
   "cell_type": "code",
   "execution_count": 7,
   "id": "6aea3976-d1a1-4a2c-862a-aeec08007f2d",
   "metadata": {
    "tags": []
   },
   "outputs": [],
   "source": [
    "#EXPLAIN THE CONCEPT OF ABSTRACT CLASSES IN PYTHON AND HOW THEY ARE DEFINED USING THE `ABC` MODULE. PROVIDE AN EXAMPLE"
   ]
  },
  {
   "cell_type": "code",
   "execution_count": null,
   "id": "5faaa45e-0af9-48d7-bc59-32a7e412435d",
   "metadata": {},
   "outputs": [],
   "source": [
    "\"\"\"Abstract classes are classes that cannot be instantiated and are meant to be inherited by other classes they \n",
    "   serve as a blueprint for subclasses,defining common attributes and methods that the subclasses should implement\n",
    "   In python, we can define abstract classes using the `ABC` class from the `abc` module to mark a method as \n",
    "   abstract, decorator from the same module."
   ]
  },
  {
   "cell_type": "code",
   "execution_count": 6,
   "id": "2f551486-1f4b-4edb-8726-295964410c56",
   "metadata": {
    "tags": []
   },
   "outputs": [
    {
     "name": "stdout",
     "output_type": "stream",
     "text": [
      "Woof!\n",
      "Meow!\n"
     ]
    }
   ],
   "source": [
    "from abc import ABC, abstractmethod\n",
    "class Animal(ABC):\n",
    "    @abstractmethod\n",
    "    def make_sound(self):\n",
    "        pass\n",
    "class Dog(Animal):\n",
    "    def make_sound(self):\n",
    "        return \"Woof!\"\n",
    "class Cat(Animal):\n",
    "    def make_sound(self):\n",
    "        return \"Meow!\"\n",
    "dog = Dog()\n",
    "print(dog.make_sound())\n",
    "cat = Cat()\n",
    "print(cat.make_sound())"
   ]
  },
  {
   "cell_type": "code",
   "execution_count": null,
   "id": "400aea38-1daa-46b0-a68d-1c9bfcea5548",
   "metadata": {},
   "outputs": [],
   "source": []
  },
  {
   "cell_type": "code",
   "execution_count": null,
   "id": "9100a43f-9297-4963-8222-576fa5ebb0c0",
   "metadata": {},
   "outputs": [],
   "source": []
  },
  {
   "cell_type": "code",
   "execution_count": 8,
   "id": "e59d5db8-b349-4f18-8ab1-bf4a87ee0de5",
   "metadata": {
    "tags": []
   },
   "outputs": [],
   "source": [
    "#QUESTION 5"
   ]
  },
  {
   "cell_type": "code",
   "execution_count": 9,
   "id": "28506b5d-d250-48d0-beca-80fe4b298de0",
   "metadata": {
    "tags": []
   },
   "outputs": [],
   "source": [
    "#HOW DO ABSTRACT CLASSES DIFFER REGULAR CLASSES IN PYTHON? DISCUSS THEIR USE CASES."
   ]
  },
  {
   "cell_type": "code",
   "execution_count": null,
   "id": "8c2c3d45-66ce-4613-9780-a2c330634a80",
   "metadata": {},
   "outputs": [],
   "source": [
    "\"\"\"Abstract classes differ from regular classes in Python in the following ways:\n",
    "\n",
    "1. Instantiation: Abstract classes cannot be instantiated directly, meaning we cannot create objects of abstract\n",
    "   classes. They are meant to be inherited by other classes.\n",
    "\n",
    "2. Abstract Methods: Abstract classes can have abstract methods, which are methods without an implementation. \n",
    "   Subclasses inheriting from abstract classes must provide implementations for all the abstract methods.\n",
    "\n",
    "3. Incomplete Implementation: Abstract classes can have incomplete or partial implementations. They can provide\n",
    "   some common functionality or attributes that subclasses can inherit and build upon.\n",
    "\n",
    "Use cases for abstract classes include:\n",
    "\n",
    "1. Defining Common Interface: Abstract classes are useful when you want to define a common interface or structure\n",
    "   that multiple subclasses should follow. This helps in organizing and enforcing a consistent behavior across \n",
    "   related classes.\n",
    "\n",
    "2. Encouraging Code Reusability: Abstract classes allow you to define common methods or attributes once in the \n",
    "   abstract class and have them inherited by multiple subclasses. This promotes code reusability and reduces\n",
    "   redundancy.\n",
    "\n",
    "3. Enforcing Method Implementation: Abstract classes with abstract methods ensure that subclasses provide   \n",
    "   implementations for those methods. This helps in enforcing a certain behavior or functionality in the \n",
    "   subclasses.\n",
    "\n",
    "4. Polymorphism: Abstract classes can be used to achieve polymorphism, where different subclasses can be treated \n",
    "   interchangeably through a common abstract class interface. This allows for more flexible and modular code \n",
    "   design.\n",
    "\n",
    "Overall, abstract classes provide a way to define a common structure, behavior, and contract for related classes, \n",
    "promoting code organization, reusability, and consistent implementation."
   ]
  },
  {
   "cell_type": "code",
   "execution_count": null,
   "id": "8f0967f4-459a-4344-bb5a-0afa587f477f",
   "metadata": {},
   "outputs": [],
   "source": []
  },
  {
   "cell_type": "code",
   "execution_count": null,
   "id": "5046598a-de55-4bb8-b05c-e184e068239e",
   "metadata": {},
   "outputs": [],
   "source": []
  },
  {
   "cell_type": "code",
   "execution_count": 57,
   "id": "2abc8c12-b5ea-4f4e-8e97-3d4d95fbe26e",
   "metadata": {
    "tags": []
   },
   "outputs": [],
   "source": [
    "#QUESTION 6"
   ]
  },
  {
   "cell_type": "code",
   "execution_count": 1,
   "id": "e974d960-d139-47dc-9397-01ffcb023703",
   "metadata": {},
   "outputs": [],
   "source": [
    "#CREATE A PYTHON CLASS FOR A BANK ACCOUNT AND DEMONSTRATE ABSTRACTION BY HIDING THE ACCOUNT BALANCE AND PROVIDING METHODS TO DEPOSIT AND WITHDRAW FUNDS"
   ]
  },
  {
   "cell_type": "code",
   "execution_count": 63,
   "id": "507a174d-0e31-4e57-a5e8-6cb63b51640a",
   "metadata": {},
   "outputs": [
    {
     "name": "stdout",
     "output_type": "stream",
     "text": [
      "500\n"
     ]
    }
   ],
   "source": [
    "class BankAccount:\n",
    "    def __init__(self):\n",
    "        self._balance = 0\n",
    "\n",
    "    def deposit(self, amount):\n",
    "        self._balance += amount\n",
    "\n",
    "    def withdraw(self, amount):\n",
    "        if self._balance >= amount:\n",
    "            self._balance -= amount\n",
    "        else:\n",
    "            print(\"Insufficient funds\")\n",
    "\n",
    "    def get_balance(self):\n",
    "        return self._balance\n",
    "\n",
    "\n",
    "account = BankAccount()\n",
    "account.deposit(1000)\n",
    "account.withdraw(500)\n",
    "print(account.get_balance())  \n"
   ]
  },
  {
   "cell_type": "code",
   "execution_count": null,
   "id": "1fc8029e-0d89-4b9a-be63-6eeb05f72bf2",
   "metadata": {},
   "outputs": [],
   "source": []
  },
  {
   "cell_type": "code",
   "execution_count": null,
   "id": "41580789-8dee-459e-a10d-84fb191215e4",
   "metadata": {},
   "outputs": [],
   "source": []
  },
  {
   "cell_type": "code",
   "execution_count": 2,
   "id": "c8849480-afd7-4f3e-8335-024aff2a531e",
   "metadata": {
    "tags": []
   },
   "outputs": [],
   "source": [
    "#QUESTION 7"
   ]
  },
  {
   "cell_type": "code",
   "execution_count": 3,
   "id": "b6e405e5-5398-4916-b777-082a7d6f0471",
   "metadata": {
    "tags": []
   },
   "outputs": [],
   "source": [
    "#DISCUSS THE CONCEPT OF INTERFACE CLASSES IN PYTHON AND THEIR ROLE IN ACHIEVING ABSTRACTION."
   ]
  },
  {
   "cell_type": "code",
   "execution_count": null,
   "id": "369d2701-0ba2-430f-bfa1-e944adf03f43",
   "metadata": {},
   "outputs": [],
   "source": [
    "\"\"\"In Python,there is no built-in keyword for defining interface classes like in some other programming languages.\n",
    "   However, we can achieve a similar concept of interfaces by using abstract base classes (ABCs) from the abc \n",
    "   module.\n",
    "\n",
    "   ABCs allow us to define abstract methods and properties that must be implemented by concrete classes that\n",
    "   inherit from them. This helps in achieving abstraction and defining a common interface that multiple classes \n",
    "   can adhere to.\n",
    "\n",
    "   To create an interface-like class, we can define an ABC and mark specific methods or properties as abstract \n",
    "   using the @abstractmethod decorator. Any class that inherits from this ABC must implement all the abstract\n",
    "   methods and properties.\n",
    "\n",
    "Here's an example:\n",
    "\n",
    "python\n",
    "from abc import ABC, abstractmethod\n",
    "\n",
    "class PaymentGateway(ABC):\n",
    "    @abstractmethod\n",
    "    def process_payment(self, amount):\n",
    "        pass\n",
    "\n",
    "    @abstractmethod\n",
    "    def refund_payment(self, transaction_id):\n",
    "        pass\n",
    "\n",
    "\n",
    "In this example, PaymentGateway is an abstract base class that serves as an interface for payment gateways. It \n",
    "defines two abstract methods: process_payment() and refund_payment(). Any class that wants to be considered a\n",
    "payment gateway must inherit from PaymentGateway and implement these methods.\n",
    "\n",
    "By defining an interface-like class using ABCs, we can ensure that any class implementing the interface provides\n",
    "the required functionality. This helps in achieving abstraction by separating the interface from the\n",
    "implementation details and promoting a consistent behavior across different classes.\n",
    "\n",
    "It's important to note that Python relies on duck typing, which means that the focus is on the behavior of\n",
    "objects rather than their specific types. So, even without explicit interface classes, any class that provides \n",
    "the required methods can be used interchangeably as long as they adhere to the expected behavior."
   ]
  },
  {
   "cell_type": "code",
   "execution_count": null,
   "id": "2ecf2460-1420-43fd-bf45-fb4bfdc9b6a9",
   "metadata": {},
   "outputs": [],
   "source": []
  },
  {
   "cell_type": "code",
   "execution_count": null,
   "id": "747aba92-795f-4049-9e64-ae1064160ff4",
   "metadata": {},
   "outputs": [],
   "source": []
  },
  {
   "cell_type": "code",
   "execution_count": 4,
   "id": "b7f83b9d-6e5a-460e-a938-ba4841ecd9d4",
   "metadata": {
    "tags": []
   },
   "outputs": [],
   "source": [
    "#QUESTION 8"
   ]
  },
  {
   "cell_type": "code",
   "execution_count": 5,
   "id": "bdb92194-621d-4339-b802-6492da494ca8",
   "metadata": {
    "tags": []
   },
   "outputs": [],
   "source": [
    "#CREATE A PYTHON CLASS HIERARCHY FOR ANIMALS AND IMPLEMENT ABSTRACTION BY DEFINING COMMON METHODS IN AN ABSTRACT BASE CLASS."
   ]
  },
  {
   "cell_type": "code",
   "execution_count": 1,
   "id": "e2620f04-f0b5-496d-ba4b-8102d12cd819",
   "metadata": {},
   "outputs": [
    {
     "name": "stdout",
     "output_type": "stream",
     "text": [
      "Buddy is eating dog food.\n",
      "Buddy is sleeping in its dog bed.\n",
      "Whiskers is eating cat food.\n",
      "Whiskers is sleeping on the windowsill.\n",
      "Simba is eating meat.\n",
      "Simba is sleeping under a shady tree.\n"
     ]
    }
   ],
   "source": [
    "from abc import ABC, abstractmethod\n",
    "class Animal(ABC):\n",
    "    def __init__(self,name):\n",
    "        self.name = name\n",
    "    @abstractmethod\n",
    "    def eat(self):\n",
    "        pass\n",
    "    @abstractmethod\n",
    "    def sleep(self):\n",
    "        pass\n",
    "class Dog(Animal):\n",
    "    def eat(self):\n",
    "        print(f\"{self.name} is eating dog food.\")\n",
    "    def sleep(self):\n",
    "        print(f\"{self.name} is sleeping in its dog bed.\")\n",
    "class Cat(Animal):\n",
    "    def eat(self):\n",
    "        print(f\"{self.name} is eating cat food.\")\n",
    "    def sleep(self):\n",
    "        print(f\"{self.name} is sleeping on the windowsill.\")\n",
    "class Lion(Animal):\n",
    "    def eat(self):\n",
    "        print(f\"{self.name} is eating meat.\")\n",
    "    def sleep(self):\n",
    "        print(f\"{self.name} is sleeping under a shady tree.\")\n",
    "dog = Dog(\"Buddy\")\n",
    "dog.eat()\n",
    "dog.sleep()\n",
    "cat = Cat(\"Whiskers\")\n",
    "cat.eat()\n",
    "cat.sleep()\n",
    "lion = Lion(\"Simba\")\n",
    "lion.eat()\n",
    "lion.sleep()"
   ]
  },
  {
   "cell_type": "code",
   "execution_count": null,
   "id": "881c2302-8ffd-4a8a-b883-a4d292c28085",
   "metadata": {},
   "outputs": [],
   "source": []
  },
  {
   "cell_type": "code",
   "execution_count": null,
   "id": "202ac24c-5d97-43f7-a366-4f7946415505",
   "metadata": {},
   "outputs": [],
   "source": []
  },
  {
   "cell_type": "code",
   "execution_count": 6,
   "id": "89c99324-9e97-4372-889e-6e1e68924e39",
   "metadata": {
    "tags": []
   },
   "outputs": [],
   "source": [
    "#QUESTION 9"
   ]
  },
  {
   "cell_type": "code",
   "execution_count": 7,
   "id": "ae2fc5ab-0ab1-424c-8e38-e1ff0120383b",
   "metadata": {
    "tags": []
   },
   "outputs": [],
   "source": [
    "#EXPLAIN THE SIGNIFICANCE OF ENCAPSULATION IN ACHIEVING ABSTRACTION. PROVIDE EXAMPLES."
   ]
  },
  {
   "cell_type": "code",
   "execution_count": null,
   "id": "49ccb2e0-c1f0-4801-9a3b-67a30324cf33",
   "metadata": {},
   "outputs": [],
   "source": [
    "\"\"\"Encapsulation is an important concept in achieving abstraction in object-oriented programming. It allows us to\n",
    "   bundle data and the methods that operate on that data into a single unit, called a class. By encapsulating\n",
    "   data and methods together, we can control access to the data and hide its implementation details from the\n",
    "   outside world.\n",
    "   By encapsulating the customer details and providing controlled access, we achieve abstraction. The outside \n",
    "   world only needs to interact with the public methods of the Customer class, such as get_name() and set_name(),\n",
    "   without worrying about the internal implementation details. This simplifies the usage of the methods and the \n",
    "   data they operate on is hidden from the outside world, achieving encapsulation and abstraction.\n",
    "\n",
    "Encapsulation and abstraction work together to provide a clear separation between the interface of a class and \n",
    "its implementation details."
   ]
  },
  {
   "cell_type": "code",
   "execution_count": 2,
   "id": "e4026e01-683f-4074-9703-5076fe4997a2",
   "metadata": {},
   "outputs": [
    {
     "name": "stdout",
     "output_type": "stream",
     "text": [
      "John Doe\n",
      "123 Main St\n"
     ]
    }
   ],
   "source": [
    "class Customer:\n",
    "    def __init__(self, name, address, contact):\n",
    "        self.__name = name\n",
    "        self.__address = address\n",
    "        self.__contact = contact\n",
    "\n",
    "    def get_name(self):\n",
    "        return self.__name\n",
    "\n",
    "    def set_name(self, name):\n",
    "        self.__name = name\n",
    "\n",
    "    def get_address(self):\n",
    "        return self.__address\n",
    "\n",
    "    def set_address(self, address):\n",
    "        self.__address = address\n",
    "\n",
    "    def get_contact(self):\n",
    "        return self.__contact\n",
    "\n",
    "    def set_contact(self, contact):\n",
    "        self.__contact = contact\n",
    "customer = Customer(\"John Doe\", \"123 Main St\", \"johndoe@example.com\")\n",
    "print(customer.get_name()) \n",
    "\n",
    "customer.set_address\n",
    "print(customer.get_address())  "
   ]
  },
  {
   "cell_type": "code",
   "execution_count": null,
   "id": "1c3f0f31-4fd4-45a4-b193-31d18fd8afce",
   "metadata": {},
   "outputs": [],
   "source": []
  },
  {
   "cell_type": "code",
   "execution_count": 8,
   "id": "3f01ad53-65ed-4093-8bcd-41515923a4b2",
   "metadata": {
    "tags": []
   },
   "outputs": [],
   "source": [
    "#QUESTION 10"
   ]
  },
  {
   "cell_type": "code",
   "execution_count": 9,
   "id": "03f8cfb6-8f3f-4b52-b18d-f0ded440c147",
   "metadata": {
    "tags": []
   },
   "outputs": [],
   "source": [
    "#WHAT IS THE PURPOSE OF ABSTRACT METHODS, AND HOW DO  THEY ENFORE ABSTRACTION IN PYTHON CLASSES?"
   ]
  },
  {
   "cell_type": "code",
   "execution_count": null,
   "id": "adc57e18-a959-4cfb-85a0-d4175a37bbed",
   "metadata": {},
   "outputs": [],
   "source": [
    "\"\"\"Abstract methods in Python classes serve as placeholders for methods that must be implemented by the child \n",
    "   classes. They define the method signature but do not provide an implementation. The purpose of abstract methods\n",
    "   is to enforce a certain behavior or functionality that the child classes must adhere to.\n",
    "\n",
    "   By using abstract methods, we can enforce abstraction in Python classes. Abstraction allows us to define a \n",
    "   common interface or behavior that multiple classes can share,without worrying about the specific implementation\n",
    "   details. It helps in organizing code and reducing complexity.\n",
    "\n",
    "   In Python, we can create abstract methods by using the abc module. This module provides the ABC (Abstract Base\n",
    "   Class) and abstractmethod decorators, which allow us to define abstract methods.\n",
    "\n",
    "Here's an example:\n",
    "\n",
    "python\n",
    "from abc import ABC, abstractmethod\n",
    "\n",
    "class Shape(ABC):\n",
    "    @abstractmethod\n",
    "    def calculate_area(self):\n",
    "        pass\n",
    "\n",
    "\n",
    "In this example, we define an abstract class called Shape with an abstract method calculate_area(). The\n",
    "abstractmethod decorator marks this method as abstract, indicating that any class that inherits from Shape must \n",
    "implement this method.\n",
    "\n",
    "python\n",
    "class Circle(Shape):\n",
    "    def __init__(self, radius):\n",
    "        self.radius = radius\n",
    "\n",
    "    def calculate_area(self):\n",
    "        return 3.14 * self.radius ** 2\n",
    "\n",
    "class Rectangle(Shape):\n",
    "    def __init__(self, length, width):\n",
    "        self.length = length\n",
    "        self.width = width\n",
    "\n",
    "    def calculate_area(self):\n",
    "        return self.length * self.width\n",
    "\n",
    "\n",
    "In this example, we create two child classes, Circle and Rectangle, that inherit from the abstract class Shape.\n",
    "Both of these classes provide their own implementation of the calculate_area() method, as required by the abstract\n",
    "class.\n",
    "\n",
    "By enforcing the implementation of abstract methods, we ensure that any class inheriting from the abstract class\n",
    "follows a specific contract or behavior. This promotes code reusability, modularity, and helps in maintaining a \n",
    "consistent structure across different classes."
   ]
  },
  {
   "cell_type": "code",
   "execution_count": null,
   "id": "5569fa90-e8b1-422b-b825-8f64dd17bba8",
   "metadata": {},
   "outputs": [],
   "source": []
  },
  {
   "cell_type": "code",
   "execution_count": null,
   "id": "e6efbf3e-6b85-4f65-94b7-2335eb14812a",
   "metadata": {},
   "outputs": [],
   "source": []
  },
  {
   "cell_type": "code",
   "execution_count": 10,
   "id": "1e2c3e66-3252-4afa-9681-8413fb2650e0",
   "metadata": {
    "tags": []
   },
   "outputs": [],
   "source": [
    "#QUESTION 11"
   ]
  },
  {
   "cell_type": "code",
   "execution_count": 11,
   "id": "228176b3-574a-4f7a-9967-f0165cd79c0e",
   "metadata": {
    "tags": []
   },
   "outputs": [],
   "source": [
    "#CREATE A PYTHON CLASS FOR A VECHICLE SYSTEM AND DEMONSTRATE ABSTRACTION BY DEFINING COMMON METHODS IN ABSTRACT BASE CLASS."
   ]
  },
  {
   "cell_type": "code",
   "execution_count": null,
   "id": "3aec2ac9-9f0a-49c4-a728-820164b8e069",
   "metadata": {},
   "outputs": [],
   "source": [
    "from abc import ABC, abstractmethod\n",
    "class Vehicle(ABC):\n",
    "    @abstractmethod\n",
    "    def start(self):\n",
    "        pass\n",
    "    @abstractmethod\n",
    "    def stop(self):\n",
    "        pass\n",
    "class Car(Vehicle):\n",
    "    def start(self):\n",
    "        return \"Car engine started.\"\n",
    "    def stop(self):\n",
    "        return \"Car engine stopped.\"\n",
    "class Motorcycle(Vehicle):\n",
    "    def start(self):\n",
    "        return \"Motorcycle engine started.\"\n",
    "    def stop(self):\n",
    "        return \"Motorcycle engine stopped.\n",
    "car = Car()\n",
    "print(car.start())\n",
    "print(car"
   ]
  },
  {
   "cell_type": "code",
   "execution_count": null,
   "id": "528750c7-0786-47d7-ba3b-34a3776b9426",
   "metadata": {},
   "outputs": [],
   "source": []
  },
  {
   "cell_type": "code",
   "execution_count": null,
   "id": "373eecaf-63b0-4850-b7ef-281362983a9e",
   "metadata": {},
   "outputs": [],
   "source": []
  },
  {
   "cell_type": "code",
   "execution_count": 12,
   "id": "81640cb2-bd23-4d0c-a417-7f9fa72a9065",
   "metadata": {
    "tags": []
   },
   "outputs": [],
   "source": [
    "#QUESTION 12"
   ]
  },
  {
   "cell_type": "code",
   "execution_count": 13,
   "id": "f622a09d-50db-4892-b3d9-d51d47f51acb",
   "metadata": {
    "tags": []
   },
   "outputs": [],
   "source": [
    "#DESCRIBE THE USE OF ABSTRACT PROPERTIES IN PYTHON AND HOW THEY CAN BE EMPLOYEED IN ABSTRACT CLASSES."
   ]
  },
  {
   "cell_type": "code",
   "execution_count": 65,
   "id": "dff206b9-bc55-44c2-bfd3-14f579c0fd54",
   "metadata": {},
   "outputs": [
    {
     "name": "stdout",
     "output_type": "stream",
     "text": [
      "Tesla\n",
      "Starting the car engine...\n",
      "Stopping the car engine...\n"
     ]
    }
   ],
   "source": [
    "from abc import ABC, abstractmethod\n",
    "class Vehicle(ABC):\n",
    "    @property\n",
    "    @abstractmethod\n",
    "    def brand(self):\n",
    "        pass\n",
    "    @property\n",
    "    @abstractmethod\n",
    "    def start(self):\n",
    "        pass\n",
    "    @property\n",
    "    @abstractmethod\n",
    "    def stop(self):\n",
    "        pass\n",
    "class Car(Vehicle):\n",
    "    def __init__(self,brand):\n",
    "        self._brand = brand\n",
    "    @property\n",
    "    def brand(self):\n",
    "        return self._brand\n",
    "    @property\n",
    "    def start(self):\n",
    "        return \"Starting the car engine...\"\n",
    "    @property\n",
    "    def stop(self):\n",
    "        return \"Stopping the car engine...\"\n",
    "my_car = Car(\"Tesla\")\n",
    "print(my_car.brand)\n",
    "print(my_car.start)\n",
    "print(my_car.stop)\n"
   ]
  },
  {
   "cell_type": "code",
   "execution_count": null,
   "id": "2db602c9-ad6a-49ef-843f-de56f470f83b",
   "metadata": {},
   "outputs": [],
   "source": []
  },
  {
   "cell_type": "code",
   "execution_count": null,
   "id": "c83b11ac-61f0-4a7c-9271-e8bbe007cc13",
   "metadata": {},
   "outputs": [],
   "source": []
  },
  {
   "cell_type": "code",
   "execution_count": 14,
   "id": "5de703c4-c4f4-4f0d-870d-b72d8345dca1",
   "metadata": {
    "tags": []
   },
   "outputs": [],
   "source": [
    "#QUESTION 13"
   ]
  },
  {
   "cell_type": "code",
   "execution_count": 15,
   "id": "485230f3-8f53-4888-b7d7-3d0d7f5cd227",
   "metadata": {
    "tags": []
   },
   "outputs": [],
   "source": [
    "#CREATE A PYTHON CLASS HIERARCHY FOR EMPLOYEES IN A COMPANY AND IMPLIMENT ABSTRACTION BY DEFINING A COMMON GET_SALARY() METHOD"
   ]
  },
  {
   "cell_type": "code",
   "execution_count": 68,
   "id": "ce36a9d9-9d9d-421a-bcf4-cf809f0f1651",
   "metadata": {},
   "outputs": [
    {
     "name": "stdout",
     "output_type": "stream",
     "text": [
      "John Smith Manager 10000\n",
      "Jane Doe Developer 8000\n",
      "Alice Johnson Designer 7000\n"
     ]
    }
   ],
   "source": [
    "class Employee:\n",
    "    def __init__(self, name, position):\n",
    "        self.name = name\n",
    "        self.position = position\n",
    "\n",
    "    def get_salary(self):\n",
    "        raise NotImplementedError(\"Subclasses must implement get_salary() method\")\n",
    "\n",
    "\n",
    "class Manager(Employee):\n",
    "    def get_salary(self):\n",
    "        return 10000\n",
    "\n",
    "\n",
    "class Developer(Employee):\n",
    "    def get_salary(self):\n",
    "        return 8000\n",
    "\n",
    "\n",
    "class Designer(Employee):\n",
    "    def get_salary(self):\n",
    "        return 7000\n",
    "manager = Manager(\"John Smith\", \"Manager\")\n",
    "developer = Developer(\"Jane Doe\", \"Developer\")\n",
    "designer = Designer(\"Alice Johnson\", \"Designer\")\n",
    "\n",
    "print(manager.name, manager.position, manager.get_salary())    \n",
    "print(developer.name, developer.position, developer.get_salary()) \n",
    "print(designer.name, designer.position, designer.get_salary())    \n"
   ]
  },
  {
   "cell_type": "code",
   "execution_count": null,
   "id": "e52e3a57-2416-493e-884a-e4631ab79e3a",
   "metadata": {},
   "outputs": [],
   "source": []
  },
  {
   "cell_type": "code",
   "execution_count": null,
   "id": "76ef65af-0487-468f-9d73-713163837fb2",
   "metadata": {},
   "outputs": [],
   "source": []
  },
  {
   "cell_type": "code",
   "execution_count": 16,
   "id": "c664f649-3cc9-40f2-b723-fd094f166748",
   "metadata": {
    "tags": []
   },
   "outputs": [],
   "source": [
    "#QUESTION 14"
   ]
  },
  {
   "cell_type": "code",
   "execution_count": 17,
   "id": "44d0309d-68eb-42bf-9a35-723146bbab1a",
   "metadata": {
    "tags": []
   },
   "outputs": [],
   "source": [
    "#DISCUSS THE DIFFERENCE BETWEEN ABSTRACT CLASSES AND CONCRETE CLASSES IN PYTHON, INCLUDING THEIR INSTANTIATION."
   ]
  },
  {
   "cell_type": "code",
   "execution_count": null,
   "id": "15387ae7-6554-4f89-b8cc-b66f09609141",
   "metadata": {},
   "outputs": [],
   "source": [
    "\"\"\"Abstract classes and concrete classes are both important concepts in object-oriented programming, including \n",
    "   Python. Let's discuss their differences, including their instantiation.\n",
    "\n",
    "   An abstract class is a class that cannot be instantiated directly. It serves as a blueprint for other classes\n",
    "   and is meant to be subclassed. Abstract classes are typically used to define common methods and attributes\n",
    "   that will be inherited by their subclasses. They often contain one or more abstract methods, which are methods \n",
    "   without an implementation. Abstract classes are defined using the abc module in Python.\n",
    "\n",
    "   On the other hand, a concrete class is a class that can be instantiated directly. It can be used to create \n",
    "   objects and has a complete implementation of all its methods and attributes. Concrete classes can inherit\n",
    "   from abstract classes or other concrete classes, and they provide the specific implementation of the abstract \n",
    "   methods inherited from their parent classes.\n",
    "\n",
    "   To instantiate a concrete class, you simply create an object of that class using the class name followed by\n",
    "   parentheses. For example:\n",
    "class MyClass:\n",
    "    def __init__(self, parameter):\n",
    "        self.parameter = parameter\n",
    "\n",
    "    def my_method(self):\n",
    "        print(\"Hello, I'm a concrete class!\")\n",
    "\n",
    "# Instantiating a concrete class\n",
    "my_object = MyClass(\"example\")\n",
    "my_object.my_method()  # Output: Hello, I'm a concrete class!\n",
    "\n",
    "\n",
    "In contrast, you cannot directly instantiate an abstract class. If you try to create an object of an abstract\n",
    "class, you will get a TypeError. Instead, you need to create a subclass of the abstract class and provide\n",
    "implementations for all the abstract methods. Then, you can instantiate the subclass.\n",
    "\n",
    "Here's an example:\n",
    "\n",
    "python\n",
    "from abc import ABC, abstractmethod\n",
    "\n",
    "class AbstractClass(ABC):\n",
    "    @abstractmethod\n",
    "    def my_abstract_method(self):\n",
    "        pass\n",
    "\n",
    "class SubClass(AbstractClass):\n",
    "    def my_abstract_method(self):\n",
    "        print(\"Hello, I'm a subclass of an abstract class!\")\n",
    "\n",
    "# Instantiating a subclass of an abstract class\n",
    "my_object = SubClass()\n",
    "my_object.my_abstract_method() "
   ]
  },
  {
   "cell_type": "code",
   "execution_count": null,
   "id": "0cf3a6e5-1898-4ba9-b8f6-d4000fcef291",
   "metadata": {},
   "outputs": [],
   "source": []
  },
  {
   "cell_type": "code",
   "execution_count": null,
   "id": "4e299fec-7028-45be-ab7d-9ee9ad4d6e4d",
   "metadata": {},
   "outputs": [],
   "source": []
  },
  {
   "cell_type": "code",
   "execution_count": 18,
   "id": "a474b99c-1f93-422e-96f5-8cfb012846df",
   "metadata": {
    "tags": []
   },
   "outputs": [],
   "source": [
    "#QUESTION 15"
   ]
  },
  {
   "cell_type": "code",
   "execution_count": 19,
   "id": "cc90979f-d6f0-43f3-a786-56db8d97c9db",
   "metadata": {
    "tags": []
   },
   "outputs": [],
   "source": [
    "#EXPLAIN THE CONCEPT OF ABSTRACT DATA TYPES(ADTs) AND THEIR ROLE IN ACHIEVING ABSTRACTION IN PYTHON."
   ]
  },
  {
   "cell_type": "code",
   "execution_count": null,
   "id": "b8858ccf-3838-46b8-ad28-b2f8cab05a22",
   "metadata": {},
   "outputs": [],
   "source": [
    "\"\"\"Abstract Data Types (ADTs) are a way of organizing and working with data in a programming language. They\n",
    "   define a set of operations that can be performed on the data, without specifying the internal implementation \n",
    "   details. ADTs focus on what operations can be performed on the data and what behavior is expected, rather\n",
    "   than how the operations are implemented.\n",
    "\n",
    "   In Python, ADTs are typically implemented using classes. The class serves as a blueprint for creating objects \n",
    "   that represent the abstract data type. The methods defined in the class define the operations that can be \n",
    "   performed on the data.\n",
    "\n",
    "   The role of ADTs in achieving abstraction in Python is that they allow us to separate the interface of the \n",
    "   data type from its implementation. By defining the operations that can be performed on the data without \n",
    "   specifying how those operations are implemented, we can hide the complexity of the underlying code and \n",
    "   provide a simplified and consistent way of working with the data.\n",
    "\n",
    "For example, let's say we want to create a stack data structure. We can define an abstract data type called \n",
    "Stack with methods like push, pop, and is_empty. The implementation details of how the stack is actually stored\n",
    "and managed can be hidden within the class. Users of the Stack class only need to know how to use the methods\n",
    "to interact with the stack, without worrying about the underlying implementation.\n",
    "\n",
    "Here's a simple example of an abstract data type for a stack in Python:\n",
    "\n",
    "python\n",
    "class Stack:\n",
    "    def __init__(self):\n",
    "        self.stack = []\n",
    "\n",
    "    def push(self, item):\n",
    "        self.stack.append(item)\n",
    "\n",
    "    def pop(self):\n",
    "        if not self.is_empty():\n",
    "            return self.stack.pop()\n",
    "        else:\n",
    "            raise IndexError(\"Stack is empty\")\n",
    "\n",
    "    def is_empty(self):\n",
    "        return len(self.stack) == 0\n",
    "By using ADTs, we can achieve abstraction in Python by providing a clear and consistent interface for working\n",
    "with data, while hiding the implementation details.This allows for easier code maintenance, reusability, and\n",
    "modularity."
   ]
  },
  {
   "cell_type": "code",
   "execution_count": null,
   "id": "315c4d10-cc42-43fd-b814-f94a272d22fb",
   "metadata": {},
   "outputs": [],
   "source": []
  },
  {
   "cell_type": "code",
   "execution_count": null,
   "id": "eff09e33-57f2-47f5-854b-8e8a48a366e7",
   "metadata": {},
   "outputs": [],
   "source": []
  },
  {
   "cell_type": "code",
   "execution_count": 20,
   "id": "6fa97f82-3c70-4657-a1d1-295ceeb8768b",
   "metadata": {
    "tags": []
   },
   "outputs": [],
   "source": [
    "#QUESTION 16"
   ]
  },
  {
   "cell_type": "code",
   "execution_count": 21,
   "id": "a049097d-e382-4b7d-8341-174c3fec059c",
   "metadata": {
    "tags": []
   },
   "outputs": [],
   "source": [
    "#CREATE A PYTHON CLASS FOR A COMPUTER SYSTEM, DEMONSTRATING ABSTRACTION  BY DEFINING COMMON METHODS IN AN ABSTRACT BASE CLASS."
   ]
  },
  {
   "cell_type": "code",
   "execution_count": 71,
   "id": "8341fd3e-f57a-4132-8f03-5366b491147e",
   "metadata": {},
   "outputs": [],
   "source": [
    "from abc import ABC, abstractmethod\n",
    "\n",
    "class ComputerSystem(ABC):\n",
    "    @abstractmethod\n",
    "    def power_on(self):\n",
    "        pass\n",
    "\n",
    "    @abstractmethod\n",
    "    def shutdown(self):\n",
    "        pass\n",
    "class DesktopComputer(ComputerSystem):\n",
    "    def power_on(self):\n",
    "        print(\"Desktop computer is powering on...\")\n",
    "\n",
    "    def shutdown(self):\n",
    "        print(\"Desktop computer is shutting down...\")\n",
    "lg = LG()\n",
    "destop.start()"
   ]
  },
  {
   "cell_type": "code",
   "execution_count": null,
   "id": "860712e3-ab19-4dbc-bee3-bab2f4495f13",
   "metadata": {},
   "outputs": [],
   "source": []
  },
  {
   "cell_type": "code",
   "execution_count": null,
   "id": "9c648836-00ca-477b-9db5-f0cca15cd0b1",
   "metadata": {},
   "outputs": [],
   "source": []
  },
  {
   "cell_type": "code",
   "execution_count": 22,
   "id": "aefdf85a-1078-4df1-978e-089460ce0f2a",
   "metadata": {
    "tags": []
   },
   "outputs": [],
   "source": [
    "#QUESTION 17"
   ]
  },
  {
   "cell_type": "code",
   "execution_count": 23,
   "id": "1871e607-b839-4dbd-9079-be470cb829a4",
   "metadata": {
    "tags": []
   },
   "outputs": [],
   "source": [
    "#DISCUSS THE BENIFITS OF USING ABSTRACTION IN LARGE-SCALE SOFTWARE DEVELOPMENT PROJECTS."
   ]
  },
  {
   "cell_type": "code",
   "execution_count": null,
   "id": "13a2413e-b138-4213-885b-c7dfec3b1615",
   "metadata": {},
   "outputs": [],
   "source": [
    "\"\"\"Abstraction is super useful in large-scale software projects. It helps simplify complex systems by hiding\n",
    "   unnecessary details and focusing on essential functionality. With abstraction, you can create reusable code,\n",
    "   improve code maintainability, and enhance team collaboration. It's like putting on a fancy mask to hide\n",
    "   all the nitty-gritty details and make things easier to work with"
   ]
  },
  {
   "cell_type": "code",
   "execution_count": null,
   "id": "fd865655-a7d1-4620-81d9-a7d5fa157be0",
   "metadata": {},
   "outputs": [],
   "source": []
  },
  {
   "cell_type": "code",
   "execution_count": null,
   "id": "a410ae4e-6b90-4f12-ab6d-f351d90f32f5",
   "metadata": {},
   "outputs": [],
   "source": []
  },
  {
   "cell_type": "code",
   "execution_count": 24,
   "id": "f2ad678c-8623-4a83-8de7-fd91dcb973d6",
   "metadata": {
    "tags": []
   },
   "outputs": [],
   "source": [
    "#QUESTION 18"
   ]
  },
  {
   "cell_type": "code",
   "execution_count": 25,
   "id": "803fa572-a161-45f2-9312-94cf2a176eec",
   "metadata": {
    "tags": []
   },
   "outputs": [],
   "source": [
    "#EXPLAIN HOW ABSTRACTION ENHANCES CODE REUSABILITY AND MODULARITY IN PYTHON PROJECTS"
   ]
  },
  {
   "cell_type": "code",
   "execution_count": null,
   "id": "935e4dfe-3a1b-4a3a-bc13-965ab25d322c",
   "metadata": {},
   "outputs": [],
   "source": [
    "\"\"\"Abstraction in Python allows you to create abstract base classes that define common methods and properties. \n",
    "   By abstracting away the implementation details, you can create modular and reusable code. Other classes can\n",
    "   inherit from these abstract base classes and implement their own specific functionalities. This promotes code\n",
    "   reusability since you can reuse the abstract base class in multiple places without duplicating code. It also\n",
    "   enhances modularity by allowing you to easily swap out different implementations while keeping the same\n",
    "   interface. So, abstraction in Python is like building blocks that make your code more flexible and \n",
    "   maintainable."
   ]
  },
  {
   "cell_type": "code",
   "execution_count": null,
   "id": "a6c93d74-baa7-40e8-b6b1-d884c16ad0c6",
   "metadata": {},
   "outputs": [],
   "source": []
  },
  {
   "cell_type": "code",
   "execution_count": null,
   "id": "e2b26844-9f62-4526-b2b7-68a0be9a7290",
   "metadata": {},
   "outputs": [],
   "source": []
  },
  {
   "cell_type": "code",
   "execution_count": 26,
   "id": "62969c2f-96af-4cf0-8d17-63928beb8aa9",
   "metadata": {
    "tags": []
   },
   "outputs": [],
   "source": [
    "#QUESTION 18"
   ]
  },
  {
   "cell_type": "code",
   "execution_count": 27,
   "id": "b407f10e-5dba-44ba-a8b8-aa4b088ac288",
   "metadata": {
    "tags": []
   },
   "outputs": [],
   "source": [
    "#EXPLAIN HOW ABSTRACTION ENHANCES CODE REUSABILITY AND MODULARITY IN PYTHON PROGRAMS"
   ]
  },
  {
   "cell_type": "code",
   "execution_count": null,
   "id": "9eb74972-9a80-49ed-aa0d-05750e91ef77",
   "metadata": {},
   "outputs": [],
   "source": [
    "\"\"\"Abstraction enhances code reusability and modularity in Python programs by promoting a modular design approach\n",
    "   and facilitating code reuse.\n",
    "\n",
    "   When we use abstraction, we create abstract base classes that define common behaviors and interfaces. These\n",
    "   abstract base classes serve as blueprints for derived classes, which inherit from the base class and provide\n",
    "   their own specific implementations.\n",
    "\n",
    "   By defining abstract methods and properties in the base class, we establish a contract that derived classes\n",
    "   must adhere to. This contract ensures that the derived classes have a consistent interface and behavior,\n",
    "   making it easier to reuse and interchange components within our codebase.\n",
    "\n",
    "   Code reusability is improved because we can create derived classes that inherit from the abstract base class\n",
    "   and automatically gain access to its common methods and properties. This allows us to reuse code without\n",
    "   having to rewrite it for each derived class. For example, if we have an abstract base class called \"Vehicle\"\n",
    "   with a method called \"start\", we can have multiple derived classes like \"Car\" and \"Motorcycle\" that inherit\n",
    "   the \"start\" method. This promotes code reuse and reduces duplication.\n",
    "\n",
    "   Modularity is enhanced because abstraction allows us to break down complex functionalities into smaller, more \n",
    "   manageable components. Each component can be represented by a separate class, making the codebase easier to \n",
    "   understand, maintain, and update. We can create independent modules for different aspects of our program, \n",
    "   which can be developed, tested, and updated separately. This promotes a modular design approach, where each \n",
    "   module has its own specific responsibilities and can be easily replaced or modified without affecting the \n",
    "   entire system.\n",
    "\n",
    "   In summary, abstraction enhances code reusability and modularity in Python programs by providing a modular \n",
    "   design approach, facilitating code reuse, and promoting the creation of independent and interchangeable\n",
    "   components."
   ]
  },
  {
   "cell_type": "code",
   "execution_count": null,
   "id": "30b6bd33-8d43-4d53-bdab-ba6f5636d2ff",
   "metadata": {},
   "outputs": [],
   "source": []
  },
  {
   "cell_type": "code",
   "execution_count": null,
   "id": "c21a19b9-bbf8-4712-bc3f-3660c240bc75",
   "metadata": {},
   "outputs": [],
   "source": []
  },
  {
   "cell_type": "code",
   "execution_count": 28,
   "id": "9c3f9162-5497-4ee6-8786-1760b01b83c5",
   "metadata": {
    "tags": []
   },
   "outputs": [],
   "source": [
    "#QUESTION 19"
   ]
  },
  {
   "cell_type": "code",
   "execution_count": 29,
   "id": "0e76d1dd-9927-4392-aa3e-0748a1fe9534",
   "metadata": {
    "tags": []
   },
   "outputs": [],
   "source": [
    "#CREATE A PYTHON CLASS FOR A LIBRARY SYSTEM, IMPLEMENTING ABSTRACTION BY DEFINING COMMON METHODS IN AN ABSTRACT BASE CLASS"
   ]
  },
  {
   "cell_type": "code",
   "execution_count": 1,
   "id": "e9b27578-89c7-4ccc-a39f-8c7b46c4eaf6",
   "metadata": {},
   "outputs": [
    {
     "name": "stdout",
     "output_type": "stream",
     "text": [
      "Book added to the library!\n",
      "Book borrowed from the library!\n"
     ]
    }
   ],
   "source": [
    "from abc import ABC, abstractmethod\n",
    "\n",
    "class LibrarySystem(ABC):\n",
    "    @abstractmethod\n",
    "    def add_book(self, book):\n",
    "        pass\n",
    "    \n",
    "    @abstractmethod\n",
    "    def borrow_book(self, book):\n",
    "        pass\n",
    "\n",
    "class MyLibrary(LibrarySystem):\n",
    "    def add_book(self, book):\n",
    "        print(\"Book added to the library!\")\n",
    "\n",
    "    def borrow_book(self, book):\n",
    "        print(\"Book borrowed from the library!\")\n",
    "my_library = MyLibrary()\n",
    "\n",
    "my_library.add_book(\"Harry Potter\")\n",
    "my_library.borrow_book(\"Harry Potter\")"
   ]
  },
  {
   "cell_type": "code",
   "execution_count": null,
   "id": "efa19391-4a21-4081-900b-8ba4af5e5e34",
   "metadata": {},
   "outputs": [],
   "source": []
  },
  {
   "cell_type": "code",
   "execution_count": null,
   "id": "37dee4ae-9098-477b-9282-13cedc1fd263",
   "metadata": {},
   "outputs": [],
   "source": []
  },
  {
   "cell_type": "code",
   "execution_count": 30,
   "id": "993af8de-428e-4789-98d7-fe7bc552e84f",
   "metadata": {
    "tags": []
   },
   "outputs": [],
   "source": [
    "#QUESTION 20"
   ]
  },
  {
   "cell_type": "code",
   "execution_count": 31,
   "id": "8efb21b5-1b6f-4fc2-9c83-af4a0da6263d",
   "metadata": {
    "tags": []
   },
   "outputs": [],
   "source": [
    "#DESCRIBE THE CONCEPT OF METHOD ABSTRACTION IN PYTHON AND HOW IT RELATES TO POLYMORPHISM."
   ]
  },
  {
   "cell_type": "code",
   "execution_count": null,
   "id": "856e3be4-6d68-4e9e-b483-6e3792fae58a",
   "metadata": {},
   "outputs": [],
   "source": [
    "\"\"\"Method abstraction in Python refers to the practice of defining common methods in an abstract base class that \n",
    "   can be inherited and implemented by its derived classes.\n",
    "\n",
    "   Abstraction allows you to define a common interface or behavior that can be shared among multiple classes. By\n",
    "   defining abstract methods in a base class, you can establish a contract that all derived classes must adhere \n",
    "   to. These abstract methods serve as placeholders, indicating that the derived classes must provide their own\n",
    "   implementation.\n",
    "\n",
    "   Polymorphism, on the other hand, is the ability of objects of different classes to respond to the same method\n",
    "   invocation. It allows you to treat objects of different classes as if they were of the same type when they\n",
    "   share a common interface or base class.\n",
    "\n",
    "   Method abstraction and polymorphism are closely related because method abstraction sets the foundation for \n",
    "   polymorphic behavior. By defining abstract methods in a base class, you establish a common interface that\n",
    "   derived classes must implement. This enables polymorphism, as objects of different derived classes can be \n",
    "   treated as if they were objects of the base class, allowing for interchangeable usage.\n",
    "\n",
    "   For example, let's say we have an abstract base class called \"Vehicle\" with an abstract method called \"start\".\n",
    "   We can then have derived classes like \"Car\" and \"Motorcycle\" that inherit from the \"Vehicle\" class and provide \n",
    "   their own implementation of the \"start\" method. Even though the \"start\" method is defined in the abstract base \n",
    "   class, we can invoke it on objects of the derived classes, treating them as if they were of the same type.\n",
    "\n",
    "   In summary, method abstraction in Python involves defining common methods in an abstract base class, while \n",
    "   polymorphism allows objects of different classes to respond to the same method invocation. Method abstraction\n",
    "   sets the stage for polymorphism by establishing a common interface that derived classes must adhere to."
   ]
  },
  {
   "cell_type": "code",
   "execution_count": null,
   "id": "cfc8216e-1c8d-4e8f-a24c-cb61d7182226",
   "metadata": {},
   "outputs": [],
   "source": []
  },
  {
   "cell_type": "code",
   "execution_count": null,
   "id": "fb2d931f-47b6-4319-9e2d-23c3ea76dd9d",
   "metadata": {},
   "outputs": [],
   "source": []
  },
  {
   "cell_type": "code",
   "execution_count": 32,
   "id": "20bccc96-fae3-489c-a15b-e7a6a4eead4a",
   "metadata": {
    "tags": []
   },
   "outputs": [],
   "source": [
    "#COMPOSITION:"
   ]
  },
  {
   "cell_type": "code",
   "execution_count": 33,
   "id": "e6053c3d-f426-4e67-af0e-4588e2d192bd",
   "metadata": {
    "tags": []
   },
   "outputs": [],
   "source": [
    "#QUESTION 1 "
   ]
  },
  {
   "cell_type": "code",
   "execution_count": 34,
   "id": "1759bf3b-a5bf-4fb1-be0b-57f674c3986f",
   "metadata": {
    "tags": []
   },
   "outputs": [],
   "source": [
    "#EXPLAIN THE CONCEPT OF COMPOSITION IN PYTHON AND HOW IT IS USED TO BUILD COMPLEX OBJECTS FROM SIMPLER ONCES."
   ]
  },
  {
   "cell_type": "code",
   "execution_count": null,
   "id": "7192d5e5-05dd-4503-ac40-9d9cea72ad99",
   "metadata": {},
   "outputs": [],
   "source": [
    "\"\"\"Composition is a concept in object-oriented programming that allows you to build complex objects. it is a way\n",
    "   to create relationships between classes where one class contains another class as a component or attribute.\n",
    "   \n",
    "   in python, composition is achieved by creating an instance of one class within another class and using it as a \n",
    "   part of the larger object this allows you to reuse existing classes and buld more more complex functionality by\n",
    "   combining them.\n",
    "   "
   ]
  },
  {
   "cell_type": "code",
   "execution_count": null,
   "id": "540e95d8-ea7a-453b-aec6-fa39c67a72d7",
   "metadata": {},
   "outputs": [],
   "source": []
  },
  {
   "cell_type": "code",
   "execution_count": null,
   "id": "ed05b0db-30b0-4c5a-bc70-19a2088cd991",
   "metadata": {},
   "outputs": [],
   "source": []
  },
  {
   "cell_type": "code",
   "execution_count": 35,
   "id": "af1f087a-1f80-48b3-9e70-e9b6fc1ffc8e",
   "metadata": {
    "tags": []
   },
   "outputs": [],
   "source": [
    "#QUESTION 2"
   ]
  },
  {
   "cell_type": "code",
   "execution_count": 36,
   "id": "660fa4e1-62a8-4175-8f04-049c2d7d5f6d",
   "metadata": {
    "tags": []
   },
   "outputs": [],
   "source": [
    "#DESCRIBE THE DIFFERNCE BETWEEN COMPOSITION AND INHERITANCE IN OBJECT-ORIENTED PROGRAMMING."
   ]
  },
  {
   "cell_type": "code",
   "execution_count": null,
   "id": "03cf3017-91fc-405b-9b01-f613e349fc44",
   "metadata": {},
   "outputs": [],
   "source": [
    "\"\"\"Composition is a \"has-a\" relationship, where one class contain another class as a component or attributes. it \n",
    "   allows you to build complex objects by combining simpler objects. with by combining simpler objects. with \n",
    "   composition, the composed class can access and use the functionality of the component class, but it does not \n",
    "   inherits the complement class, but it does not inherit the complement class's behavior or become a subtype of\n",
    "   it.\n",
    "   \n",
    "   on the other hand, inheritance is an \"is-a\" relationship, where one class inherits properties and behaviour \n",
    "   from another class. it allows you to create a hierarchy of classes, with subclasses inheriting characteristics\n",
    "   from their parent class. inheritance prometes code reuses and allow for specialization and extention of \n",
    "   existing classes.\n",
    "   \n",
    "   here are some key differences between composition and inheritance:\n",
    "   1. Relationship type\n",
    "   2. code reuse\n",
    "   3. flexibility\n",
    "   4. dependency\n",
    "   "
   ]
  },
  {
   "cell_type": "code",
   "execution_count": null,
   "id": "e7098bce-d069-4ee6-b899-3b62a3cdd64a",
   "metadata": {},
   "outputs": [],
   "source": []
  },
  {
   "cell_type": "code",
   "execution_count": null,
   "id": "556ad0ec-b057-43ba-944f-cd0e76ab0db3",
   "metadata": {},
   "outputs": [],
   "source": []
  },
  {
   "cell_type": "code",
   "execution_count": 37,
   "id": "76f31bee-6c91-49d8-88fe-fb75200c8b19",
   "metadata": {
    "tags": []
   },
   "outputs": [],
   "source": [
    "#QUESTION 3"
   ]
  },
  {
   "cell_type": "code",
   "execution_count": 38,
   "id": "0f492fef-ddbd-486e-9d4c-c552ae193913",
   "metadata": {
    "tags": []
   },
   "outputs": [],
   "source": [
    "#CREATE A PYTHON CLASS CALLED `AUTHOR` WITH ATTRIBUTES FOR BIRTHDATE. THEN, CREATE A BOOK CLASS THAT CONTAINS AN INSTANCE OF `AUTHOR` AS A COMPOSITION PROVIDE AN EXAMPLE OF CREATING A BOOK OBJECT"
   ]
  },
  {
   "cell_type": "code",
   "execution_count": 4,
   "id": "a6210868-a026-443b-9576-e355f488b2de",
   "metadata": {},
   "outputs": [],
   "source": [
    "class Author:\n",
    "    def __init__(self, name, birthdate):\n",
    "        self.name= name \n",
    "        self.birthdate = birthdate\n",
    "class Book:\n",
    "    def __init__(self,title,author):\n",
    "        self.title = title\n",
    "        self.author= author\n",
    "        \n",
    "author = Author(\"John Doe\",\"January 1,1980\")\n",
    "book = Book(\"The Great Adventure\",author)"
   ]
  },
  {
   "cell_type": "code",
   "execution_count": null,
   "id": "7d538712-1328-4125-a534-94b4c7d4f342",
   "metadata": {},
   "outputs": [],
   "source": []
  },
  {
   "cell_type": "code",
   "execution_count": null,
   "id": "73efbdc3-2535-4c91-a6a6-58d8d777dbef",
   "metadata": {},
   "outputs": [],
   "source": []
  },
  {
   "cell_type": "code",
   "execution_count": 40,
   "id": "10230767-48d5-4285-9836-b66b381ad5c7",
   "metadata": {
    "tags": []
   },
   "outputs": [],
   "source": [
    "#QUESTION 4"
   ]
  },
  {
   "cell_type": "code",
   "execution_count": 42,
   "id": "2cc4186e-df75-4c17-958e-46e49e9de6c6",
   "metadata": {
    "tags": []
   },
   "outputs": [],
   "source": [
    "#DISCUSS THE BENIFITS OF USING COMPOSITION OVER INHERITENCE IN PYTHON, ESPACIALLY IN TERM OF CODE FLEXIBILITY AND REUSABILITY"
   ]
  },
  {
   "cell_type": "code",
   "execution_count": null,
   "id": "7bb2c581-3d62-48b2-94e9-f317bdcd56fe",
   "metadata": {},
   "outputs": [],
   "source": [
    "\"\"\"Using composition over inheritance in Python offers several benefits in terms of code flexibility and \n",
    "   reusability. Here are a few advantages:\n",
    "\n",
    "1. Flexibility: Composition allows for more flexibility in designing and modifying the structure of your code.\n",
    "   With composition, you can easily change the behavior of a class by swapping out its components, or adding and \n",
    "   removing components as needed. This gives you more control over the functionality of your code and makes it\n",
    "   easier to adapt to changing requirements.\n",
    "\n",
    "2. Code Reusability: Composition promotes code reuse by allowing you to create reusable components and assemble\n",
    "   them into different classes. Instead of inheriting all the attributes and methods of a parent class, you can \n",
    "   selectively choose which components to include in each class. This modular approach makes it easier to reuse \n",
    "   and share code across different projects.\n",
    "\n",
    "3. Loose Coupling: Composition helps to achieve loose coupling between classes. By composing classes with \n",
    "   independent components, you can reduce the dependencies between different parts of your code. This makes your\n",
    "   code more maintainable, as changes in one component won't affect other components that don't rely on it.\n",
    "\n",
    "4. Single Responsibility Principle: Composition encourages adherence to the Single Responsibility Principle,\n",
    "   which states that a class should have only one reason to change. By breaking down functionality into separate\n",
    "   components, each class can focus on a specific responsibility. This makes the codebase more organized, easier \n",
    "   to understand, and less prone to bugs.\n"
   ]
  },
  {
   "cell_type": "code",
   "execution_count": null,
   "id": "1b91e536-02c2-4ed6-93a9-3f6f2593fc6c",
   "metadata": {},
   "outputs": [],
   "source": []
  },
  {
   "cell_type": "code",
   "execution_count": null,
   "id": "52fdaff0-c494-4fe5-aa09-863ca9d706b3",
   "metadata": {},
   "outputs": [],
   "source": []
  },
  {
   "cell_type": "code",
   "execution_count": 43,
   "id": "6287d99e-8300-4b13-bbcc-715ec87ddc12",
   "metadata": {
    "tags": []
   },
   "outputs": [],
   "source": [
    "#QUESTION 5"
   ]
  },
  {
   "cell_type": "code",
   "execution_count": 44,
   "id": "2a85c12f-c0ed-4a9e-a012-92d94106c313",
   "metadata": {
    "tags": []
   },
   "outputs": [],
   "source": [
    "#HOW CAN YOU IMPLEMENT COMPOSITION IN PYTHON CLASSES? PROVIDE EXAMPLES OF USING COMPOSITION TO CREATE COMPLEX OBJECTS."
   ]
  },
  {
   "cell_type": "code",
   "execution_count": null,
   "id": "0caf8182-f40a-43ca-b5c6-0f141ec986be",
   "metadata": {},
   "outputs": [],
   "source": [
    "\"\"\"To implement composition in python classes, you can create instances of other classes as attributes within a \n",
    "   class "
   ]
  },
  {
   "cell_type": "code",
   "execution_count": 5,
   "id": "efd017a9-4f27-4cc4-ab39-5044e0b00831",
   "metadata": {},
   "outputs": [
    {
     "name": "stdout",
     "output_type": "stream",
     "text": [
      "Engine started\n",
      "Engine stopped\n"
     ]
    }
   ],
   "source": [
    "class Engine:\n",
    "    def start(self):\n",
    "        print(\"Engine started\")\n",
    "    def stop(self):\n",
    "        print(\"Engine stopped\")\n",
    "class Car:\n",
    "    def __init__(self,make,model,engine):\n",
    "        self.make=make\n",
    "        self.model=model\n",
    "        self.engine=engine\n",
    "    def start_engine(self):\n",
    "        self.engine.start()\n",
    "    def stop_engine(self):\n",
    "        self.engine.stop()\n",
    "engine= Engine()\n",
    "car = Car(\"Tesla\",\"Model s\",engine)\n",
    "car.start_engine()\n",
    "car.stop_engine()"
   ]
  },
  {
   "cell_type": "code",
   "execution_count": null,
   "id": "01f0a1b2-bd87-485f-8e1e-10298eb7f9be",
   "metadata": {},
   "outputs": [],
   "source": []
  },
  {
   "cell_type": "code",
   "execution_count": null,
   "id": "91113d34-0922-4c92-9746-492c082aa02f",
   "metadata": {},
   "outputs": [],
   "source": []
  },
  {
   "cell_type": "code",
   "execution_count": 45,
   "id": "ff55557f-d2fc-47ed-af4c-023559d9f7d9",
   "metadata": {
    "tags": []
   },
   "outputs": [],
   "source": [
    "#QUESTION 6"
   ]
  },
  {
   "cell_type": "code",
   "execution_count": 46,
   "id": "3138abdd-7a81-4e56-a3aa-1c027ee52f2e",
   "metadata": {
    "tags": []
   },
   "outputs": [],
   "source": [
    "#CREATE A PYTHON CLASS HIERARCHY FOR A MUSIC PLAYER SYSTEM, USING COMPOSITION TO REPRESENT PLAYLISTS AND SONGS"
   ]
  },
  {
   "cell_type": "code",
   "execution_count": 2,
   "id": "efa124eb-fd97-49af-97fa-6bc818b3d5c4",
   "metadata": {},
   "outputs": [
    {
     "name": "stdout",
     "output_type": "stream",
     "text": [
      "Your playlists:\n",
      "Playlist 1\n",
      "Playlist 2\n",
      "Songs in Playlist 1:\n",
      "- Song 1 by Artist 1\n"
     ]
    }
   ],
   "source": [
    "\n",
    "class Song:\n",
    "    def __init__(self, title, artist):\n",
    "        self.title = title\n",
    "        self.artist = artist\n",
    "\n",
    "class Playlist:\n",
    "    def __init__(self, name):\n",
    "        self.name = name\n",
    "        self.songs = []\n",
    "\n",
    "    def add_song(self, song):\n",
    "        self.songs.append(song)\n",
    "\n",
    "    def remove_song(self, song):\n",
    "        self.songs.remove(song)\n",
    "\n",
    "class MusicPlayer:\n",
    "    def __init__(self):\n",
    "        self.playlists = []\n",
    "\n",
    "    def add_playlist(self, playlist):\n",
    "        self.playlists.append(playlist)\n",
    "\n",
    "    def remove_playlist(self, playlist):\n",
    "        self.playlists.remove(playlist)\n",
    "\n",
    "    def display_playlists(self):\n",
    "        if len(self.playlists) == 0:\n",
    "            print(\"No playlists found.\")\n",
    "        else:\n",
    "            print(\"Your playlists:\")\n",
    "            for playlist in self.playlists:\n",
    "                print(playlist.name)\n",
    "\n",
    "    def display_songs_in_playlist(self, playlist_name):\n",
    "        for playlist in self.playlists:\n",
    "            if playlist.name == playlist_name:\n",
    "                if len(playlist.songs) == 0:\n",
    "                    print(\"No songs found in the playlist.\")\n",
    "                else:\n",
    "                    print(f\"Songs in {playlist_name}:\")\n",
    "                    for song in playlist.songs:\n",
    "                        print(f\"- {song.title} by {song.artist}\")\n",
    "                return\n",
    "        print(\"Playlist not found.\")\n",
    "        \n",
    "song1 = Song(\"Song 1\", \"Artist 1\")\n",
    "song2 = Song(\"Song 2\", \"Artist 2\")\n",
    "\n",
    "playlist1 = Playlist(\"Playlist 1\")\n",
    "playlist2 = Playlist(\"Playlist 2\")\n",
    "\n",
    "playlist1.add_song(song1)\n",
    "playlist2.add_song(song2)\n",
    "\n",
    "music_player = MusicPlayer()\n",
    "\n",
    "music_player.add_playlist(playlist1)\n",
    "music_player.add_playlist(playlist2)\n",
    "\n",
    "music_player.display_playlists()\n",
    "music_player.display_songs_in_playlist(\"Playlist 1\")"
   ]
  },
  {
   "cell_type": "code",
   "execution_count": null,
   "id": "935728d1-375e-433e-98f8-8e9fbe82330c",
   "metadata": {},
   "outputs": [],
   "source": []
  },
  {
   "cell_type": "code",
   "execution_count": null,
   "id": "3cfd558e-50bd-4980-8d1a-45961a2dd6b0",
   "metadata": {},
   "outputs": [],
   "source": []
  },
  {
   "cell_type": "code",
   "execution_count": 47,
   "id": "9a410aed-3c89-4d65-9703-327a2342d7cf",
   "metadata": {
    "tags": []
   },
   "outputs": [],
   "source": [
    "#QUESTION 7"
   ]
  },
  {
   "cell_type": "code",
   "execution_count": 48,
   "id": "6b2e2b7f-dcf7-4f35-adfa-8b466702c245",
   "metadata": {
    "tags": []
   },
   "outputs": [],
   "source": [
    "#EXPLAIN THE CONCEPT OF \"HAS-A\" RELATIONSHIPS IN COMPOSITION AND HOW IT HELPS DESIGN SOFTWRE SYSTEMS."
   ]
  },
  {
   "cell_type": "code",
   "execution_count": null,
   "id": "cd4428ab-c27d-4e68-9fde-eaa314916a84",
   "metadata": {},
   "outputs": [],
   "source": [
    "\"\"\"\"Has-a\" relationships in composition refer to the idea that an object can have other objects as its components\n",
    "    or parts. It signifies that an object contains or is composed of other objects to fulfill its functionality.\n",
    "\n",
    "    In software systems, \"has-a\" relationships help design software by promoting code reuse, modularity, and\n",
    "    flexibility. By breaking down complex functionalities into smaller, reusable components, you can create more\n",
    "    maintainable and extensible code.\n",
    "\n",
    "    For example, let's consider a vehicle system. A vehicle can be composed of various components such as an\n",
    "    engine, wheels, and a steering system. Each of these components can be represented by separate objects. The \n",
    "    vehicle object \"has-a\" relationship with these components, meaning it contains or is composed of them.\n",
    "\n",
    "    By using composition and \"has-a\" relationships, you can create a modular design where each component has its \n",
    "    own specific responsibilities. This allows for easier maintenance, as you can update or replace individual \n",
    "    components without affecting the entire system.\n",
    "\n",
    "    Additionally, \"has-a\" relationships facilitate code reuse. For instance, multiple vehicles can share the same\n",
    "    engine or steering system objects, reducing duplication and improving efficiency.\n",
    "\n",
    "    In summary, \"has-a\" relationships in composition help design software systems by promoting code reuse,\n",
    "    modularity, and flexibility. They allow for the creation of maintainable and extensible codebases by breaking\n",
    "    down complex functionalities into smaller, reusable components."
   ]
  },
  {
   "cell_type": "code",
   "execution_count": null,
   "id": "b08a3c31-8437-47fd-8310-e8c556ba545e",
   "metadata": {},
   "outputs": [],
   "source": []
  },
  {
   "cell_type": "code",
   "execution_count": null,
   "id": "42065e38-6da4-4498-84e4-ea08ff8017c9",
   "metadata": {},
   "outputs": [],
   "source": []
  },
  {
   "cell_type": "code",
   "execution_count": 49,
   "id": "6506214d-3cd5-4fd6-9f3a-60d98d8b213c",
   "metadata": {
    "tags": []
   },
   "outputs": [],
   "source": [
    "#QUESTION 8"
   ]
  },
  {
   "cell_type": "code",
   "execution_count": 50,
   "id": "227320b0-afff-4569-a9df-47e46838d98f",
   "metadata": {
    "tags": []
   },
   "outputs": [],
   "source": [
    "#CREATE A PYTHON CLASS FOR A COMPUTER SYSTEM, USING COMPOSITION TO REPRESENT COMPONENTS LIKE CPU,RAM,AND STORAGE DEVICES."
   ]
  },
  {
   "cell_type": "code",
   "execution_count": 4,
   "id": "b5fa5dbe-44f3-45a6-9814-89b7f3365ebc",
   "metadata": {},
   "outputs": [
    {
     "name": "stdout",
     "output_type": "stream",
     "text": [
      "Computer System:\n",
      "CPU: Intel Core i7 (3.6 GHz)\n",
      "RAM: 16 GB\n",
      "Storage: 512 GB\n"
     ]
    }
   ],
   "source": [
    "class CPU:\n",
    "    def __init__(self, model, speed):\n",
    "        self.model = model\n",
    "        self.speed = speed\n",
    "\n",
    "    def __str__(self):\n",
    "        return f\"CPU: {self.model} ({self.speed} GHz)\"\n",
    "\n",
    "class RAM:\n",
    "    def __init__(self, capacity):\n",
    "        self.capacity = capacity\n",
    "\n",
    "    def __str__(self):\n",
    "        return f\"RAM: {self.capacity} GB\"\n",
    "\n",
    "class Storage:\n",
    "    def __init__(self, capacity):\n",
    "        self.capacity = capacity\n",
    "\n",
    "    def __str__(self):\n",
    "        return f\"Storage: {self.capacity} GB\"\n",
    "\n",
    "class ComputerSystem:\n",
    "    def __init__(self, cpu, ram, storage):\n",
    "        self.cpu = cpu\n",
    "        self.ram = ram\n",
    "        self.storage = storage\n",
    "\n",
    "    def __str__(self):\n",
    "        return f\"Computer System:\\n{self.cpu}\\n{self.ram}\\n{self.storage}\"\n",
    "\n",
    "cpu = CPU(\"Intel Core i7\", 3.6)\n",
    "ram = RAM(16)\n",
    "storage = Storage(512)\n",
    "\n",
    "computer = ComputerSystem(cpu, ram, storage)\n",
    "\n",
    "print(computer)"
   ]
  },
  {
   "cell_type": "code",
   "execution_count": null,
   "id": "6ccf7d9b-1177-4703-8703-6facc19d4ef2",
   "metadata": {},
   "outputs": [],
   "source": []
  },
  {
   "cell_type": "code",
   "execution_count": null,
   "id": "bfae2ec9-1aa5-4204-998a-372df46c79a2",
   "metadata": {},
   "outputs": [],
   "source": []
  },
  {
   "cell_type": "code",
   "execution_count": 51,
   "id": "49dd8b2e-b49e-4081-a090-966d16b3ff8a",
   "metadata": {
    "tags": []
   },
   "outputs": [],
   "source": [
    "#QUESTION 9"
   ]
  },
  {
   "cell_type": "code",
   "execution_count": 52,
   "id": "b5451d6c-7b9f-4a5a-84cc-1d020a3114bd",
   "metadata": {
    "tags": []
   },
   "outputs": [],
   "source": [
    "#DESCRIBE THE CONCEPT OF \"DELEGATION\" IN COMPOSITION AND HOW IT SIMPLIFIES THE DESIGN OF COMPLEX SYSTEMS."
   ]
  },
  {
   "cell_type": "code",
   "execution_count": null,
   "id": "cec69659-7c82-4499-8543-0104a0a61c13",
   "metadata": {},
   "outputs": [],
   "source": [
    "\"\"\"In the context of composition, \"delegation\" refers to the process of one object (the delegating object) passing\n",
    "   on a responsibility or task to another object (the delegate object) to perform.\n",
    "\n",
    "   By delegating tasks, the delegating object can simplify its own design and focus on its core responsibilities,\n",
    "   while relying on the delegate object to handle specific tasks or functionality. This promotes a modular and \n",
    "   flexible design approach, allowing for better separation of concerns.\n",
    "\n",
    "   Delegation simplifies the design of complex systems by breaking them down into smaller, more manageable\n",
    "   components. Each component can be responsible for a specific task, making the overall system easier to \n",
    "   understand, maintain, and extend.\n",
    "\n",
    "   Furthermore, delegation enables code reuse, as the delegate objects can be shared among different delegating \n",
    "   objects. This reduces duplication and promotes a more efficient and modular codebase.\n",
    "\n",
    "   Overall, delegation in composition helps simplify the design of complex systems by dividing responsibilities\n",
    "   and promoting code reuse. It allows for a more modular, maintainable, and extensible codebase."
   ]
  },
  {
   "cell_type": "code",
   "execution_count": null,
   "id": "0e62d715-892d-4926-834f-f7768a538420",
   "metadata": {},
   "outputs": [],
   "source": []
  },
  {
   "cell_type": "code",
   "execution_count": null,
   "id": "af837f2b-ed55-4d6f-9e1c-f8f016d96b05",
   "metadata": {},
   "outputs": [],
   "source": []
  },
  {
   "cell_type": "code",
   "execution_count": 53,
   "id": "1f7c0d95-f4ea-4406-96f5-b6dd926069b3",
   "metadata": {
    "tags": []
   },
   "outputs": [],
   "source": [
    "#QUESTION 10"
   ]
  },
  {
   "cell_type": "code",
   "execution_count": 54,
   "id": "a828c8d5-38e7-4cfe-9480-b4403ba427d0",
   "metadata": {
    "tags": []
   },
   "outputs": [],
   "source": [
    "#CREATE A PYTHON CLASS FOR A CAR, USING COMPOSITION TO REPRESENT COMPONENTS LIKE THE ENGINE, WHEELS AND TRANSMISSION."
   ]
  },
  {
   "cell_type": "code",
   "execution_count": 6,
   "id": "a310bea5-0e7f-40e9-81e8-14e370121ca6",
   "metadata": {},
   "outputs": [
    {
     "name": "stdout",
     "output_type": "stream",
     "text": [
      "Engine started.\n",
      "Wheels rotating.\n",
      "Transmission shifted to 2nd gear.\n",
      "Engine stopped.\n",
      "Wheels stopped.\n"
     ]
    }
   ],
   "source": [
    "class Engine:\n",
    "    def start(self):\n",
    "        print(\"Engine started.\")\n",
    "\n",
    "    def stop(self):\n",
    "        print(\"Engine stopped.\")\n",
    "\n",
    "class Wheels:\n",
    "    def rotate(self):\n",
    "        print(\"Wheels rotating.\")\n",
    "\n",
    "    def stop(self):\n",
    "        print(\"Wheels stopped.\")\n",
    "\n",
    "class Transmission:\n",
    "    def shift_gear(self, gear):\n",
    "        print(f\"Transmission shifted to {gear} gear.\")\n",
    "\n",
    "class Car:\n",
    "    def __init__(self, engine, wheels, transmission):\n",
    "        self.engine = engine\n",
    "        self.wheels = wheels\n",
    "        self.transmission = transmission\n",
    "\n",
    "    def start(self):\n",
    "        self.engine.start()\n",
    "        self.wheels.rotate()\n",
    "\n",
    "    def stop(self):\n",
    "        self.engine.stop()\n",
    "        self.wheels.stop()\n",
    "\n",
    "    def shift_gear(self, gear):\n",
    "        self.transmission.shift_gear(gear)\n",
    "\n",
    "engine = Engine()\n",
    "wheels = Wheels()\n",
    "transmission = Transmission()\n",
    "\n",
    "car = Car(engine, wheels, transmission)\n",
    "\n",
    "car.start()\n",
    "\n",
    "car.shift_gear(\"2nd\")\n",
    "\n",
    "car.stop()"
   ]
  },
  {
   "cell_type": "code",
   "execution_count": null,
   "id": "ca2d1c22-5830-4f8d-b105-e3d8050216b0",
   "metadata": {},
   "outputs": [],
   "source": []
  },
  {
   "cell_type": "code",
   "execution_count": null,
   "id": "94b5807d-db22-4d9e-b72a-e7aa84d2227a",
   "metadata": {},
   "outputs": [],
   "source": []
  },
  {
   "cell_type": "code",
   "execution_count": 55,
   "id": "52e37870-24ea-457d-a6f6-3d4c5b6e636e",
   "metadata": {
    "tags": []
   },
   "outputs": [],
   "source": [
    "#QUESTION 11"
   ]
  },
  {
   "cell_type": "code",
   "execution_count": 56,
   "id": "d69ca48a-d027-4fdf-a0b5-bffe28c1cca3",
   "metadata": {
    "tags": []
   },
   "outputs": [],
   "source": [
    "#HOW CAN YOU ENCAPSULATE AND HIDE THE DETAILS OF COMPOSED OBJECTS IN PYTHON CLASSES TO MAINTAIN ABSTRACTION"
   ]
  },
  {
   "cell_type": "code",
   "execution_count": null,
   "id": "569ecb99-7257-405c-9fee-ddedc9f88bdb",
   "metadata": {},
   "outputs": [],
   "source": [
    "\"\"\"To encapsulate and hide the details of composed objects in Python classes, you can use access modifiers like \n",
    "   private variables or methods. By marking certain attributes or methods as private, you restrict direct access\n",
    "   to them from outside the class.\n",
    "\n",
    "   In Python, you can indicate a private attribute or method by prefixing it with a double underscore, like\n",
    "   \"_attribute\" or \"_method()\". This convention signals that the attribute or method should not be accessed\n",
    "   directly.\n",
    "\n",
    "   By encapsulating the details of composed objects and marking them as private, you maintain abstraction. Other \n",
    "   parts of the code can interact with the composed objects through public methods defined in the class, without\n",
    "   needing to know the underlying implementation details.\n",
    "\n",
    "   This approach allows you to change the internal structure of the composed objects without affecting the code \n",
    "   that uses them, as long as the public interface remains the same. This helps maintain abstraction and protects \n",
    "   the code from unnecessary dependencies."
   ]
  },
  {
   "cell_type": "code",
   "execution_count": null,
   "id": "942dfaa9-1509-4f23-a288-a241a0cf9de0",
   "metadata": {},
   "outputs": [],
   "source": []
  },
  {
   "cell_type": "code",
   "execution_count": null,
   "id": "dc7fb780-9595-4163-95fb-51530e2f950c",
   "metadata": {},
   "outputs": [],
   "source": []
  },
  {
   "cell_type": "code",
   "execution_count": 57,
   "id": "5b92bdce-4d03-4ad0-9042-31229821ce0a",
   "metadata": {
    "tags": []
   },
   "outputs": [],
   "source": [
    "#QUESTION 12"
   ]
  },
  {
   "cell_type": "code",
   "execution_count": 58,
   "id": "c1e597a4-11d8-41da-a3bd-2f945952a4c4",
   "metadata": {
    "tags": []
   },
   "outputs": [],
   "source": [
    "#CREATE A PYTHON CLASS FOR A UNIVERSAL COURSE, USING COMPOSITION TO REPRESENT STUDENTS, INSTRUCTORS AND COURSE MATERIAL."
   ]
  },
  {
   "cell_type": "code",
   "execution_count": 8,
   "id": "57b0244b-1184-42fe-9d9c-79991c819810",
   "metadata": {},
   "outputs": [
    {
     "name": "stdout",
     "output_type": "stream",
     "text": [
      "Course: Introduction to Python\n",
      "Instructor: Dr. Johnson\n",
      "Students:\n",
      "- John Doe\n",
      "- Jane Smith\n",
      "Course Materials:\n",
      "- Textbook\n",
      "- Lecture Slides\n"
     ]
    }
   ],
   "source": [
    "class Student:\n",
    "    def __init__(self, name, student_id):\n",
    "        self.name = name\n",
    "        self.student_id = student_id\n",
    "\n",
    "class Instructor:\n",
    "    def __init__(self, name, instructor_id):\n",
    "        self.name = name\n",
    "        self.instructor_id = instructor_id\n",
    "\n",
    "class CourseMaterial:\n",
    "    def __init__(self, material_name):\n",
    "        self.material_name = material_name\n",
    "\n",
    "class UniversityCourse:\n",
    "    def __init__(self, course_name, instructor, students, course_materials):\n",
    "        self.course_name = course_name\n",
    "        self.instructor = instructor\n",
    "        self.students = students\n",
    "        self.course_materials = course_materials\n",
    "\n",
    "    def get_course_info(self):\n",
    "        print(f\"Course: {self.course_name}\")\n",
    "        print(f\"Instructor: {self.instructor.name}\")\n",
    "        print(\"Students:\")\n",
    "        for student in self.students:\n",
    "            print(f\"- {student.name}\")\n",
    "        print(\"Course Materials:\")\n",
    "        for material in self.course_materials:\n",
    "            print(f\"- {material.material_name}\")\n",
    "student1 = Student(\"John Doe\", \"S001\")\n",
    "student2 = Student(\"Jane Smith\", \"S002\")\n",
    "instructor = Instructor(\"Dr. Johnson\", \"I001\")\n",
    "material1 = CourseMaterial(\"Textbook\")\n",
    "material2 = CourseMaterial(\"Lecture Slides\")\n",
    "course = UniversityCourse(\"Introduction to Python\", instructor, [student1, student2], [material1, material2])\n",
    "course.get_course_info()"
   ]
  },
  {
   "cell_type": "code",
   "execution_count": null,
   "id": "f2994bda-f3a9-4dc1-9f46-6e6dd36b3d02",
   "metadata": {},
   "outputs": [],
   "source": []
  },
  {
   "cell_type": "code",
   "execution_count": null,
   "id": "4868e8d6-d45f-4c79-828c-ae9a14baf848",
   "metadata": {},
   "outputs": [],
   "source": []
  },
  {
   "cell_type": "code",
   "execution_count": 59,
   "id": "084af091-f483-4c79-a1a5-207c3a049830",
   "metadata": {
    "tags": []
   },
   "outputs": [],
   "source": [
    "#QUESTION 13"
   ]
  },
  {
   "cell_type": "code",
   "execution_count": 1,
   "id": "1ce9705f-b72d-4400-b0ed-866950601c1f",
   "metadata": {},
   "outputs": [],
   "source": [
    "#DISCUSS THE CHALLENGES AND DRAWBACKS OF COMP0SITION, SUCH AS INCREASED COMPLEXITY AND POTENTIAL FOR TIGHT COUPLING BETWEEN OBJECTS."
   ]
  },
  {
   "cell_type": "code",
   "execution_count": null,
   "id": "ccd11a96-f638-41fe-9867-bcc540662506",
   "metadata": {},
   "outputs": [],
   "source": [
    "\"\"\"Composition indeed has its challenges and drawbacks. One of the main challenges is the potential for increased\n",
    "   complexity. When objects are composed together, it can become more difficult to understand and manage the \n",
    "   relationships between them.\n",
    "\n",
    "   Another drawback is the potential for tight coupling between objects. Tight coupling means that the objects\n",
    "   are highly dependent on each other, and any changes in one object may have a cascading effect on other\n",
    "   objects. This can make the code more fragile and harder to maintain.\n",
    "\n",
    "   To mitigate these challenges, it's important to carefully design the composition relationships and ensure \n",
    "   that they are well-defined and loosely coupled. This can be achieved by using interfaces or abstract classes\n",
    "   to define common behaviors and dependencies, allowing for flexibility and easier future modifications.\n",
    "\n",
    "   Additionally, proper documentation and clear communication among team members can help in understanding and\n",
    "   managing the complexity introduced by composition."
   ]
  },
  {
   "cell_type": "code",
   "execution_count": null,
   "id": "35133895-3411-4473-b523-4ce671f28528",
   "metadata": {},
   "outputs": [],
   "source": []
  },
  {
   "cell_type": "code",
   "execution_count": null,
   "id": "4303c5af-5821-486a-907e-35def09755c6",
   "metadata": {},
   "outputs": [],
   "source": []
  },
  {
   "cell_type": "code",
   "execution_count": 2,
   "id": "c67c1e69-f4b6-44d0-8eb2-dd1bb255ff46",
   "metadata": {
    "tags": []
   },
   "outputs": [],
   "source": [
    "#QUESTION 14"
   ]
  },
  {
   "cell_type": "code",
   "execution_count": 3,
   "id": "b9fd59bd-44c2-4d4e-a9b5-343bf96c4959",
   "metadata": {
    "tags": []
   },
   "outputs": [],
   "source": [
    "#CREATE A PYTHON CLASS HIERARCHY FOR A RESTRAURANT SYSTEM, USING COMPOSITION TO REPRESENT MENUS, DISHES, AND INGREDENTS."
   ]
  },
  {
   "cell_type": "code",
   "execution_count": 10,
   "id": "7b352120-f3fc-453b-b8f2-f45cd8316289",
   "metadata": {
    "tags": []
   },
   "outputs": [
    {
     "name": "stdout",
     "output_type": "stream",
     "text": [
      "Welcome to Delicious Eats!\n",
      "Here are the available menus:\n",
      "The Lunch Menu menu includes the following dishes:\n",
      "- Margherita Pizza\n",
      "- Grilled Cheese Sandwich\n"
     ]
    }
   ],
   "source": [
    "class Ingredient:\n",
    "    def __init__(self, name, quantity):\n",
    "        self.name = name\n",
    "        self.quantity = quantity\n",
    "\n",
    "class Dish:\n",
    "    def __init__(self, name, ingredients):\n",
    "        self.name = name\n",
    "        self.ingredients = ingredients\n",
    "\n",
    "    def display_ingredients(self):\n",
    "        print(f\"The {self.name} dish contains the following ingredients:\")\n",
    "        for ingredient in self.ingredients:\n",
    "            print(f\"- {ingredient.name}: {ingredient.quantity}\")\n",
    "\n",
    "class Menu:\n",
    "    def __init__(self, name, dishes):\n",
    "        self.name = name\n",
    "        self.dishes = dishes\n",
    "\n",
    "    def display_menu(self):\n",
    "        print(f\"The {self.name} menu includes the following dishes:\")\n",
    "        for dish in self.dishes:\n",
    "            print(f\"- {dish.name}\")\n",
    "\n",
    "class Restaurant:\n",
    "    def __init__(self, name, menus):\n",
    "        self.name = name\n",
    "        self.menus = menus\n",
    "\n",
    "    def display_restaurant(self):\n",
    "        print(f\"Welcome to {self.name}!\")\n",
    "        print(\"Here are the available menus:\")\n",
    "        for menu in self.menus:\n",
    "            menu.display_menu()\n",
    "\n",
    "ingredient1 = Ingredient(\"Tomato\", 2)\n",
    "ingredient2 = Ingredient(\"Cheese\", 200)\n",
    "ingredient3 = Ingredient(\"Bread\", 4)\n",
    "\n",
    "dish1 = Dish(\"Margherita Pizza\", [ingredient1, ingredient2])\n",
    "dish2 = Dish(\"Grilled Cheese Sandwich\", [ingredient2, ingredient3])\n",
    "\n",
    "menu1 = Menu(\"Lunch Menu\", [dish1, dish2])\n",
    "restaurant = Restaurant(\"Delicious Eats\", [menu1])\n",
    "restaurant.display_restaurant()\n"
   ]
  },
  {
   "cell_type": "code",
   "execution_count": null,
   "id": "896fd39c-698b-4d3a-8d55-06b037ab16a7",
   "metadata": {},
   "outputs": [],
   "source": []
  },
  {
   "cell_type": "code",
   "execution_count": null,
   "id": "90176cef-3dbd-43ae-abe1-8d621ee6b6f2",
   "metadata": {},
   "outputs": [],
   "source": []
  },
  {
   "cell_type": "code",
   "execution_count": 4,
   "id": "25883db8-e3a5-4bf1-a15a-6045c66224e5",
   "metadata": {
    "tags": []
   },
   "outputs": [],
   "source": [
    "#QUESTION 15"
   ]
  },
  {
   "cell_type": "code",
   "execution_count": 5,
   "id": "737d7046-f147-4da1-bb5f-cc446ada98fa",
   "metadata": {
    "tags": []
   },
   "outputs": [],
   "source": [
    "#EXPLAIN HOW COMPLETION ENHANCE CODE MAINTAINABILITY AND MODULARITY IN PYTHON PROGRAMS."
   ]
  },
  {
   "cell_type": "code",
   "execution_count": null,
   "id": "8a6daeff-7cfc-48f0-9ff6-815af52fb673",
   "metadata": {},
   "outputs": [],
   "source": [
    "\"\"\"Composition enhances code maintainability and modularity in Python programs by promoting a modular and flexible\n",
    "   design approach. \n",
    "\n",
    "   By breaking down complex functionalities into smaller, reusable components, composition allows for easier\n",
    "   maintenance and updates. Each component can be developed and tested independently, making it simpler to locate  \n",
    "   and fix bugs or add new features without affecting the entire codebase.\n",
    "\n",
    "   Additionally, composition promotes code reusability, as components can be easily reused in different parts of\n",
    "   the program or in other projects. This reduces duplication and improves overall code efficiency.\n",
    "\n",
    "   Overall, composition helps in creating cleaner, more organized code that is easier to understand, maintain,\n",
    "   and extend. It allows for better separation of concerns, making the codebase more manageable and adaptable to\n",
    "   change"
   ]
  },
  {
   "cell_type": "code",
   "execution_count": null,
   "id": "3a7d08ff-3a6c-4337-80b4-73fa4880ecba",
   "metadata": {},
   "outputs": [],
   "source": []
  },
  {
   "cell_type": "code",
   "execution_count": null,
   "id": "67e1d438-3d0e-4426-a9b4-793e615393de",
   "metadata": {},
   "outputs": [],
   "source": []
  },
  {
   "cell_type": "code",
   "execution_count": 6,
   "id": "96e9ef2b-7deb-4891-8b97-290301518560",
   "metadata": {
    "tags": []
   },
   "outputs": [],
   "source": [
    "#QUESTION 16"
   ]
  },
  {
   "cell_type": "code",
   "execution_count": 7,
   "id": "0ffd6242-c483-4258-bfa1-5abdbe620aef",
   "metadata": {
    "tags": []
   },
   "outputs": [],
   "source": [
    "#CREATE A PYTHON CLASS FOR A COMPUTER GAME CHARACTER, USING COMPOSITION TO REPRESENT ATTRIBUTES LIKE WEAPONS, ARMOR AND INVENTORY."
   ]
  },
  {
   "cell_type": "code",
   "execution_count": 13,
   "id": "b5ee262c-6586-4822-9796-75c6e606f1ee",
   "metadata": {},
   "outputs": [
    {
     "name": "stdout",
     "output_type": "stream",
     "text": [
      "Hero attacks with Sword and deals 10 damage!\n",
      "Hero defends with Helmet and reduces incoming damage by 5 points!\n",
      "Hero's inventory:\n",
      "- Health Potion\n",
      "- Mana Potion\n",
      "- Key\n"
     ]
    }
   ],
   "source": [
    "class Weapon:\n",
    "    def __init__(self, name, damage):\n",
    "        self.name = name\n",
    "        self.damage = damage\n",
    "\n",
    "class Armor:\n",
    "    def __init__(self, name, defense):\n",
    "        self.name = name\n",
    "        self.defense = defense\n",
    "\n",
    "class Inventory:\n",
    "    def __init__(self, items):\n",
    "        self.items = items\n",
    "\n",
    "class Character:\n",
    "    def __init__(self, name, weapon, armor, inventory):\n",
    "        self.name = name\n",
    "        self.weapon = weapon\n",
    "        self.armor = armor\n",
    "        self.inventory = inventory\n",
    "\n",
    "    def attack(self):\n",
    "        print(f\"{self.name} attacks with {self.weapon.name} and deals {self.weapon.damage} damage!\")\n",
    "\n",
    "    def defend(self):\n",
    "        print(f\"{self.name} defends with {self.armor.name} and reduces incoming damage by {self.armor.defense} points!\")\n",
    "\n",
    "    def show_inventory(self):\n",
    "        print(f\"{self.name}'s inventory:\")\n",
    "        for item in self.inventory.items:\n",
    "            print(f\"- {item}\")\n",
    "\n",
    "sword = Weapon(\"Sword\", 10)\n",
    "bow = Weapon(\"Bow\", 8)\n",
    "helmet = Armor(\"Helmet\", 5)\n",
    "shield = Armor(\"Shield\", 7)\n",
    "items = [\"Health Potion\", \"Mana Potion\", \"Key\"]\n",
    "inventory = Inventory(items)\n",
    "player = Character(\"Hero\", sword, helmet, inventory)\n",
    "player.attack()\n",
    "player.defend()\n",
    "player.show_inventory()"
   ]
  },
  {
   "cell_type": "code",
   "execution_count": null,
   "id": "ae5fde4e-eace-49bf-b611-1616372f30e4",
   "metadata": {},
   "outputs": [],
   "source": []
  },
  {
   "cell_type": "code",
   "execution_count": null,
   "id": "dbf102a1-6351-4c13-b70a-fcb24701fc70",
   "metadata": {},
   "outputs": [],
   "source": []
  },
  {
   "cell_type": "code",
   "execution_count": 8,
   "id": "7d782529-ad87-418f-9c4b-47ca6ea0ef1b",
   "metadata": {
    "tags": []
   },
   "outputs": [],
   "source": [
    "#QUESTION 17"
   ]
  },
  {
   "cell_type": "code",
   "execution_count": 9,
   "id": "26f4bf7c-05f7-4859-9a87-a5b9f61236b3",
   "metadata": {
    "tags": []
   },
   "outputs": [],
   "source": [
    "#DESCRIBE THE CONCEPT OF \"AGGREGATION\" IN COMPOSITION AND HOW IT DIFFERS FROM SIMPLE COMPOSITION"
   ]
  },
  {
   "cell_type": "code",
   "execution_count": null,
   "id": "e2472b7f-8b2c-494b-a487-e42e98a6384f",
   "metadata": {},
   "outputs": [],
   "source": [
    "\"\"\"In the context of composition, \"aggregation\" refers to a relationship between two classes where one class \n",
    "   contains a reference to another class, but the referenced class can exist independently. \n",
    "\n",
    "   In simple composition, the composed class is responsible for the creation and destruction of the component \n",
    "   class. However, in aggregation, the component class can exist independently and can be shared among multiple\n",
    "   composed classes.\n",
    "\n",
    "   To put it simply, aggregation represents a \"has-a\" relationship, where one class has a reference to another \n",
    "   class, but they can exist independently. On the other hand, simple composition represents a stronger \"owns-a\"\n",
    "   relationship, where the composed class is responsible for the lifecycle of the component class."
   ]
  },
  {
   "cell_type": "code",
   "execution_count": null,
   "id": "aaa11c68-c08c-4636-8ec9-22ba0937cd4b",
   "metadata": {},
   "outputs": [],
   "source": []
  },
  {
   "cell_type": "code",
   "execution_count": null,
   "id": "b540beb4-40e3-4b01-9e27-84d915ef0569",
   "metadata": {},
   "outputs": [],
   "source": []
  },
  {
   "cell_type": "code",
   "execution_count": 10,
   "id": "9c96a5a8-8293-45c6-8b1d-4ee88417d2e5",
   "metadata": {
    "tags": []
   },
   "outputs": [],
   "source": [
    "#QUESTION 18"
   ]
  },
  {
   "cell_type": "code",
   "execution_count": 11,
   "id": "adb76972-468a-485a-8e19-fc514ad3442c",
   "metadata": {
    "tags": []
   },
   "outputs": [],
   "source": [
    "#CREATE A PYTHON CLASS FOR A HOUSE, USING COMPOSITION TO REPRESENT ROOMS, FURNITURE, AND APPLIANCES."
   ]
  },
  {
   "cell_type": "code",
   "execution_count": 27,
   "id": "8c3bdbcf-b88a-4aa1-bce9-e06011af19c8",
   "metadata": {
    "tags": []
   },
   "outputs": [],
   "source": [
    "class House:\n",
    "    def __init__(self, rooms):\n",
    "        self.rooms = rooms\n",
    "\n",
    "class Room:\n",
    "    def __init__(self, name, furniture, appliances):\n",
    "        self.name = name\n",
    "        self.furniture = furniture\n",
    "        self.appliances = appliances\n",
    "\n",
    "class Furniture:\n",
    "    def __init__(self, name):\n",
    "        self.name = name\n",
    "\n",
    "class Appliance:\n",
    "    def __init__(self, name):\n",
    "        self.name = name\n",
    "sofa = Furniture(\"Sofa\")\n",
    "table = Furniture(\"Table\")\n",
    "bed = Furniture(\"Bed\")\n",
    "tv = Appliance(\"TV\")\n",
    "fridge = Appliance(\"Fridge\")\n",
    "oven = Appliance(\"Oven\")\n",
    "living_room = Room(\"Living Room\", [sofa, table], [tv])\n",
    "kitchen = Room(\"Kitchen\", [], [fridge, oven])\n",
    "bedroom = Room(\"Bedroom\", [bed], [])\n",
    "house = House([living_room, kitchen, bedroom])"
   ]
  },
  {
   "cell_type": "code",
   "execution_count": null,
   "id": "6cc647ef-2025-439b-9504-878f7be72bd5",
   "metadata": {},
   "outputs": [],
   "source": []
  },
  {
   "cell_type": "code",
   "execution_count": null,
   "id": "fe1e4b53-5c0c-4483-8a80-3306057c72f1",
   "metadata": {},
   "outputs": [],
   "source": []
  },
  {
   "cell_type": "code",
   "execution_count": 12,
   "id": "7fcb9d3b-6174-43b1-be3f-61db7cc9698b",
   "metadata": {
    "tags": []
   },
   "outputs": [],
   "source": [
    "#QUESTION 19"
   ]
  },
  {
   "cell_type": "code",
   "execution_count": 13,
   "id": "01527f8d-b8c3-4d2b-a8a6-a44cc1dbc322",
   "metadata": {
    "tags": []
   },
   "outputs": [],
   "source": [
    "#HOW CAN YOU ACHIEVE FLEXIBILITY IN COMPOSED OBJECTS BY ALLOWING THEM TO BE REPLACED OR MODIFIED DYNAMICALLY AT RUNTIME?"
   ]
  },
  {
   "cell_type": "code",
   "execution_count": 22,
   "id": "60451b63-a0d5-4387-b430-75a7d023344c",
   "metadata": {
    "tags": []
   },
   "outputs": [
    {
     "name": "stdout",
     "output_type": "stream",
     "text": [
      "Hero attacks with Bow and deals 8 damage!\n",
      "Hero defends with Shield and reduces incoming damage by 7 points!\n",
      "Hero's inventory:\n",
      "- Health Potion\n",
      "- Mana Potion\n",
      "- Key\n",
      "- Magic Scroll\n"
     ]
    }
   ],
   "source": [
    "class Character:\n",
    "    def __init__(self, name, weapon, armor, inventory):\n",
    "        self.name = name\n",
    "        self.weapon = weapon\n",
    "        self.armor = armor\n",
    "        self.inventory = inventory\n",
    "\n",
    "    def attack(self):\n",
    "        print(f\"{self.name} attacks with {self.weapon.name} and deals {self.weapon.damage} damage!\")\n",
    "\n",
    "    def defend(self):\n",
    "        print(f\"{self.name} defends with {self.armor.name} and reduces incoming damage by {self.armor.defense} points!\")\n",
    "\n",
    "    def show_inventory(self):\n",
    "        print(f\"{self.name}'s inventory:\")\n",
    "        for item in self.inventory.items:\n",
    "            print(f\"- {item}\")\n",
    "\n",
    "# Create initial instances of composed objects\n",
    "sword = Weapon(\"Sword\", 10)\n",
    "helmet = Armor(\"Helmet\", 5)\n",
    "items = [\"Health Potion\", \"Mana Potion\", \"Key\"]\n",
    "inventory = Inventory(items)\n",
    "\n",
    "# Create character with initial composed objects\n",
    "player = Character(\"Hero\", sword, helmet, inventory)\n",
    "\n",
    "# Replace or modify composed objects dynamically at runtime\n",
    "player.weapon = bow  # Replace weapon with a bow\n",
    "player.armor = shield  # Replace armor with a shield\n",
    "player.inventory.items.append(\"Magic Scroll\")  # Add a new item to the inventory\n",
    "\n",
    "# Interact with the modified character\n",
    "player.attack()\n",
    "player.defend()\n",
    "player.show_inventory()"
   ]
  },
  {
   "cell_type": "code",
   "execution_count": null,
   "id": "1de0fe62-3790-4065-ac58-70547e700dfb",
   "metadata": {},
   "outputs": [],
   "source": []
  },
  {
   "cell_type": "code",
   "execution_count": null,
   "id": "df7631ca-98d6-4469-9c6d-2c3483194e7b",
   "metadata": {},
   "outputs": [],
   "source": []
  },
  {
   "cell_type": "code",
   "execution_count": 14,
   "id": "f30eaf2d-30b3-4ae4-9360-cf84d5c83f07",
   "metadata": {
    "tags": []
   },
   "outputs": [],
   "source": [
    "#QUESTION 20"
   ]
  },
  {
   "cell_type": "code",
   "execution_count": 15,
   "id": "4d0b8177-899f-4db8-9431-3242b352909e",
   "metadata": {
    "tags": []
   },
   "outputs": [],
   "source": [
    "#CREATE A PYTHON CLASS FOR A SOCIAL MEDIA APPLICATION, USING COMPOSITION TO REPRESENT USERS, POSTS AND COMMENTS."
   ]
  },
  {
   "cell_type": "code",
   "execution_count": 25,
   "id": "351dd743-a9f7-4637-a50f-4f397d590aff",
   "metadata": {
    "tags": []
   },
   "outputs": [
    {
     "name": "stdout",
     "output_type": "stream",
     "text": [
      "Hello,world!\n",
      "Great post!\n"
     ]
    }
   ],
   "source": [
    "class User:\n",
    "    def __init__(self,name):\n",
    "        self.name=name\n",
    "        self.posts=[]\n",
    "        self.comments=[]\n",
    "\n",
    "    def create_post(self,content):\n",
    "        post=Post(content)\n",
    "        self.posts.append(post)\n",
    "        return post\n",
    "\n",
    "    def create_comment(self,post,text):\n",
    "        comment=Comments(text)\n",
    "        post.comments.append(comment)\n",
    "        self.comments.append(comment)\n",
    "        return comment\n",
    "class Post:\n",
    "    def __init__(self,content):\n",
    "        self.content=content\n",
    "        self.comments=[]\n",
    "class Comments:\n",
    "    def __init__(self,text):\n",
    "        self.text=text\n",
    "user1=User(\"Nikita\")\n",
    "post1=user1.create_post(\"Hello,world!\")\n",
    "comment1 = user1.create_comment(post1,\"Great post!\")\n",
    "\n",
    "print(user1.posts[0].content)\n",
    "print(user1.comments[0].text)\n",
    "        "
   ]
  },
  {
   "cell_type": "code",
   "execution_count": null,
   "id": "93f6bdf9-cca0-4e02-a0cb-38dc759317da",
   "metadata": {},
   "outputs": [],
   "source": []
  }
 ],
 "metadata": {
  "kernelspec": {
   "display_name": "Python 3 (ipykernel)",
   "language": "python",
   "name": "python3"
  },
  "language_info": {
   "codemirror_mode": {
    "name": "ipython",
    "version": 3
   },
   "file_extension": ".py",
   "mimetype": "text/x-python",
   "name": "python",
   "nbconvert_exporter": "python",
   "pygments_lexer": "ipython3",
   "version": "3.11.4"
  }
 },
 "nbformat": 4,
 "nbformat_minor": 5
}
